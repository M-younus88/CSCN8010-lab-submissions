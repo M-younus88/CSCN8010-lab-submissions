{
 "cells": [
  {
   "attachments": {},
   "cell_type": "markdown",
   "id": "0b4cd1d3",
   "metadata": {},
   "source": [
    "# Part-I"
   ]
  },
  {
   "cell_type": "code",
   "execution_count": 9,
   "id": "6708f283",
   "metadata": {},
   "outputs": [],
   "source": [
    "from sklearn.linear_model import LogisticRegression\n",
    "from sklearn.metrics import accuracy_score, confusion_matrix\n",
    "from sklearn.model_selection import train_test_split\n",
    "from sklearn.datasets import load_iris\n",
    "import numpy as np\n"
   ]
  },
  {
   "cell_type": "code",
   "execution_count": 2,
   "id": "cf7f0ef8",
   "metadata": {},
   "outputs": [],
   "source": [
    "# Load the Iris dataset\n",
    "df = load_iris()"
   ]
  },
  {
   "cell_type": "code",
   "execution_count": 10,
   "id": "d0d995ac",
   "metadata": {},
   "outputs": [],
   "source": [
    "X=df.data\n",
    "y=df.target"
   ]
  },
  {
   "cell_type": "code",
   "execution_count": 6,
   "id": "dfcdda6f",
   "metadata": {},
   "outputs": [
    {
     "data": {
      "text/plain": [
       "array([[5.1, 3.5, 1.4, 0.2],\n",
       "       [4.9, 3. , 1.4, 0.2],\n",
       "       [4.7, 3.2, 1.3, 0.2],\n",
       "       [4.6, 3.1, 1.5, 0.2],\n",
       "       [5. , 3.6, 1.4, 0.2]])"
      ]
     },
     "execution_count": 6,
     "metadata": {},
     "output_type": "execute_result"
    }
   ],
   "source": [
    "X[:5]\n"
   ]
  },
  {
   "cell_type": "code",
   "execution_count": 7,
   "id": "846d9d79",
   "metadata": {},
   "outputs": [
    {
     "data": {
      "text/plain": [
       "array([0, 0, 0, 0, 0])"
      ]
     },
     "execution_count": 7,
     "metadata": {},
     "output_type": "execute_result"
    }
   ],
   "source": [
    "y[:5]"
   ]
  },
  {
   "cell_type": "code",
   "execution_count": 11,
   "id": "6e016f7f",
   "metadata": {},
   "outputs": [
    {
     "data": {
      "text/plain": [
       "(array([0, 1, 2]), array([50, 50, 50], dtype=int64))"
      ]
     },
     "execution_count": 11,
     "metadata": {},
     "output_type": "execute_result"
    }
   ],
   "source": [
    "unique_1 = np.unique(y, return_counts=True)\n",
    "unique_1"
   ]
  },
  {
   "attachments": {},
   "cell_type": "markdown",
   "id": "2e052ee5",
   "metadata": {},
   "source": [
    "labels"
   ]
  },
  {
   "cell_type": "code",
   "execution_count": 12,
   "id": "cb921c5f",
   "metadata": {},
   "outputs": [],
   "source": [
    "import numpy as np\n",
    "y_binary = (y == 2)\n",
    "y_binary = y_binary.astype(int)"
   ]
  },
  {
   "attachments": {},
   "cell_type": "markdown",
   "id": "0e3f28a5",
   "metadata": {},
   "source": [
    "making it  into a 2 class classification"
   ]
  },
  {
   "cell_type": "code",
   "execution_count": 16,
   "id": "2ce9d137",
   "metadata": {},
   "outputs": [
    {
     "name": "stdout",
     "output_type": "stream",
     "text": [
      "[0 0 0 0 0 0 0 0 0 0 0 0 0 0 0 0 0 0 0 0 0 0 0 0 0 0 0 0 0 0 0 0 0 0 0 0 0\n",
      " 0 0 0 0 0 0 0 0 0 0 0 0 0 0 0 0 0 0 0 0 0 0 0 0 0 0 0 0 0 0 0 0 0 0 0 0 0\n",
      " 0 0 0 0 0 0 0 0 0 0 0 0 0 0 0 0 0 0 0 0 0 0 0 0 0 0 1 1 1 1 1 1 1 1 1 1 1\n",
      " 1 1 1 1 1 1 1 1 1 1 1 1 1 1 1 1 1 1 1 1 1 1 1 1 1 1 1 1 1 1 1 1 1 1 1 1 1\n",
      " 1 1]\n"
     ]
    }
   ],
   "source": [
    "print(y_binary)"
   ]
  },
  {
   "cell_type": "code",
   "execution_count": 17,
   "id": "fbc5ad16",
   "metadata": {},
   "outputs": [
    {
     "data": {
      "text/plain": [
       "(array([0, 1, 2]), array([50, 50, 50], dtype=int64))"
      ]
     },
     "execution_count": 17,
     "metadata": {},
     "output_type": "execute_result"
    }
   ],
   "source": [
    "unique_1 = np.unique(y, return_counts=True)\n",
    "unique_1"
   ]
  },
  {
   "cell_type": "code",
   "execution_count": 18,
   "id": "f0b8fbf9",
   "metadata": {},
   "outputs": [],
   "source": [
    "# train test split\n",
    "X_train, X_test, y_train, y_test = train_test_split(X, y_binary, test_size=0.2)"
   ]
  },
  {
   "cell_type": "code",
   "execution_count": 19,
   "id": "74291977",
   "metadata": {},
   "outputs": [],
   "source": [
    "# Training a logistic regression model\n",
    "model = LogisticRegression()"
   ]
  },
  {
   "cell_type": "code",
   "execution_count": 20,
   "id": "7cf25713",
   "metadata": {},
   "outputs": [
    {
     "data": {
      "text/html": [
       "<style>#sk-container-id-1 {color: black;background-color: white;}#sk-container-id-1 pre{padding: 0;}#sk-container-id-1 div.sk-toggleable {background-color: white;}#sk-container-id-1 label.sk-toggleable__label {cursor: pointer;display: block;width: 100%;margin-bottom: 0;padding: 0.3em;box-sizing: border-box;text-align: center;}#sk-container-id-1 label.sk-toggleable__label-arrow:before {content: \"▸\";float: left;margin-right: 0.25em;color: #696969;}#sk-container-id-1 label.sk-toggleable__label-arrow:hover:before {color: black;}#sk-container-id-1 div.sk-estimator:hover label.sk-toggleable__label-arrow:before {color: black;}#sk-container-id-1 div.sk-toggleable__content {max-height: 0;max-width: 0;overflow: hidden;text-align: left;background-color: #f0f8ff;}#sk-container-id-1 div.sk-toggleable__content pre {margin: 0.2em;color: black;border-radius: 0.25em;background-color: #f0f8ff;}#sk-container-id-1 input.sk-toggleable__control:checked~div.sk-toggleable__content {max-height: 200px;max-width: 100%;overflow: auto;}#sk-container-id-1 input.sk-toggleable__control:checked~label.sk-toggleable__label-arrow:before {content: \"▾\";}#sk-container-id-1 div.sk-estimator input.sk-toggleable__control:checked~label.sk-toggleable__label {background-color: #d4ebff;}#sk-container-id-1 div.sk-label input.sk-toggleable__control:checked~label.sk-toggleable__label {background-color: #d4ebff;}#sk-container-id-1 input.sk-hidden--visually {border: 0;clip: rect(1px 1px 1px 1px);clip: rect(1px, 1px, 1px, 1px);height: 1px;margin: -1px;overflow: hidden;padding: 0;position: absolute;width: 1px;}#sk-container-id-1 div.sk-estimator {font-family: monospace;background-color: #f0f8ff;border: 1px dotted black;border-radius: 0.25em;box-sizing: border-box;margin-bottom: 0.5em;}#sk-container-id-1 div.sk-estimator:hover {background-color: #d4ebff;}#sk-container-id-1 div.sk-parallel-item::after {content: \"\";width: 100%;border-bottom: 1px solid gray;flex-grow: 1;}#sk-container-id-1 div.sk-label:hover label.sk-toggleable__label {background-color: #d4ebff;}#sk-container-id-1 div.sk-serial::before {content: \"\";position: absolute;border-left: 1px solid gray;box-sizing: border-box;top: 0;bottom: 0;left: 50%;z-index: 0;}#sk-container-id-1 div.sk-serial {display: flex;flex-direction: column;align-items: center;background-color: white;padding-right: 0.2em;padding-left: 0.2em;position: relative;}#sk-container-id-1 div.sk-item {position: relative;z-index: 1;}#sk-container-id-1 div.sk-parallel {display: flex;align-items: stretch;justify-content: center;background-color: white;position: relative;}#sk-container-id-1 div.sk-item::before, #sk-container-id-1 div.sk-parallel-item::before {content: \"\";position: absolute;border-left: 1px solid gray;box-sizing: border-box;top: 0;bottom: 0;left: 50%;z-index: -1;}#sk-container-id-1 div.sk-parallel-item {display: flex;flex-direction: column;z-index: 1;position: relative;background-color: white;}#sk-container-id-1 div.sk-parallel-item:first-child::after {align-self: flex-end;width: 50%;}#sk-container-id-1 div.sk-parallel-item:last-child::after {align-self: flex-start;width: 50%;}#sk-container-id-1 div.sk-parallel-item:only-child::after {width: 0;}#sk-container-id-1 div.sk-dashed-wrapped {border: 1px dashed gray;margin: 0 0.4em 0.5em 0.4em;box-sizing: border-box;padding-bottom: 0.4em;background-color: white;}#sk-container-id-1 div.sk-label label {font-family: monospace;font-weight: bold;display: inline-block;line-height: 1.2em;}#sk-container-id-1 div.sk-label-container {text-align: center;}#sk-container-id-1 div.sk-container {/* jupyter's `normalize.less` sets `[hidden] { display: none; }` but bootstrap.min.css set `[hidden] { display: none !important; }` so we also need the `!important` here to be able to override the default hidden behavior on the sphinx rendered scikit-learn.org. See: https://github.com/scikit-learn/scikit-learn/issues/21755 */display: inline-block !important;position: relative;}#sk-container-id-1 div.sk-text-repr-fallback {display: none;}</style><div id=\"sk-container-id-1\" class=\"sk-top-container\"><div class=\"sk-text-repr-fallback\"><pre>LogisticRegression()</pre><b>In a Jupyter environment, please rerun this cell to show the HTML representation or trust the notebook. <br />On GitHub, the HTML representation is unable to render, please try loading this page with nbviewer.org.</b></div><div class=\"sk-container\" hidden><div class=\"sk-item\"><div class=\"sk-estimator sk-toggleable\"><input class=\"sk-toggleable__control sk-hidden--visually\" id=\"sk-estimator-id-1\" type=\"checkbox\" checked><label for=\"sk-estimator-id-1\" class=\"sk-toggleable__label sk-toggleable__label-arrow\">LogisticRegression</label><div class=\"sk-toggleable__content\"><pre>LogisticRegression()</pre></div></div></div></div></div>"
      ],
      "text/plain": [
       "LogisticRegression()"
      ]
     },
     "execution_count": 20,
     "metadata": {},
     "output_type": "execute_result"
    }
   ],
   "source": [
    "model.fit(X_train, y_train)"
   ]
  },
  {
   "cell_type": "code",
   "execution_count": 21,
   "id": "9428f18f",
   "metadata": {},
   "outputs": [],
   "source": [
    "# test predictions\n",
    "y_pred = model.predict(X_test)"
   ]
  },
  {
   "cell_type": "code",
   "execution_count": 23,
   "id": "f15fcbbc",
   "metadata": {},
   "outputs": [
    {
     "data": {
      "text/plain": [
       "1.0"
      ]
     },
     "execution_count": 23,
     "metadata": {},
     "output_type": "execute_result"
    }
   ],
   "source": [
    "#  accuracy \n",
    "accuracy = accuracy_score(y_test, y_pred)\n",
    "accuracy"
   ]
  },
  {
   "attachments": {},
   "cell_type": "markdown",
   "id": "56a88b9d",
   "metadata": {},
   "source": [
    "100% accuracy"
   ]
  },
  {
   "cell_type": "code",
   "execution_count": 24,
   "id": "21e894df",
   "metadata": {},
   "outputs": [],
   "source": [
    "# Calculate confusion matrix\n",
    "confusion_matrix_ = confusion_matrix(y_test, y_pred)\n"
   ]
  },
  {
   "cell_type": "code",
   "execution_count": 25,
   "id": "39e2bc42",
   "metadata": {},
   "outputs": [
    {
     "data": {
      "text/plain": [
       "array([[19,  0],\n",
       "       [ 0, 11]], dtype=int64)"
      ]
     },
     "execution_count": 25,
     "metadata": {},
     "output_type": "execute_result"
    }
   ],
   "source": [
    "confusion_matrix_"
   ]
  },
  {
   "attachments": {},
   "cell_type": "markdown",
   "id": "5705f08c",
   "metadata": {},
   "source": [
    "## part 2"
   ]
  },
  {
   "attachments": {},
   "cell_type": "markdown",
   "id": "e2d69950",
   "metadata": {},
   "source": [
    "Interpretations\n",
    "The model's proficiency can be evaluated by the accuracy score acquired from the test data, which signifies the ratio of samples that were correctly predicted.\n",
    "The coefficients of the logistic regression model can provide us with an understanding of the importance of each feature in the classification procedure. If a coefficient is positive, it means that an increase in the corresponding feature value will increase the odds of the sample being classified as \"virginica,\" while a negative coefficient suggests the opposite. By examining these coefficients, we can determine which features play a significant role in the classification decision.\n",
    "Given that the accuracy is 1, it suggests the presence of overfitting.\n",
    "Incorrect Predictions\n",
    "Observing the accuracy score reveals that the model exhibits a 100% accuracy rate, which may not hold true in reality. However, according to the model, no prediction for any data point is incorrect.\n",
    "\n",
    "Common Traits\n",
    "Examine Feature Values: Investigate the feature values of inaccurately classified instances to uncover any shared characteristics or patterns. Scrutinize the features for certain ranges, combinations, or relationships that might lead to incorrect classifications. Inspect if there are samples with similar petal lengths but varying sepal widths, or if a certain feature range experiences more misclassifications.\n",
    "\n",
    "Construct visual representations for the incorrectly classified instances and their feature distributions, like scatter plots or histograms. Individually plotting the inaccurately classified samples for each class might highlight any overlap areas or instances near the decision boundary. These visual aids can assist the model in pinpointing potential areas of confusion.\n",
    "\n",
    "Evaluation\n",
    "Overfitting: Overfitting arises when a model performs exceptionally well on the training data but does not extend this performance to unseen data. The model might have learned the training data too well, even memorizing noise and outliers, which leads to perfect accuracy. However, its performance on new data could be less than ideal. Overfitting can be described with phrases like:\n",
    "Over-optimization: The model has fine-tuned itself excessively to the training data, which leads to perfect accuracy.\n",
    "\n",
    "Data Memorization: The model has virtually remembered the training data, including its anomalies or noise.\n",
    "\n",
    "Lack of Generalization: The model might not extrapolate well to unseen data, rendering its perfect accuracy untrustworthy for real-world scenarios.\n",
    "\n",
    "Excellence: On the contrary, if the model achieves 100% accuracy and can still perform well on new, unseen data, it demonstrates excellence. The model has successfully identified the underlying patterns and relationships in the data without overfitting. Phrases to describe excellence include:\n",
    "Exceptional: The model's flawless accuracy showcases its extraordinary performance and capability to understand the complexity of the dataset.\n",
    "\n",
    "Outstanding: The model's accuracy is impressive, reflecting its superior performance in accurately categorizing instances."
   ]
  }
 ],
 "metadata": {
  "kernelspec": {
   "display_name": "Python 3",
   "language": "python",
   "name": "python3"
  },
  "language_info": {
   "codemirror_mode": {
    "name": "ipython",
    "version": 3
   },
   "file_extension": ".py",
   "mimetype": "text/x-python",
   "name": "python",
   "nbconvert_exporter": "python",
   "pygments_lexer": "ipython3",
   "version": "3.11.3"
  }
 },
 "nbformat": 4,
 "nbformat_minor": 5
}
