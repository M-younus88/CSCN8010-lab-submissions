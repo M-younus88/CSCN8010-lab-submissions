{
 "cells": [
  {
   "attachments": {},
   "cell_type": "markdown",
   "metadata": {},
   "source": [
    "## lab 5 cross validation\n",
    "1. Utilize the diabetes dataset from lab 4. Perform cross-validation on nine polynomial models, ranging from degree 0 to 8. (2 points)  \n",
    "2. Construct a table summarizing the cross-validation results. Each model should have a separate row in the table. Include the R-Squared and Mean Absolute Error (MAE) metrics for each model. Calculate the mean value and standard deviation of these metrics from the cross-validation. Include both values. (2 points)  \n",
    "3. Identification of the Best Model: Identify the model that exhibits the highest performance based on the R-Squared and MAE metrics. Provide an explanation for choosing this specific model. (2 points)  "
   ]
  },
  {
   "cell_type": "code",
   "execution_count": 1,
   "metadata": {},
   "outputs": [],
   "source": [
    "import pandas as pd\n",
    "import numpy as np\n",
    "import matplotlib.pyplot as plt\n",
    "from sklearn import datasets\n",
    "from sklearn.pipeline import make_pipeline\n",
    "from sklearn.model_selection import train_test_split\n",
    "from sklearn.preprocessing import PolynomialFeatures\n",
    "from sklearn.linear_model import LinearRegression\n",
    "from sklearn.model_selection import KFold, cross_val_score"
   ]
  },
  {
   "cell_type": "code",
   "execution_count": 2,
   "metadata": {},
   "outputs": [
    {
     "data": {
      "text/plain": [
       "((442, 10), (442,))"
      ]
     },
     "execution_count": 2,
     "metadata": {},
     "output_type": "execute_result"
    }
   ],
   "source": [
    "X, y = datasets.load_diabetes(as_frame=True, scaled=False, return_X_y=True)\n",
    "X.shape, y.shape"
   ]
  },
  {
   "cell_type": "code",
   "execution_count": 3,
   "metadata": {},
   "outputs": [
    {
     "data": {
      "text/plain": [
       "((353, 10), (353,))"
      ]
     },
     "execution_count": 3,
     "metadata": {},
     "output_type": "execute_result"
    }
   ],
   "source": [
    "# Splitting Data into training and testing data sets\n",
    "X_train, X_test, y_train, y_test = train_test_split(X, y, test_size=0.2)\n",
    "\n",
    "X_train.shape, y_train.shape"
   ]
  },
  {
   "cell_type": "code",
   "execution_count": 4,
   "metadata": {},
   "outputs": [
    {
     "data": {
      "text/plain": [
       "((89, 10), (89,))"
      ]
     },
     "execution_count": 4,
     "metadata": {},
     "output_type": "execute_result"
    }
   ],
   "source": [
    "X_test.shape, y_test.shape"
   ]
  },
  {
   "cell_type": "code",
   "execution_count": 6,
   "metadata": {},
   "outputs": [
    {
     "data": {
      "text/plain": [
       "(    age  sex   bmi     bp     s1     s2    s3   s4      s5    s6\n",
       " 0  59.0  2.0  32.1  101.0  157.0   93.2  38.0  4.0  4.8598  87.0\n",
       " 1  48.0  1.0  21.6   87.0  183.0  103.2  70.0  3.0  3.8918  69.0\n",
       " 2  72.0  2.0  30.5   93.0  156.0   93.6  41.0  4.0  4.6728  85.0\n",
       " 3  24.0  1.0  25.3   84.0  198.0  131.4  40.0  5.0  4.8903  89.0\n",
       " 4  50.0  1.0  23.0  101.0  192.0  125.4  52.0  4.0  4.2905  80.0,\n",
       " 0    151.0\n",
       " 1     75.0\n",
       " 2    141.0\n",
       " 3    206.0\n",
       " 4    135.0\n",
       " Name: target, dtype: float64)"
      ]
     },
     "execution_count": 6,
     "metadata": {},
     "output_type": "execute_result"
    }
   ],
   "source": [
    "X.head(), y.head()"
   ]
  },
  {
   "cell_type": "code",
   "execution_count": 9,
   "metadata": {},
   "outputs": [],
   "source": [
    "cross_validation_scores = []\n",
    "\n",
    "for degree in range(0,9):\n",
    "    # Make a pipeline\n",
    "    model = make_pipeline(PolynomialFeatures(degree), LinearRegression())\n",
    "    \n",
    "    # finding r squared errors\n",
    "    r_squared = cross_val_score(model, X, y, scoring='r2')\n",
    "    r_squared_mean = r_squared.mean()\n",
    "    r_squared_std = r_squared.std()\n",
    "\n",
    "    # finding MAE errors\n",
    "    MAE = cross_val_score(model, X, y)\n",
    "    mean_MAE = MAE.mean()\n",
    "    std_MAE = MAE.std()\n",
    "\n",
    "    cross_validation_scores.append([degree ,r_squared_mean, r_squared_std, mean_MAE, std_MAE])"
   ]
  },
  {
   "cell_type": "code",
   "execution_count": 10,
   "metadata": {},
   "outputs": [],
   "source": [
    "df = pd.DataFrame(cross_validation_scores, columns=['Degree',\"R-Squared's Mean\",\"R-Squared's std\", \"MAE's Mean\", \"MAE'std\"])\n"
   ]
  },
  {
   "cell_type": "code",
   "execution_count": 11,
   "metadata": {},
   "outputs": [
    {
     "data": {
      "text/html": [
       "<div>\n",
       "<style scoped>\n",
       "    .dataframe tbody tr th:only-of-type {\n",
       "        vertical-align: middle;\n",
       "    }\n",
       "\n",
       "    .dataframe tbody tr th {\n",
       "        vertical-align: top;\n",
       "    }\n",
       "\n",
       "    .dataframe thead th {\n",
       "        text-align: right;\n",
       "    }\n",
       "</style>\n",
       "<table border=\"1\" class=\"dataframe\">\n",
       "  <thead>\n",
       "    <tr style=\"text-align: right;\">\n",
       "      <th></th>\n",
       "      <th>Degree</th>\n",
       "      <th>R-Squared's Mean</th>\n",
       "      <th>R-Squared's std</th>\n",
       "      <th>MAE's Mean</th>\n",
       "      <th>MAE'std</th>\n",
       "    </tr>\n",
       "  </thead>\n",
       "  <tbody>\n",
       "    <tr>\n",
       "      <th>0</th>\n",
       "      <td>0</td>\n",
       "      <td>-0.027506</td>\n",
       "      <td>0.036772</td>\n",
       "      <td>-0.027506</td>\n",
       "      <td>0.036772</td>\n",
       "    </tr>\n",
       "    <tr>\n",
       "      <th>1</th>\n",
       "      <td>1</td>\n",
       "      <td>0.482316</td>\n",
       "      <td>0.049269</td>\n",
       "      <td>0.482316</td>\n",
       "      <td>0.049269</td>\n",
       "    </tr>\n",
       "    <tr>\n",
       "      <th>2</th>\n",
       "      <td>2</td>\n",
       "      <td>-0.528281</td>\n",
       "      <td>1.086913</td>\n",
       "      <td>-0.528281</td>\n",
       "      <td>1.086913</td>\n",
       "    </tr>\n",
       "    <tr>\n",
       "      <th>3</th>\n",
       "      <td>3</td>\n",
       "      <td>-203.419757</td>\n",
       "      <td>225.878956</td>\n",
       "      <td>-203.419757</td>\n",
       "      <td>225.878956</td>\n",
       "    </tr>\n",
       "    <tr>\n",
       "      <th>4</th>\n",
       "      <td>4</td>\n",
       "      <td>-571.083108</td>\n",
       "      <td>369.891883</td>\n",
       "      <td>-571.083108</td>\n",
       "      <td>369.891883</td>\n",
       "    </tr>\n",
       "    <tr>\n",
       "      <th>5</th>\n",
       "      <td>5</td>\n",
       "      <td>-436.856887</td>\n",
       "      <td>379.100423</td>\n",
       "      <td>-436.856887</td>\n",
       "      <td>379.100423</td>\n",
       "    </tr>\n",
       "    <tr>\n",
       "      <th>6</th>\n",
       "      <td>6</td>\n",
       "      <td>-1695.473267</td>\n",
       "      <td>2632.637763</td>\n",
       "      <td>-1695.473267</td>\n",
       "      <td>2632.637763</td>\n",
       "    </tr>\n",
       "    <tr>\n",
       "      <th>7</th>\n",
       "      <td>7</td>\n",
       "      <td>-5530.894075</td>\n",
       "      <td>9518.586955</td>\n",
       "      <td>-5530.894075</td>\n",
       "      <td>9518.586955</td>\n",
       "    </tr>\n",
       "    <tr>\n",
       "      <th>8</th>\n",
       "      <td>8</td>\n",
       "      <td>-16076.255116</td>\n",
       "      <td>28049.952578</td>\n",
       "      <td>-16076.255116</td>\n",
       "      <td>28049.952578</td>\n",
       "    </tr>\n",
       "  </tbody>\n",
       "</table>\n",
       "</div>"
      ],
      "text/plain": [
       "   Degree  R-Squared's Mean  R-Squared's std    MAE's Mean       MAE'std\n",
       "0       0         -0.027506         0.036772     -0.027506      0.036772\n",
       "1       1          0.482316         0.049269      0.482316      0.049269\n",
       "2       2         -0.528281         1.086913     -0.528281      1.086913\n",
       "3       3       -203.419757       225.878956   -203.419757    225.878956\n",
       "4       4       -571.083108       369.891883   -571.083108    369.891883\n",
       "5       5       -436.856887       379.100423   -436.856887    379.100423\n",
       "6       6      -1695.473267      2632.637763  -1695.473267   2632.637763\n",
       "7       7      -5530.894075      9518.586955  -5530.894075   9518.586955\n",
       "8       8     -16076.255116     28049.952578 -16076.255116  28049.952578"
      ]
     },
     "execution_count": 11,
     "metadata": {},
     "output_type": "execute_result"
    }
   ],
   "source": [
    "df"
   ]
  },
  {
   "cell_type": "code",
   "execution_count": 16,
   "metadata": {},
   "outputs": [
    {
     "name": "stdout",
     "output_type": "stream",
     "text": [
      "Degree              1.000000\n",
      "R-Squared's Mean    0.482316\n",
      "R-Squared's std     0.049269\n",
      "MAE's Mean          0.482316\n",
      "MAE'std             0.049269\n",
      "Name: 1, dtype: float64 Degree                  8.000000\n",
      "R-Squared's Mean   -16076.255116\n",
      "R-Squared's std     28049.952578\n",
      "MAE's Mean         -16076.255116\n",
      "MAE'std             28049.952578\n",
      "Name: 8, dtype: float64\n"
     ]
    }
   ],
   "source": [
    "# Identify the model with the highest mean R-Squared\n",
    "best_r2_model = df.loc[df[\"R-Squared's Mean\"].idxmax()]\n",
    "\n",
    "# Identify the model with the lowest mean MAE\n",
    "best_mae_model = df.loc[df[\"MAE's Mean\"].idxmin()]\n",
    "\n",
    "print(best_r2_model, best_mae_model)\n"
   ]
  },
  {
   "attachments": {},
   "cell_type": "markdown",
   "metadata": {},
   "source": [
    "##### Based on the information we have r squared errors mean and satandard deviation and MAE mean and std\n",
    "#### the best model is of degree 1"
   ]
  },
  {
   "attachments": {},
   "cell_type": "markdown",
   "metadata": {},
   "source": []
  }
 ],
 "metadata": {
  "kernelspec": {
   "display_name": "Python 3 (ipykernel)",
   "language": "python",
   "name": "python3"
  },
  "language_info": {
   "codemirror_mode": {
    "name": "ipython",
    "version": 3
   },
   "file_extension": ".py",
   "mimetype": "text/x-python",
   "name": "python",
   "nbconvert_exporter": "python",
   "pygments_lexer": "ipython3",
   "version": "3.11.3"
  }
 },
 "nbformat": 4,
 "nbformat_minor": 4
}
