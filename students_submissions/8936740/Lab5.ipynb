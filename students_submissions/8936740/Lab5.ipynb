{
 "cells": [
  {
   "attachments": {},
   "cell_type": "markdown",
   "metadata": {},
   "source": [
    "# Jia Zeng 8936740 - Lab 5\n",
    "---"
   ]
  },
  {
   "attachments": {},
   "cell_type": "markdown",
   "metadata": {},
   "source": [
    "1. Utilize the diabetes dataset from lab 4. Perform cross-validation on nine polynomial models, ranging from degree 0 to 8. (2 points)"
   ]
  },
  {
   "cell_type": "code",
   "execution_count": 71,
   "metadata": {},
   "outputs": [],
   "source": [
    "from sklearn import datasets\n",
    "from sklearn.model_selection import train_test_split\n",
    "from matplotlib import pyplot as plt\n",
    "from sklearn.model_selection import cross_val_score\n",
    "from sklearn.preprocessing import PolynomialFeatures\n",
    "from sklearn.pipeline import make_pipeline\n",
    "from sklearn.linear_model import LinearRegression\n",
    "import numpy as np\n",
    "import pandas as pd\n",
    "\n",
    "X, y = datasets.load_diabetes(as_frame=True, scaled=False, return_X_y=True)\n",
    "\n",
    "X_train, X_test, y_train, y_test = train_test_split(X, y, test_size=0.2, random_state=42)"
   ]
  },
  {
   "cell_type": "code",
   "execution_count": 72,
   "metadata": {},
   "outputs": [],
   "source": [
    "# Loop over degrees to test\n",
    "degrees = np.arange(9) # 9 is exclusive"
   ]
  },
  {
   "attachments": {},
   "cell_type": "markdown",
   "metadata": {},
   "source": [
    "---\n",
    "2. Construct a table summarizing the cross-validation results. Each model should have a separate row in the table. Include the R-Squared and Mean Absolute Error (MAE) metrics for each model. Calculate the mean value and standard deviation of these metrics from the cross-validation. Include both values. (2 points)"
   ]
  },
  {
   "cell_type": "code",
   "execution_count": 73,
   "metadata": {},
   "outputs": [],
   "source": [
    "cross_val_scores = []\n",
    "cvs = []\n",
    "for degree in degrees:\n",
    "    # Create a pipeline that creates polynomial features, then applies linear regression\n",
    "    model = make_pipeline(PolynomialFeatures(degree), LinearRegression())\n",
    "    r2 = cross_val_score(model, X, y, cv=3, scoring=\"r2\")\n",
    "    mae = cross_val_score(model, X, y, cv=3, scoring=\"neg_mean_absolute_error\")\n",
    "    r2Mean = r2.mean()\n",
    "    stdMean = r2.std()  \n",
    "    maeMean = mae.mean()\n",
    "    maeStd = mae.std()\n",
    "    cross_val_scores.append([r2Mean, stdMean, maeMean, maeStd])\n",
    "        \n",
    "    # Use cross-validation to compute the mean score across multiple splits of the data\n",
    "    score = cross_val_score(model, X, y, cv=3).mean()\n",
    "    cvs.append(score)\n"
   ]
  },
  {
   "cell_type": "code",
   "execution_count": 74,
   "metadata": {},
   "outputs": [
    {
     "data": {
      "text/html": [
       "<div>\n",
       "<style scoped>\n",
       "    .dataframe tbody tr th:only-of-type {\n",
       "        vertical-align: middle;\n",
       "    }\n",
       "\n",
       "    .dataframe tbody tr th {\n",
       "        vertical-align: top;\n",
       "    }\n",
       "\n",
       "    .dataframe thead th {\n",
       "        text-align: right;\n",
       "    }\n",
       "</style>\n",
       "<table border=\"1\" class=\"dataframe\">\n",
       "  <thead>\n",
       "    <tr style=\"text-align: right;\">\n",
       "      <th></th>\n",
       "      <th>R-Square Mean</th>\n",
       "      <th>R-Square STD</th>\n",
       "      <th>MAE Mean</th>\n",
       "      <th>MAE STD</th>\n",
       "    </tr>\n",
       "  </thead>\n",
       "  <tbody>\n",
       "    <tr>\n",
       "      <th>0</th>\n",
       "      <td>-0.004217</td>\n",
       "      <td>0.002981</td>\n",
       "      <td>-65.855977</td>\n",
       "      <td>2.234298</td>\n",
       "    </tr>\n",
       "    <tr>\n",
       "      <th>1</th>\n",
       "      <td>0.488702</td>\n",
       "      <td>0.016462</td>\n",
       "      <td>-44.521891</td>\n",
       "      <td>2.307506</td>\n",
       "    </tr>\n",
       "    <tr>\n",
       "      <th>2</th>\n",
       "      <td>-1.080720</td>\n",
       "      <td>1.198419</td>\n",
       "      <td>-78.644687</td>\n",
       "      <td>23.990861</td>\n",
       "    </tr>\n",
       "    <tr>\n",
       "      <th>3</th>\n",
       "      <td>-212.370534</td>\n",
       "      <td>111.712570</td>\n",
       "      <td>-532.922052</td>\n",
       "      <td>76.350546</td>\n",
       "    </tr>\n",
       "    <tr>\n",
       "      <th>4</th>\n",
       "      <td>-178.486711</td>\n",
       "      <td>32.364115</td>\n",
       "      <td>-493.371673</td>\n",
       "      <td>20.907164</td>\n",
       "    </tr>\n",
       "    <tr>\n",
       "      <th>5</th>\n",
       "      <td>-311.494718</td>\n",
       "      <td>242.346724</td>\n",
       "      <td>-537.332382</td>\n",
       "      <td>81.324450</td>\n",
       "    </tr>\n",
       "    <tr>\n",
       "      <th>6</th>\n",
       "      <td>-763.470422</td>\n",
       "      <td>442.361767</td>\n",
       "      <td>-703.681545</td>\n",
       "      <td>83.963115</td>\n",
       "    </tr>\n",
       "    <tr>\n",
       "      <th>7</th>\n",
       "      <td>-2151.138439</td>\n",
       "      <td>1237.694181</td>\n",
       "      <td>-939.437743</td>\n",
       "      <td>139.329160</td>\n",
       "    </tr>\n",
       "    <tr>\n",
       "      <th>8</th>\n",
       "      <td>-6561.292117</td>\n",
       "      <td>5343.569268</td>\n",
       "      <td>-1336.118020</td>\n",
       "      <td>266.717508</td>\n",
       "    </tr>\n",
       "  </tbody>\n",
       "</table>\n",
       "</div>"
      ],
      "text/plain": [
       "   R-Square Mean  R-Square STD     MAE Mean     MAE STD\n",
       "0      -0.004217      0.002981   -65.855977    2.234298\n",
       "1       0.488702      0.016462   -44.521891    2.307506\n",
       "2      -1.080720      1.198419   -78.644687   23.990861\n",
       "3    -212.370534    111.712570  -532.922052   76.350546\n",
       "4    -178.486711     32.364115  -493.371673   20.907164\n",
       "5    -311.494718    242.346724  -537.332382   81.324450\n",
       "6    -763.470422    442.361767  -703.681545   83.963115\n",
       "7   -2151.138439   1237.694181  -939.437743  139.329160\n",
       "8   -6561.292117   5343.569268 -1336.118020  266.717508"
      ]
     },
     "execution_count": 74,
     "metadata": {},
     "output_type": "execute_result"
    }
   ],
   "source": [
    "df = pd.DataFrame(cross_val_scores, columns=[\"R-Square Mean\", \"R-Square STD\", \"MAE Mean\", \"MAE STD\"])\n",
    "df.head(9)"
   ]
  },
  {
   "attachments": {},
   "cell_type": "markdown",
   "metadata": {},
   "source": [
    "---\n",
    "3. Identification of the Best Model: Identify the model that exhibits the highest performance based on the R-Squared and MAE metrics. Provide an explanation for choosing this specific model. (2 points)"
   ]
  },
  {
   "cell_type": "code",
   "execution_count": 75,
   "metadata": {},
   "outputs": [
    {
     "name": "stdout",
     "output_type": "stream",
     "text": [
      "The best R-Square degree is 1\n",
      "   R-Square Mean  R-Square STD   MAE Mean   MAE STD\n",
      "1       0.488702      0.016462 -44.521891  2.307506\n",
      "\n",
      "The best MAE degree is 1\n",
      "   R-Square Mean  R-Square STD   MAE Mean   MAE STD\n",
      "1       0.488702      0.016462 -44.521891  2.307506\n"
     ]
    }
   ],
   "source": [
    "# Choose the degree with the highest r2 cross-validation score\n",
    "best_r2_degree = degrees[np.argmax(cvs)]\n",
    "print(f\"The best R-Square degree is {best_r2_degree}\")\n",
    "print(f\"{df.iloc[best_r2_degree: 2]}\")\n",
    "\n",
    "print() #empty line\n",
    "\n",
    "# Choose the degree with the highest MAE cross-validation score\n",
    "best_mae_degree  = df[\"MAE Mean\"].idxmax()\n",
    "print(f\"The best MAE degree is {best_mae_degree}\")\n",
    "print(f\"{df.iloc[best_mae_degree: 2]}\")"
   ]
  },
  {
   "attachments": {},
   "cell_type": "markdown",
   "metadata": {},
   "source": [
    "---\n",
    "# Magic code for Convert to HTML\n",
    "\n",
    "jupyter nbconvert --to html ./students_submissions/8936740/Lab5.ipynb --output-dir ./docs/8936740 --TagRemovePreprocessor.enabled=True --TagRemovePreprocessor.remove_input_tags=\"['noshow']\""
   ]
  }
 ],
 "metadata": {
  "kernelspec": {
   "display_name": "CSCN8010_classic_ml",
   "language": "python",
   "name": "python3"
  },
  "language_info": {
   "codemirror_mode": {
    "name": "ipython",
    "version": 3
   },
   "file_extension": ".py",
   "mimetype": "text/x-python",
   "name": "python",
   "nbconvert_exporter": "python",
   "pygments_lexer": "ipython3",
   "version": "3.11.3"
  },
  "orig_nbformat": 4
 },
 "nbformat": 4,
 "nbformat_minor": 2
}
