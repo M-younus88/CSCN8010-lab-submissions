{
 "cells": [
  {
   "cell_type": "code",
   "execution_count": 4,
   "metadata": {},
   "outputs": [],
   "source": [
    "import numpy as np\n",
    "from sklearn import datasets\n",
    "from sklearn.preprocessing import PolynomialFeatures\n",
    "from sklearn.linear_model import LinearRegression\n",
    "from sklearn.model_selection import cross_val_score\n",
    "\n",
    "# Load the diabetes dataset\n",
    "X, y = datasets.load_diabetes(as_frame=True, scaled=False, return_X_y=True)\n",
    "\n",
    "# Perform cross-validation on polynomial models ranging from degree 0 to 8\n",
    "cv_results = []\n",
    "for degree in range(9):\n",
    "    if degree == 0:\n",
    "        poly_features = PolynomialFeatures(degree=1, include_bias=True)\n",
    "    else:\n",
    "        poly_features = PolynomialFeatures(degree=degree, include_bias=False)\n",
    "    \n",
    "\n",
    "    X_poly = poly_features.fit_transform(X)\n",
    "\n",
    "    linear_model = LinearRegression()\n",
    "\n",
    "    scores = cross_val_score(linear_model, X_poly, y, cv=5, scoring='r2')\n",
    "    mean_r2 = scores.mean()\n",
    "    mean_mae = -cross_val_score(linear_model, X_poly, y, cv=5, scoring='neg_mean_absolute_error').mean()\n",
    "    cv_results.append((degree, mean_r2, mean_mae))"
   ]
  },
  {
   "attachments": {},
   "cell_type": "markdown",
   "metadata": {},
   "source": [
    "With degrees ranging from 0 to 8, this programme conducts cross-validation on polynomial models of various types. Using PolynomialFeatures from Scikit-Learn, it generates a polynomial feature transformer for each degree. In order to prevent an empty output array when the degree is 0, it sets degree=1 and includes the bias term by setting include_bias=True.\n",
    "\n",
    "The model is cross-validated using the cross_val_score function. By default, it calculates the R-Squared scores. For each degree, the mean R-Squared score and mean MAE are computed and recorded in the cv_results list."
   ]
  },
  {
   "attachments": {},
   "cell_type": "markdown",
   "metadata": {},
   "source": [
    "Q2. Construct a table summarizing the cross-validation results. Each model should have a separate row in the table. Include the R-Squared and Mean Absolute Error (MAE) metrics for each model. Calculate the mean value and standard deviation of these metrics from the cross-validation. Include both values. (2 points)"
   ]
  },
  {
   "cell_type": "code",
   "execution_count": 5,
   "metadata": {},
   "outputs": [
    {
     "name": "stdout",
     "output_type": "stream",
     "text": [
      "Model\t\tR-Squared\t\tMAE\n",
      "\n",
      "Degree 0:\t0.482\t\t44.276\n",
      "Degree 1:\t0.482\t\t44.276\n",
      "Degree 2:\t0.392\t\t46.613\n",
      "Degree 3:\t-159.005\t\t273.561\n",
      "Degree 4:\t-571.083\t\t657.260\n",
      "Degree 5:\t-436.857\t\t562.994\n",
      "Degree 6:\t-1694.192\t\t742.660\n",
      "Degree 7:\t-5530.894\t\t1032.682\n",
      "Degree 8:\t-16076.255\t\t1475.659\n"
     ]
    }
   ],
   "source": [
    "# Construct a table summarizing the cross-validation results\n",
    "print(\"Model\\t\\tR-Squared\\t\\tMAE\\n\")\n",
    "for result in cv_results:\n",
    "    print(f\"Degree {result[0]}:\\t{result[1]:.3f}\\t\\t{result[2]:.3f}\")"
   ]
  },
  {
   "attachments": {},
   "cell_type": "markdown",
   "metadata": {},
   "source": [
    "The cross-validation findings are summarised in a table that is printed. For each model, the degree, R-Squared score, and MAE are shown."
   ]
  },
  {
   "cell_type": "code",
   "execution_count": 6,
   "metadata": {},
   "outputs": [
    {
     "name": "stdout",
     "output_type": "stream",
     "text": [
      "\n",
      "Best Model:\n",
      "Degree: 0\n",
      "R-Squared: 0.482\n",
      "MAE: 44.276\n"
     ]
    }
   ],
   "source": [
    "# Identify the best model based on R-Squared and MAE metrics\n",
    "best_model = max(cv_results, key=lambda x: x[1])\n",
    "best_degree = best_model[0]\n",
    "best_r2 = best_model[1]\n",
    "best_mae = best_model[2]\n",
    "\n",
    "print(\"\\nBest Model:\")\n",
    "print(f\"Degree: {best_degree}\")\n",
    "print(f\"R-Squared: {best_r2:.3f}\")\n",
    "print(f\"MAE: {best_mae:.3f}\")"
   ]
  },
  {
   "attachments": {},
   "cell_type": "markdown",
   "metadata": {},
   "source": [
    "By calculating the highest R-Squared score, it determines which model is the best. From the cv_results list, it retrieves the best model's degree, R-Squared score, and MAE."
   ]
  }
 ],
 "metadata": {
  "kernelspec": {
   "display_name": "aiml_math",
   "language": "python",
   "name": "aiml_math"
  },
  "language_info": {
   "codemirror_mode": {
    "name": "ipython",
    "version": 3
   },
   "file_extension": ".py",
   "mimetype": "text/x-python",
   "name": "python",
   "nbconvert_exporter": "python",
   "pygments_lexer": "ipython3",
   "version": "3.11.3"
  },
  "orig_nbformat": 4
 },
 "nbformat": 4,
 "nbformat_minor": 2
}
