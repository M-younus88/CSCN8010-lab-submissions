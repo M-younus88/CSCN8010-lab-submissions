{
 "cells": [
  {
   "attachments": {},
   "cell_type": "markdown",
   "metadata": {},
   "source": [
    "##  Name:Ayodele Awoleye\n",
    "## student name:8900611\n"
   ]
  },
  {
   "attachments": {},
   "cell_type": "markdown",
   "metadata": {},
   "source": [
    "#importin all the necessary library."
   ]
  },
  {
   "cell_type": "code",
   "execution_count": 1,
   "metadata": {},
   "outputs": [],
   "source": [
    "from sklearn import datasets\n",
    "from sklearn import metrics\n",
    "from sklearn.metrics import mean_absolute_error\n",
    "from sklearn.linear_model import LinearRegression\n",
    "from sklearn.preprocessing import PolynomialFeatures\n",
    "from sklearn.pipeline import Pipeline\n",
    "import matplotlib.pyplot as plt\n",
    "from sklearn.model_selection import train_test_split\n",
    "import pandas as pd\n",
    "import numpy as np\n",
    "import math\n",
    "from sklearn.pipeline import make_pipeline\n",
    "from sklearn.metrics import r2_score\n",
    "from sklearn.model_selection import cross_val_score\n",
    "from sklearn.linear_model import LinearRegression"
   ]
  },
  {
   "cell_type": "code",
   "execution_count": 2,
   "metadata": {},
   "outputs": [],
   "source": [
    "# importin the diabetes data set for my model\n",
    "X, y = datasets.load_diabetes(as_frame=True, scaled=False, return_X_y=True)\n",
    "# we can then split and do train test for the model\n",
    "X_train, X_test, y_train, y_test = train_test_split(X, y, test_size=0.2, random_state=42)\n",
    "X_train = pd.DataFrame(X_train)"
   ]
  },
  {
   "attachments": {},
   "cell_type": "markdown",
   "metadata": {},
   "source": [
    "#Q1. Utilize the diabetes dataset from lab 4. Perform cross-validation on nine polynomial models, ranging from degree 0 to 8. (2 points)"
   ]
  },
  {
   "cell_type": "code",
   "execution_count": 3,
   "metadata": {},
   "outputs": [],
   "source": [
    "degrees = range(9)\n",
    "Cross_validation = []\n",
    "R2_score = []\n",
    "for degree in degrees:\n",
    "    model = make_pipeline(PolynomialFeatures(degree),LinearRegression())\n",
    "    scores = cross_val_score(model,X,y,cv=5,scoring='neg_mean_absolute_error').mean()\n",
    "    R2_scores = cross_val_score(model,X,y,cv=5,scoring='r2').mean()\n",
    "    Cross_validation.append(-scores)\n",
    "    R2_score.append(R2_scores)"
   ]
  },
  {
   "attachments": {},
   "cell_type": "markdown",
   "metadata": {},
   "source": [
    "#the cross-validation results:"
   ]
  },
  {
   "cell_type": "code",
   "execution_count": 4,
   "metadata": {},
   "outputs": [
    {
     "data": {
      "text/html": [
       "<div>\n",
       "<style scoped>\n",
       "    .dataframe tbody tr th:only-of-type {\n",
       "        vertical-align: middle;\n",
       "    }\n",
       "\n",
       "    .dataframe tbody tr th {\n",
       "        vertical-align: top;\n",
       "    }\n",
       "\n",
       "    .dataframe thead th {\n",
       "        text-align: right;\n",
       "    }\n",
       "</style>\n",
       "<table border=\"1\" class=\"dataframe\">\n",
       "  <thead>\n",
       "    <tr style=\"text-align: right;\">\n",
       "      <th></th>\n",
       "      <th>Degree</th>\n",
       "      <th>R2_Score</th>\n",
       "      <th>Cross_Val_Score</th>\n",
       "    </tr>\n",
       "  </thead>\n",
       "  <tbody>\n",
       "    <tr>\n",
       "      <th>0</th>\n",
       "      <td>0</td>\n",
       "      <td>-0.027506</td>\n",
       "      <td>66.045624</td>\n",
       "    </tr>\n",
       "    <tr>\n",
       "      <th>1</th>\n",
       "      <td>1</td>\n",
       "      <td>0.482316</td>\n",
       "      <td>44.276499</td>\n",
       "    </tr>\n",
       "    <tr>\n",
       "      <th>2</th>\n",
       "      <td>2</td>\n",
       "      <td>-0.993121</td>\n",
       "      <td>70.762243</td>\n",
       "    </tr>\n",
       "    <tr>\n",
       "      <th>3</th>\n",
       "      <td>3</td>\n",
       "      <td>-203.419316</td>\n",
       "      <td>342.051969</td>\n",
       "    </tr>\n",
       "    <tr>\n",
       "      <th>4</th>\n",
       "      <td>4</td>\n",
       "      <td>-571.083108</td>\n",
       "      <td>657.260477</td>\n",
       "    </tr>\n",
       "    <tr>\n",
       "      <th>5</th>\n",
       "      <td>5</td>\n",
       "      <td>-436.856887</td>\n",
       "      <td>562.993636</td>\n",
       "    </tr>\n",
       "    <tr>\n",
       "      <th>6</th>\n",
       "      <td>6</td>\n",
       "      <td>-1694.416363</td>\n",
       "      <td>742.820757</td>\n",
       "    </tr>\n",
       "    <tr>\n",
       "      <th>7</th>\n",
       "      <td>7</td>\n",
       "      <td>-5530.894075</td>\n",
       "      <td>1032.681725</td>\n",
       "    </tr>\n",
       "    <tr>\n",
       "      <th>8</th>\n",
       "      <td>8</td>\n",
       "      <td>-16076.255117</td>\n",
       "      <td>1475.658532</td>\n",
       "    </tr>\n",
       "  </tbody>\n",
       "</table>\n",
       "</div>"
      ],
      "text/plain": [
       "   Degree      R2_Score  Cross_Val_Score\n",
       "0       0     -0.027506        66.045624\n",
       "1       1      0.482316        44.276499\n",
       "2       2     -0.993121        70.762243\n",
       "3       3   -203.419316       342.051969\n",
       "4       4   -571.083108       657.260477\n",
       "5       5   -436.856887       562.993636\n",
       "6       6  -1694.416363       742.820757\n",
       "7       7  -5530.894075      1032.681725\n",
       "8       8 -16076.255117      1475.658532"
      ]
     },
     "execution_count": 4,
     "metadata": {},
     "output_type": "execute_result"
    }
   ],
   "source": [
    "Cross_Summary = pd.DataFrame({\"Degree\":degrees, \"R2_Score\":R2_score, \"Cross_Val_Score\":Cross_validation})\n",
    "Cross_Summary"
   ]
  },
  {
   "attachments": {},
   "cell_type": "markdown",
   "metadata": {},
   "source": [
    "#to get mean value and standard deviation"
   ]
  },
  {
   "cell_type": "code",
   "execution_count": 5,
   "metadata": {},
   "outputs": [
    {
     "name": "stdout",
     "output_type": "stream",
     "text": [
      "Mean MAE is: 554.950162372569\n",
      "Standard Deviation MAE is: 487.5112340935331\n"
     ]
    }
   ],
   "source": [
    "Mean_MAE = Cross_Summary['Cross_Val_Score'].mean()\n",
    "SD_MAE = Cross_Summary['Cross_Val_Score'].std()\n",
    "\n",
    "print(\"Mean MAE is:\", Mean_MAE)\n",
    "print(\"Standard Deviation MAE is:\", SD_MAE)"
   ]
  },
  {
   "cell_type": "code",
   "execution_count": 6,
   "metadata": {},
   "outputs": [
    {
     "name": "stdout",
     "output_type": "stream",
     "text": [
      "\n",
      "Mean Value will be :  -2723.7181308952877\n",
      "Standard Deviation is :  5311.525334888222\n"
     ]
    }
   ],
   "source": [
    "Mean_R2 = Cross_Summary['R2_Score'].mean()\n",
    "SD_R2 = Cross_Summary['R2_Score'].std()\n",
    "\n",
    "print(\"\\nMean Value will be : \", Mean_R2)\n",
    "print(\"Standard Deviation is : \", SD_R2)"
   ]
  },
  {
   "attachments": {},
   "cell_type": "markdown",
   "metadata": {},
   "source": [
    "#The model that performs best has the highest R-squared and lowest Mean Absolute Error (MAE). A higher R-squared value denotes that the model captures more variance and provides a better fit to the data. A lower MAE means that the model makes fewer average errors when making predictions. The model with a degree of 1 performs the best based on the given facts."
   ]
  }
 ],
 "metadata": {
  "kernelspec": {
   "display_name": "CSCN8010_classic_ml",
   "language": "python",
   "name": "cscn8010_classic_ml"
  },
  "language_info": {
   "codemirror_mode": {
    "name": "ipython",
    "version": 3
   },
   "file_extension": ".py",
   "mimetype": "text/x-python",
   "name": "python",
   "nbconvert_exporter": "python",
   "pygments_lexer": "ipython3",
   "version": "3.11.3"
  },
  "orig_nbformat": 4
 },
 "nbformat": 4,
 "nbformat_minor": 2
}
