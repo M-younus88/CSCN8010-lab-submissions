{
 "cells": [
  {
   "cell_type": "code",
   "execution_count": 30,
   "metadata": {},
   "outputs": [],
   "source": [
    "import numpy as np\n",
    "import pandas as pd\n",
    "from sklearn import datasets\n",
    "from sklearn.datasets import load_diabetes\n",
    "from sklearn.metrics import mean_absolute_error, mean_squared_error ,mean_absolute_percentage_error\n",
    "from sklearn.model_selection import cross_val_score\n",
    "from sklearn.preprocessing import PolynomialFeatures\n",
    "from sklearn.linear_model import LinearRegression\n",
    "from sklearn.pipeline import make_pipeline\n",
    "from sklearn.metrics import get_scorer_names\n",
    "\n",
    "X, y = datasets.load_diabetes(as_frame=True, scaled=False, return_X_y=True)"
   ]
  },
  {
   "attachments": {},
   "cell_type": "markdown",
   "metadata": {},
   "source": [
    "Q1.  Utilize the diabetes dataset from lab 4. Perform cross-validation on nine polynomial models, ranging from degree 0 to 8. (2 points)"
   ]
  },
  {
   "cell_type": "code",
   "execution_count": 38,
   "metadata": {},
   "outputs": [],
   "source": [
    "degrees = np.arange(0, 9)\n",
    "cross_validation_data = []\n",
    "cv_results = []\n",
    "for degree in range(9):\n",
    "    model = make_pipeline(PolynomialFeatures(degree), LinearRegression())    \n",
    "\n",
    "    scores = cross_val_score(model, X, y, cv=5, scoring='r2')\n",
    "    mean_r2 = scores.mean()\n",
    "    std_r2 = scores.std()\n",
    "    mae = -cross_val_score(model, X, y, cv=5, scoring='neg_mean_absolute_error')\n",
    "    mean_mae = mae.mean()\n",
    "    std_mae = mae.std()\n",
    "    cross_validation_data.append((degree, mean_r2, std_r2, mean_mae, std_mae))\n"
   ]
  },
  {
   "attachments": {},
   "cell_type": "markdown",
   "metadata": {},
   "source": [
    "Q2. Construct a table summarizing the cross-validation results. Each model should have a separate row in the table. Include the R-Squared and Mean Absolute Error (MAE) metrics for each model. Calculate the mean value and standard deviation of these metrics from the cross-validation. Include both values. (2 points)"
   ]
  },
  {
   "cell_type": "code",
   "execution_count": 40,
   "metadata": {},
   "outputs": [
    {
     "name": "stdout",
     "output_type": "stream",
     "text": [
      "   Degree       MEAN R2        STD R2     MEAN MAE     STD MAE\n",
      "0       0     -0.027506      0.036772    66.045624    3.474660\n",
      "1       1      0.482316      0.049269    44.276499    2.100110\n",
      "2       2     -0.347201      0.646338    63.546355   14.945520\n",
      "3       3   -203.419848    225.878682   342.052617  142.438549\n",
      "4       4   -571.083108    369.891883   657.260477  159.475902\n",
      "5       5   -436.856887    379.100423   562.993636   59.917202\n",
      "6       6  -1695.477360   2632.416214   742.560741  191.043026\n",
      "7       7  -5530.894074   9518.586953  1032.681725  393.439617\n",
      "8       8 -16076.255118  28049.952581  1475.658532  706.280274\n"
     ]
    }
   ],
   "source": [
    "df = pd.DataFrame(cross_validation_data)\n",
    "df.columns = ['Degree', 'MEAN R2', 'STD R2', 'MEAN MAE', 'STD MAE']\n",
    "print(df)"
   ]
  },
  {
   "attachments": {},
   "cell_type": "markdown",
   "metadata": {},
   "source": [
    "Q3. Identification of the Best Model: Identify the model that exhibits the highest performance based on the R-Squared and MAE metrics. Provide an explanation for choosing this specific model. (2 points)"
   ]
  },
  {
   "cell_type": "code",
   "execution_count": 45,
   "metadata": {},
   "outputs": [
    {
     "name": "stdout",
     "output_type": "stream",
     "text": [
      "The Best Model based on R-Squared:\n",
      "Degree: 1.0, R-Squared: 0.4823, Std R-Squared: 0.0493\n",
      "The Best Model based on MAE:\n",
      "Degree: 1, MAE: 44.2765, Std MAE: 2.1001\n"
     ]
    }
   ],
   "source": [
    "r2_index = np.argmax(df.iloc[:, 1])\n",
    "mae_index = np.argmin(df.iloc[:, 3])\n",
    "\n",
    "r2_degree,r2, std_r2 = df.iloc[r2_index, :3]\n",
    "mae_degree, mae, std_mae = df.iloc[mae_index, 0], df.iloc[mae_index, 3], df.iloc[mae_index, 4]\n",
    "\n",
    "print(\"The Best Model based on R-Squared:\")\n",
    "print(f\"Degree: {r2_degree}, R-Squared: {r2:.4f}, Std R-Squared: {std_r2:.4f}\")\n",
    "\n",
    "print(\"The Best Model based on MAE:\")\n",
    "print(f\"Degree: {mae_degree}, MAE: {mae:.4f}, Std MAE: {std_mae:.4f}\")"
   ]
  },
  {
   "attachments": {},
   "cell_type": "markdown",
   "metadata": {},
   "source": [
    "According to me, in order to provide integerbased indexing, iloc is a better way of a Dataframe.\n",
    "As we have several features, iloc accepts a single index, multiple indexes from the list, range etc.\n",
    "Hence, I have chosen to use iloc as it is easy to use as well."
   ]
  },
  {
   "attachments": {},
   "cell_type": "markdown",
   "metadata": {},
   "source": []
  }
 ],
 "metadata": {
  "kernelspec": {
   "display_name": "CSCN8010_classic_ml",
   "language": "python",
   "name": "python3"
  },
  "language_info": {
   "codemirror_mode": {
    "name": "ipython",
    "version": 3
   },
   "file_extension": ".py",
   "mimetype": "text/x-python",
   "name": "python",
   "nbconvert_exporter": "python",
   "pygments_lexer": "ipython3",
   "version": "3.11.3"
  },
  "orig_nbformat": 4
 },
 "nbformat": 4,
 "nbformat_minor": 2
}
