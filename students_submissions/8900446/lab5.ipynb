{
 "cells": [
  {
   "attachments": {},
   "cell_type": "markdown",
   "metadata": {},
   "source": [
    "# Henry Ezeanowi - 8900446\n",
    "# Lab 5"
   ]
  },
  {
   "attachments": {},
   "cell_type": "markdown",
   "metadata": {},
   "source": [
    "1) Utilize the diabetes dataset from lab 4. Perform cross-validation on nine polynomial models, ranging from degree 0 to 8."
   ]
  },
  {
   "cell_type": "code",
   "execution_count": 39,
   "metadata": {},
   "outputs": [],
   "source": [
    "import numpy as np\n",
    "import pandas as pd\n",
    "from sklearn import datasets\n",
    "from sklearn.linear_model import LinearRegression\n",
    "from sklearn.preprocessing import PolynomialFeatures\n",
    "from sklearn.model_selection import cross_val_score\n",
    "from sklearn.pipeline import make_pipeline\n",
    "from sklearn.calibration import cross_val_predict\n",
    "from sklearn.metrics import mean_absolute_error,r2_score"
   ]
  },
  {
   "cell_type": "code",
   "execution_count": 40,
   "metadata": {},
   "outputs": [],
   "source": [
    "X, y = datasets.load_diabetes(as_frame=True, scaled=False, return_X_y=True)\n",
    "degrees = range(9)\n",
    "# Perform cross-validation for polynomial models of degrees 0 to 8\n",
    "for degree in degrees:\n",
    "    # Create a polynomial feature transformer\n",
    "    polynomial_features = PolynomialFeatures(degree=degree)\n",
    "    \n",
    "    # Create a pipeline with polynomial feature transformation and linear regression\n",
    "    model = make_pipeline(polynomial_features, LinearRegression())\n",
    "    \n",
    "    # Perform cross-validation\n",
    "    scores = cross_val_score(model, X, y, cv=5, scoring='neg_mean_absolute_error')\n",
    "    \n",
    "    # Calculate mean absolute error\n",
    "    mae = -scores.mean()\n",
    "    \n",
    "    # Print the degree and mean squared error\n",
    "    # print(f\"Degree {degree}: MAE = {mae}\")"
   ]
  },
  {
   "attachments": {},
   "cell_type": "markdown",
   "metadata": {},
   "source": [
    "2) Construct a table summarizing the cross-validation results. Each model should have a separate row in the table. Include the R-Squared and Mean Absolute Error (MAE) metrics for each model. Calculate the mean value and standard deviation of these metrics from the cross-validation. Include both values."
   ]
  },
  {
   "cell_type": "code",
   "execution_count": 41,
   "metadata": {},
   "outputs": [
    {
     "name": "stdout",
     "output_type": "stream",
     "text": [
      "  Degree     R-Squared          MAE\n",
      "0      0     -0.008824    66.039250\n",
      "1      1      0.495322    44.274856\n",
      "2      2     -1.140607    74.753707\n",
      "3      3   -195.306514   341.371399\n",
      "4      4   -572.361896   656.629284\n",
      "5      5   -446.482486   563.019974\n",
      "6      6  -1792.074363   743.204652\n",
      "7      7  -5894.999471  1033.741782\n",
      "8      8 -17172.387614  1477.455477\n"
     ]
    }
   ],
   "source": [
    "# Create a table to summarize the cross-validation results\n",
    "results= pd.DataFrame(columns=['Degree', 'R-Squared', 'MAE'])\n",
    "\n",
    "for degree in degrees:\n",
    "    # Create a pipeline with PolynomialFeatures and LinearRegression\n",
    "    model = make_pipeline(PolynomialFeatures(degree), LinearRegression())\n",
    "    \n",
    "    # Calculate the R-Squared and MAE metrics\n",
    "    y_pred = cross_val_predict(model, X, y, cv=5)\n",
    "    r2 = r2_score(y, y_pred)\n",
    "    mae = mean_absolute_error(y, y_pred)\n",
    "    \n",
    "    # Create a new DataFrame row with the results\n",
    "    row = pd.DataFrame([[degree, r2, mae]], columns=['Degree', 'R-Squared', 'MAE'])\n",
    "    \n",
    "    # Concatenate the row to the results DataFrame\n",
    "    results = pd.concat([results, row], ignore_index=True)\n",
    "\n",
    "\n",
    "# Print the results table\n",
    "print(results)"
   ]
  },
  {
   "cell_type": "code",
   "execution_count": 42,
   "metadata": {},
   "outputs": [
    {
     "name": "stdout",
     "output_type": "stream",
     "text": [
      "Mean of R-Squared: -2897.14\n",
      "Mean of MAE: 555.61\n",
      "Standard Deviation of R-Squared: 5677.56\n",
      "Standard Deviation of MAE: 487.61\n"
     ]
    }
   ],
   "source": [
    "# Calculate mean and standard deviation of R-Squared and MAE\n",
    "mean_r2 = results['R-Squared'].mean()\n",
    "std_r2 = results['R-Squared'].std()\n",
    "mean_mae = results['MAE'].mean()\n",
    "std_mae = results['MAE'].std()\n",
    "\n",
    "\n",
    "# Print mean and standard deviation of R-Squared and MAE\n",
    "print(f\"Mean of R-Squared: {mean_r2:.2f}\")\n",
    "print(f\"Mean of MAE: {mean_mae:.2f}\")\n",
    "print(f\"Standard Deviation of R-Squared: {std_r2:.2f}\")\n",
    "print(f\"Standard Deviation of MAE: {std_mae:.2f}\")"
   ]
  },
  {
   "attachments": {},
   "cell_type": "markdown",
   "metadata": {},
   "source": [
    "3) Identification of the Best Model: Identify the model that exhibits the highest performance based on the R-Squared and MAE metrics. Provide an explanation for choosing this specific model."
   ]
  },
  {
   "cell_type": "code",
   "execution_count": 43,
   "metadata": {},
   "outputs": [
    {
     "name": "stdout",
     "output_type": "stream",
     "text": [
      "The model with the highest R-Squared value:\n",
      "Degree               1\n",
      "R-Squared     0.495322\n",
      "MAE          44.274856\n",
      "Name: 1, dtype: object\n"
     ]
    }
   ],
   "source": [
    "# Identify the model with the highest R-Squared value\n",
    "best_r2_model = results.loc[results['R-Squared'].idxmax()]\n",
    "\n",
    "# Print the model with the highest R-Squared value\n",
    "print(f\"The model with the highest R-Squared value:\\n{best_r2_model}\")"
   ]
  },
  {
   "cell_type": "code",
   "execution_count": 44,
   "metadata": {},
   "outputs": [
    {
     "name": "stdout",
     "output_type": "stream",
     "text": [
      "The model with the lowest MAE value:\n",
      "Degree               1\n",
      "R-Squared     0.495322\n",
      "MAE          44.274856\n",
      "Name: 1, dtype: object\n"
     ]
    }
   ],
   "source": [
    "\n",
    "# Identify the model with the lowest MAE value\n",
    "best_mae_model = results.loc[results['MAE'].idxmin()]\n",
    "\n",
    "# Print the model with the lowest MAE value\n",
    "print(f\"The model with the lowest MAE value:\\n{best_mae_model}\")"
   ]
  },
  {
   "attachments": {},
   "cell_type": "markdown",
   "metadata": {},
   "source": [
    "When we're choosing the best model, we give priority to the one that shows a strong relationship between the predictors and the target variable, which is indicated by a high R-Squared value. We also consider the model that makes more accurate predictions of the target variable, as shown by the lowest MAE value. These metrics give us important information about how well the model is performing and help us make decisions."
   ]
  }
 ],
 "metadata": {
  "kernelspec": {
   "display_name": "CSCN8010_classic_ml",
   "language": "python",
   "name": "python3"
  },
  "language_info": {
   "codemirror_mode": {
    "name": "ipython",
    "version": 3
   },
   "file_extension": ".py",
   "mimetype": "text/x-python",
   "name": "python",
   "nbconvert_exporter": "python",
   "pygments_lexer": "ipython3",
   "version": "3.11.3"
  },
  "orig_nbformat": 4
 },
 "nbformat": 4,
 "nbformat_minor": 2
}
