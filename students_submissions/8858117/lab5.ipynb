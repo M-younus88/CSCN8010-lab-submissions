{
 "cells": [
  {
   "attachments": {},
   "cell_type": "markdown",
   "metadata": {},
   "source": [
    "## Lab5\n",
    "Task\n",
    "Utilize the diabetes dataset from lab 4. Perform cross-validation on nine polynomial models, ranging from degree 0 to 8. (2 points)\n",
    "Construct a table summarizing the cross-validation results. Each model should have a separate row in the table. Include the R-Squared and Mean Absolute Error (MAE) metrics for each model. Calculate the mean value and standard deviation of these metrics from the cross-validation. Include both values. (2 points)\n",
    "Identification of the Best Model: Identify the model that exhibits the highest performance based on the R-Squared and MAE metrics. Provide an explanation for choosing this specific model. (2 points)"
   ]
  },
  {
   "cell_type": "code",
   "execution_count": 3,
   "metadata": {},
   "outputs": [],
   "source": [
    "from sklearn import datasets\n",
    "from sklearn.preprocessing import PolynomialFeatures\n",
    "from sklearn.pipeline import make_pipeline\n",
    "from sklearn.linear_model import LinearRegression\n",
    "from sklearn.model_selection import cross_val_score\n",
    "import pandas as pd\n"
   ]
  },
  {
   "cell_type": "code",
   "execution_count": 2,
   "metadata": {},
   "outputs": [],
   "source": [
    "# Read dataset\n",
    "X, y = datasets.load_diabetes(as_frame=True, scaled=False, return_X_y=True)\n"
   ]
  },
  {
   "cell_type": "code",
   "execution_count": 7,
   "metadata": {},
   "outputs": [
    {
     "name": "stdout",
     "output_type": "stream",
     "text": [
      "   DEGREE       R2_MEAN        R2_STD     MAE_MEAN     MAE_STD\n",
      "0       0     -0.027506      0.036772    66.045624    3.474660\n",
      "1       1      0.482316      0.049269    44.276499    2.100110\n",
      "2       2     -0.528281      1.086913    66.857204   24.676461\n",
      "3       3   -203.420273    225.879811   342.052529  142.438254\n",
      "4       4   -571.083108    369.891883   657.260477  159.475902\n",
      "5       5   -436.856887    379.100423   562.993636   59.917202\n",
      "6       6  -1694.699196   2631.163241   742.502338  191.024419\n",
      "7       7  -5530.894075   9518.586955  1032.681725  393.439617\n",
      "8       8 -16076.255118  28049.952581  1475.658532  706.280274\n"
     ]
    }
   ],
   "source": [
    "# Cross validation\n",
    "cv_result=[]\n",
    "for degree in range(0,9):\n",
    "    \n",
    "    model = make_pipeline(PolynomialFeatures(degree), LinearRegression())\n",
    "    \n",
    "    r2_cv = cross_val_score(model, X, y, cv=5, scoring='r2')\n",
    "    r2_mean = r2_cv.mean()\n",
    "    r2_std = r2_cv.std()\n",
    "\n",
    "    mae_cv = -cross_val_score(model, X, y, cv=5, scoring='neg_mean_absolute_error')\n",
    "    mae_mean = mae_cv.mean()\n",
    "    mae_std = mae_cv.std()\n",
    "\n",
    "    cv_result.append([degree,r2_mean, r2_std, mae_mean, mae_std])\n",
    "\n",
    "# Display result    \n",
    "cv_df = pd.DataFrame(cv_result, columns=['DEGREE','R2_MEAN','R2_STD', 'MAE_MEAN', 'MAE_STD'])\n",
    "print(cv_df)\n"
   ]
  },
  {
   "cell_type": "code",
   "execution_count": 8,
   "metadata": {},
   "outputs": [
    {
     "data": {
      "text/plain": [
       "DEGREE       1.000000\n",
       "R2_MEAN      0.482316\n",
       "R2_STD       0.049269\n",
       "MAE_MEAN    44.276499\n",
       "MAE_STD      2.100110\n",
       "Name: 1, dtype: float64"
      ]
     },
     "execution_count": 8,
     "metadata": {},
     "output_type": "execute_result"
    }
   ],
   "source": [
    "\n",
    "# Find best model\n",
    "cv_df_sorted = cv_df.sort_values(by=['R2_MEAN', 'MAE_MEAN'], ascending=[False, True])\n",
    "best_fit_model = cv_df_sorted.iloc[0]\n",
    "best_fit_model"
   ]
  },
  {
   "attachments": {},
   "cell_type": "markdown",
   "metadata": {},
   "source": [
    "From the result, we can see that the model with degree 1 is the best model. It has highest R squared mean value(0.482316) and smallest MAE mean(44.2764) value ."
   ]
  }
 ],
 "metadata": {
  "kernelspec": {
   "display_name": "CSCN8010_classic_ml",
   "language": "python",
   "name": "cscn8010_classic_ml"
  },
  "language_info": {
   "codemirror_mode": {
    "name": "ipython",
    "version": 3
   },
   "file_extension": ".py",
   "mimetype": "text/x-python",
   "name": "python",
   "nbconvert_exporter": "python",
   "pygments_lexer": "ipython3",
   "version": "3.11.3"
  },
  "orig_nbformat": 4
 },
 "nbformat": 4,
 "nbformat_minor": 2
}
