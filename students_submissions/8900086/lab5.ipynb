{
 "cells": [
  {
   "attachments": {},
   "cell_type": "markdown",
   "metadata": {},
   "source": [
    "# Cross-validation for model selection\n"
   ]
  },
  {
   "attachments": {},
   "cell_type": "markdown",
   "metadata": {},
   "source": [
    "Importing diabetes dataset"
   ]
  },
  {
   "cell_type": "code",
   "execution_count": 2,
   "metadata": {},
   "outputs": [],
   "source": [
    "from sklearn import datasets\n",
    "from sklearn.metrics import mean_absolute_error\n",
    "from sklearn.metrics import mean_absolute_percentage_error\n",
    "import matplotlib.pyplot as plt\n",
    "from sklearn.model_selection import train_test_split\n",
    "\n",
    "X, y = datasets.load_diabetes(as_frame=True, scaled=False, return_X_y=True)\n",
    "\n",
    "X_train, X_test, y_train, y_test = train_test_split(X, y, test_size=0.2, random_state=42)\n"
   ]
  },
  {
   "attachments": {},
   "cell_type": "markdown",
   "metadata": {},
   "source": [
    "Cross- validation on nine polynomial models"
   ]
  },
  {
   "cell_type": "code",
   "execution_count": 3,
   "metadata": {},
   "outputs": [
    {
     "name": "stdout",
     "output_type": "stream",
     "text": [
      "   degree          MAE     R squared\n",
      "0       0    66.045624     -0.027506\n",
      "1       1    44.276499      0.482316\n",
      "2       2    80.595439     -1.485182\n",
      "3       3   342.051924   -203.418938\n",
      "4       4   657.260477   -571.083108\n",
      "5       5   562.993636   -436.856887\n",
      "6       6   742.717488  -1694.550210\n",
      "7       7  1032.681725  -5530.894075\n",
      "8       8  1475.658532 -16076.255118\n",
      "Mean of MAE: 556.03\n",
      "Standard deviation of MAE: 486.30\n",
      "Mean of R squared: -2723.79\n",
      "Standard deviation of R squared: 5311.49\n"
     ]
    }
   ],
   "source": [
    "\n",
    "from sklearn.model_selection import cross_val_score\n",
    "from sklearn.model_selection import KFold\n",
    "from sklearn.pipeline import Pipeline\n",
    "from sklearn.metrics import mean_squared_error\n",
    "from sklearn.linear_model import LinearRegression\n",
    "from sklearn.preprocessing import PolynomialFeatures\n",
    "import numpy as np\n",
    "import pandas as pd\n",
    "models_Data = []\n",
    "for i in range(9):\n",
    "    models_Data.append(Pipeline([('poly', PolynomialFeatures(i)), ('linear', LinearRegression())]))\n",
    "scores_mae = []\n",
    "scores_r2 = []\n",
    "for model in models_Data:\n",
    "    scores_mae.append(-np.mean(cross_val_score(model, X, y, cv=5, scoring='neg_mean_absolute_error')))\n",
    "    scores_r2.append(np.mean(cross_val_score(model, X, y, cv=5, scoring='r2')))\n",
    "scores = pd.DataFrame({'degree': range(9), 'MAE': scores_mae, 'R squared': scores_r2})\n",
    "print(scores)\n",
    "\n",
    "\n",
    "print(f'Mean of MAE: {scores[\"MAE\"].mean():.2f}')\n",
    "print(f'Standard deviation of MAE: {scores[\"MAE\"].std():.2f}')\n",
    "print(f'Mean of R squared: {scores[\"R squared\"].mean():.2f}')\n",
    "print(f'Standard deviation of R squared: {scores[\"R squared\"].std():.2f}')\n",
    "\n",
    "\n",
    "\n",
    "\n",
    "\n",
    "\n",
    "\n",
    "\n",
    "\n",
    "\n",
    "\n",
    "\n",
    "\n",
    "\n",
    "\n",
    "\n",
    "\n",
    "\n",
    "\n",
    "\n",
    "\n"
   ]
  },
  {
   "attachments": {},
   "cell_type": "markdown",
   "metadata": {},
   "source": [
    "From the 9 models we can say that model with degree 1 is best as R sqaured value for degree 1 is highest and Mean Absoulte error is also low compare to other models. "
   ]
  }
 ],
 "metadata": {
  "kernelspec": {
   "display_name": "CSCN8010_classic_ml",
   "language": "python",
   "name": "cscn8010_classic_ml"
  },
  "language_info": {
   "codemirror_mode": {
    "name": "ipython",
    "version": 3
   },
   "file_extension": ".py",
   "mimetype": "text/x-python",
   "name": "python",
   "nbconvert_exporter": "python",
   "pygments_lexer": "ipython3",
   "version": "3.11.3"
  },
  "orig_nbformat": 4
 },
 "nbformat": 4,
 "nbformat_minor": 2
}
