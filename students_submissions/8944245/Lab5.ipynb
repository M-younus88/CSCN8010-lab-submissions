{
 "cells": [
  {
   "attachments": {},
   "cell_type": "markdown",
   "metadata": {},
   "source": [
    "# <font color = '#32cd32'> <u> _**Lab 5**_  </u> </font>"
   ]
  },
  {
   "attachments": {},
   "cell_type": "markdown",
   "metadata": {},
   "source": [
    "#### <font color = '#ffa500 '> _**1. Utilize the diabetes dataset from lab 4. Perform cross-validation on nine polynomial models, ranging from degree 0 to 8.**_</font>\n"
   ]
  },
  {
   "cell_type": "code",
   "execution_count": 22,
   "metadata": {},
   "outputs": [
    {
     "name": "stdout",
     "output_type": "stream",
     "text": [
      "The best degree is 1\n"
     ]
    }
   ],
   "source": [
    "\n",
    "#import libraries\n",
    "import numpy as np\n",
    "import pandas as pd\n",
    "from sklearn import datasets\n",
    "from sklearn.linear_model import LinearRegression\n",
    "from sklearn.preprocessing import PolynomialFeatures\n",
    "from sklearn.model_selection import cross_val_score\n",
    "from sklearn.pipeline import make_pipeline\n",
    "#import data\n",
    "X, y = datasets.load_diabetes(as_frame=True, scaled=False, return_X_y=True)\n",
    "# degree range\n",
    "degrees = range(9)\n",
    "\n",
    "# Create an empty list to store the cross-validation scores\n",
    "cross_val_scores = []\n",
    "for degree in degrees:\n",
    "    # Create a pipeline that creates polynomial features, then applies linear regression\n",
    "    model = make_pipeline(PolynomialFeatures(degree), LinearRegression())\n",
    "    \n",
    "    # Use cross-validation to compute the mean score across multiple splits of the data\n",
    "    score = cross_val_score(model, X, y, cv=5).mean()\n",
    "    cross_val_scores.append(score)\n",
    "\n",
    "# Choose the degree with the highest cross-validation score\n",
    "best_degree = degrees[np.argmax(cross_val_scores)]\n",
    "print(f\"The best degree is {best_degree}\")"
   ]
  },
  {
   "attachments": {},
   "cell_type": "markdown",
   "metadata": {},
   "source": [
    "\n",
    " #### <font color = '#ffa500 '> _**2. Construct a table summarizing the cross-validation results. Each model should have a separate row in the table. Include the R-Squared and Mean Absolute Error (MAE) metrics for each model. Calculate the mean value and standard deviation of these metrics from the cross-validation. Include both values**_ </font>"
   ]
  },
  {
   "cell_type": "code",
   "execution_count": 19,
   "metadata": {},
   "outputs": [
    {
     "name": "stdout",
     "output_type": "stream",
     "text": [
      "  Degree     R-Squared          MAE\n",
      "0      0     -0.008824    66.039250\n",
      "1      1      0.495322    44.274856\n",
      "2      2     -1.038035    72.283763\n",
      "3      3   -195.307321   341.371429\n",
      "4      4   -572.361896   656.629284\n",
      "5      5   -446.482486   563.019974\n",
      "6      6  -1790.583289   743.178083\n",
      "7      7  -5894.999471  1033.741782\n",
      "8      8 -17172.387613  1477.455476\n",
      "\n",
      "Mean R-Squared: -2896.964\n",
      "Mean MAE: 555.333\n",
      "Standard Deviation of R-Squared: 5677.605\n",
      "Standard Deviation of MAE: 487.916\n"
     ]
    }
   ],
   "source": [
    "\n",
    "from sklearn.calibration import cross_val_predict\n",
    "from sklearn.metrics import mean_absolute_error,r2_score\n",
    "\n",
    "\n",
    "# Create a table to summarize the cross-validation results\n",
    "results= pd.DataFrame(columns=['Degree', 'R-Squared', 'MAE'])\n",
    "\n",
    "for degree in degrees:\n",
    "    # Create a pipeline with PolynomialFeatures and LinearRegression\n",
    "    model = make_pipeline(PolynomialFeatures(degree), LinearRegression())\n",
    "    \n",
    "    # Calculate the R-Squared and MAE metrics\n",
    "    y_pred = cross_val_predict(model, X, y, cv=5)\n",
    "    r2 = r2_score(y, y_pred)\n",
    "    mae = mean_absolute_error(y, y_pred)\n",
    "    \n",
    "    # Create a new DataFrame row with the results\n",
    "    row = pd.DataFrame([[degree, r2, mae]], columns=['Degree', 'R-Squared', 'MAE'])\n",
    "    \n",
    "    # Concatenate the row to the results DataFrame\n",
    "    results = pd.concat([results, row], ignore_index=True)\n",
    "\n",
    "# Calculate mean and standard deviation of R-Squared and MAE\n",
    "mean_r2 = results['R-Squared'].mean()\n",
    "std_r2 = results['R-Squared'].std()\n",
    "mean_mae = results['MAE'].mean()\n",
    "std_mae = results['MAE'].std()\n",
    "\n",
    "\n",
    "# Print the results table\n",
    "print(results)\n",
    "\n",
    "# Print mean and standard deviation of R-Squared and MAE\n",
    "print(f\"\\nMean R-Squared: {mean_r2:.3f}\")\n",
    "print(f\"Mean MAE: {mean_mae:.3f}\")\n",
    "print(f\"Standard Deviation of R-Squared: {std_r2:.3f}\")\n",
    "print(f\"Standard Deviation of MAE: {std_mae:.3f}\")\n",
    "\n",
    "  "
   ]
  },
  {
   "attachments": {},
   "cell_type": "markdown",
   "metadata": {},
   "source": [
    "\n",
    " #### <font color = '#ffa500 '> _**3.Identification of the Best Model: Identify the model that exhibits the highest performance based on the R-Squared and MAE metrics. Provide an explanation for choosing this specific model.**_ </font>\n"
   ]
  },
  {
   "attachments": {},
   "cell_type": "markdown",
   "metadata": {},
   "source": [
    "> We can examine the results table obtained from the cross-validation. The model with the highest R-Squared value and the lowest MAE value can be considered the best-performing model."
   ]
  },
  {
   "cell_type": "code",
   "execution_count": 20,
   "metadata": {},
   "outputs": [
    {
     "name": "stdout",
     "output_type": "stream",
     "text": [
      "\n",
      "The model with the highest R-Squared value:\n",
      "Degree               1\n",
      "R-Squared     0.495322\n",
      "MAE          44.274856\n",
      "Name: 1, dtype: object\n",
      "\n",
      "The model with the lowest MAE value:\n",
      "Degree               1\n",
      "R-Squared     0.495322\n",
      "MAE          44.274856\n",
      "Name: 1, dtype: object\n"
     ]
    }
   ],
   "source": [
    "# Identify the model with the highest R-Squared value\n",
    "best_r2_model = results.loc[results['R-Squared'].idxmax()]\n",
    "\n",
    "# Identify the model with the lowest MAE value\n",
    "best_mae_model = results.loc[results['MAE'].idxmin()]\n",
    "\n",
    "# Print the model with the highest R-Squared value\n",
    "print(f\"\\nThe model with the highest R-Squared value:\\n{best_r2_model}\")\n",
    "\n",
    "# Print the model with the lowest MAE value\n",
    "print(f\"\\nThe model with the lowest MAE value:\\n{best_mae_model}\")"
   ]
  },
  {
   "attachments": {},
   "cell_type": "markdown",
   "metadata": {},
   "source": [
    ">In choosing the best model, we prioritize the one with the highest R-Squared value, indicating a stronger relationship between predictors and the target variable. Additionally, we consider the model with the lowest MAE value, indicating better accuracy in predicting the target variable. These metrics provide insights into the model's performance and guide the decision-making process."
   ]
  }
 ],
 "metadata": {
  "kernelspec": {
   "display_name": "CSCN8010_classic_ml",
   "language": "python",
   "name": "cscn8010_classic_ml"
  },
  "language_info": {
   "codemirror_mode": {
    "name": "ipython",
    "version": 3
   },
   "file_extension": ".py",
   "mimetype": "text/x-python",
   "name": "python",
   "nbconvert_exporter": "python",
   "pygments_lexer": "ipython3",
   "version": "3.11.3"
  },
  "orig_nbformat": 4
 },
 "nbformat": 4,
 "nbformat_minor": 2
}
