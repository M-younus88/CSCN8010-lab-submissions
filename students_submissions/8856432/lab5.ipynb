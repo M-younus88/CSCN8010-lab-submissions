{
 "cells": [
  {
   "attachments": {},
   "cell_type": "markdown",
   "metadata": {},
   "source": [
    "### Lab 5 - PRAMOD KUNJUKUNJU SAJI - 8856432"
   ]
  },
  {
   "cell_type": "code",
   "execution_count": 26,
   "metadata": {},
   "outputs": [],
   "source": [
    "import pandas as pd\n",
    "import numpy as np\n",
    "from typing import List\n",
    "from sklearn import datasets\n",
    "from sklearn.model_selection import cross_validate\n",
    "from sklearn.preprocessing import PolynomialFeatures\n",
    "from sklearn.pipeline import Pipeline\n",
    "from sklearn.linear_model import LinearRegression"
   ]
  },
  {
   "attachments": {},
   "cell_type": "markdown",
   "metadata": {},
   "source": [
    "##### 1. Utilize the diabetes dataset from lab 4. Perform cross-validation on nine polynomial models, ranging from degree 0 to 8."
   ]
  },
  {
   "cell_type": "code",
   "execution_count": 27,
   "metadata": {},
   "outputs": [],
   "source": [
    "X, y = datasets.load_diabetes(as_frame=True, scaled=False, return_X_y=True)"
   ]
  },
  {
   "cell_type": "code",
   "execution_count": 28,
   "metadata": {},
   "outputs": [],
   "source": [
    "def create_polynomial_models(X: np.ndarray, y: np.ndarray, degrees: List[int]) -> dict[int, np.poly1d]:\n",
    "    \"\"\"\n",
    "    Creates polynomial models for the given degrees and fits them to the given data.\n",
    "\n",
    "    Args\n",
    "        X: The x values of the data.\n",
    "        y: The y values of the data.\n",
    "        degrees: A list of polynomial degrees to try.\n",
    "\n",
    "    Returns:\n",
    "        A dictionary of polynomial models, with the polynomial degree as the key.\n",
    "    \"\"\"\n",
    "\n",
    "    models = {}\n",
    "    for degree in degrees:\n",
    "        model = Pipeline([('polynomial', PolynomialFeatures(degree=degree)),\n",
    "                          ('linear', LinearRegression())])\n",
    "        model.fit(X, y)\n",
    "        models[degree] = model\n",
    "    return models"
   ]
  },
  {
   "cell_type": "code",
   "execution_count": 29,
   "metadata": {},
   "outputs": [
    {
     "name": "stdout",
     "output_type": "stream",
     "text": [
      "{0: Pipeline(steps=[('polynomial', PolynomialFeatures(degree=0)),\n",
      "                ('linear', LinearRegression())]), 1: Pipeline(steps=[('polynomial', PolynomialFeatures(degree=1)),\n",
      "                ('linear', LinearRegression())]), 2: Pipeline(steps=[('polynomial', PolynomialFeatures()),\n",
      "                ('linear', LinearRegression())]), 3: Pipeline(steps=[('polynomial', PolynomialFeatures(degree=3)),\n",
      "                ('linear', LinearRegression())]), 4: Pipeline(steps=[('polynomial', PolynomialFeatures(degree=4)),\n",
      "                ('linear', LinearRegression())]), 5: Pipeline(steps=[('polynomial', PolynomialFeatures(degree=5)),\n",
      "                ('linear', LinearRegression())]), 6: Pipeline(steps=[('polynomial', PolynomialFeatures(degree=6)),\n",
      "                ('linear', LinearRegression())]), 7: Pipeline(steps=[('polynomial', PolynomialFeatures(degree=7)),\n",
      "                ('linear', LinearRegression())]), 8: Pipeline(steps=[('polynomial', PolynomialFeatures(degree=8)),\n",
      "                ('linear', LinearRegression())])}\n"
     ]
    }
   ],
   "source": [
    "# Create models with degrees ranging from 0 to 9\n",
    "\n",
    "degrees = list(range(0, 9))\n",
    "\n",
    "models = create_polynomial_models(X, y, degrees)\n",
    "print(models)"
   ]
  },
  {
   "attachments": {},
   "cell_type": "markdown",
   "metadata": {},
   "source": [
    "##### 2. Construct a table summarizing the cross-validation results. Each model should have a separate row in the table. Include the R-Squared and Mean Absolute Error (MAE) metrics for each model. Calculate the mean value and standard deviation of these metrics from the cross-validation. Include both values."
   ]
  },
  {
   "cell_type": "code",
   "execution_count": 39,
   "metadata": {},
   "outputs": [
    {
     "name": "stdout",
     "output_type": "stream",
     "text": [
      "  Degree Mean of R-Squared Std of R-Squared Mean of MAE Std of MAE   \n",
      "0      0            -0.038            0.046      66.263      3.061  \\\n",
      "1      1             0.485            0.067      44.065      1.992   \n",
      "2      2            -0.720            1.127      71.944     22.104   \n",
      "3      3           -77.851           49.807     326.948    107.153   \n",
      "4      4          -355.535          200.887     564.076    102.768   \n",
      "5      5          -412.204          376.396     527.764    123.777   \n",
      "6      6         -1254.029         1653.251     676.256    212.917   \n",
      "7      7         -3575.659         5365.974     868.799    349.160   \n",
      "8      8        -10242.787        13968.363    1275.591    493.197   \n",
      "\n",
      "                                           R-Squared  Combined Score   \n",
      "0  [-0.1165025099707262, -0.024043276932081747, -...       -0.395661  \\\n",
      "1  [0.37459248069314743, 0.4967831198867003, 0.50...       -0.062258   \n",
      "2  [0.28668970901515944, -0.029160959055428703, -...       -1.878047   \n",
      "3  [-35.818342483926266, -24.50133638029284, -106...     -127.664234   \n",
      "4  [-143.918364171853, -450.8624615538455, -189.1...     -556.429989   \n",
      "5  [-334.3727448026102, -60.05035930526772, -1042...     -788.606478   \n",
      "6  [-326.407954824291, -156.49344850458652, -4112...    -2907.283313   \n",
      "7  [-506.6142602294174, -273.8685991355107, -1286...    -8941.634146   \n",
      "8  [-954.9978342089329, -4619.581678257823, -3430...   -24211.151865   \n",
      "\n",
      "                                 Mean Absolute Error  \n",
      "0  [-61.053019787158775, -67.07871315424185, -68....  \n",
      "1  [-44.11158757171865, -46.4793906689517, -44.70...  \n",
      "2  [-46.666732605602604, -62.36965145076717, -106...  \n",
      "3  [-254.61414587390314, -202.3685268353973, -371...  \n",
      "4  [-415.5209825366541, -558.7538381715844, -576....  \n",
      "5  [-505.8645529753481, -355.4809491091565, -703....  \n",
      "6  [-519.7217223812936, -461.3874339810574, -1006...  \n",
      "7  [-583.9757128484118, -565.1345027105946, -1428...  \n",
      "8  [-730.4268102566781, -1148.3346689512387, -207...  \n"
     ]
    }
   ],
   "source": [
    "output = pd.DataFrame(columns=['Degree', 'Mean of R-Squared', 'Std of R-Squared', 'Mean of MAE', 'Std of MAE'])\n",
    "\n",
    "for degree, model in models.items():\n",
    "    # Performing cross-validation\n",
    "    crossValidation = cross_validate(model, X, y, cv=4, scoring=['r2', 'neg_mean_absolute_error'])\n",
    "    \n",
    "    # Calculating mean and standard deviation\n",
    "    r2Mean = np.mean(crossValidation['test_r2'])\n",
    "    r2Std = np.std(crossValidation['test_r2'])\n",
    "    maeMean = -np.mean(crossValidation['test_neg_mean_absolute_error'])\n",
    "    maeStd = np.std(crossValidation['test_neg_mean_absolute_error'])\n",
    "    \n",
    "    # Calcualting combined score\n",
    "    combinedScore = r2Mean - r2Std + (1 / maeMean) - (1 / maeStd)\n",
    "\n",
    "    # Add the results to the DataFrame\n",
    "    newRow = pd.DataFrame({\n",
    "        'Degree': [degree],\n",
    "        'Mean of R-Squared': [f\"{r2Mean:.3f}\"],\n",
    "        'Std of R-Squared': [f\"{r2Std:.3f}\"],\n",
    "        'Mean of MAE':[f\"{maeMean:.3f}\"],\n",
    "        'Std of MAE':[f\"{maeStd:.3f}\"],\n",
    "        'R-Squared': [crossValidation['test_r2']],\n",
    "        'Combined Score': [combinedScore],\n",
    "        'Mean Absolute Error': [crossValidation['test_neg_mean_absolute_error']]\n",
    "    })\n",
    "    output = pd.concat([output, newRow], ignore_index=True)\n",
    "print(output)\n",
    "    "
   ]
  },
  {
   "attachments": {},
   "cell_type": "markdown",
   "metadata": {},
   "source": [
    "##### 3. Identification of the Best Model: Identify the model that exhibits the highest performance based on the R-Squared and MAE metrics. Provide an explanation for choosing this specific model. "
   ]
  },
  {
   "cell_type": "code",
   "execution_count": 40,
   "metadata": {},
   "outputs": [
    {
     "name": "stdout",
     "output_type": "stream",
     "text": [
      "Degree                                                                 1\n",
      "Mean of R-Squared                                                  0.485\n",
      "Std of R-Squared                                                   0.067\n",
      "Mean of MAE                                                       44.065\n",
      "Std of MAE                                                         1.992\n",
      "R-Squared              [0.37459248069314743, 0.4967831198867003, 0.50...\n",
      "Combined Score                                                 -0.062258\n",
      "Mean Absolute Error    [-44.11158757171865, -46.4793906689517, -44.70...\n",
      "Name: 1, dtype: object\n"
     ]
    }
   ],
   "source": [
    "# Sorting the output with 'Combined Score' descending order\n",
    "sortedOutputs = output.sort_values(by=['Combined Score'], ascending=[False])\n",
    "\n",
    "# Print the best model\n",
    "print(sortedOutputs.iloc[0])"
   ]
  },
  {
   "attachments": {},
   "cell_type": "markdown",
   "metadata": {},
   "source": [
    "The model with degree 1 a it has the highest combined score.\n",
    "\n",
    "**Combined Score = Mean(R-Squared) - Std(R-Squared) + (1 / Mean(MAE)) - (1 / Std(MAE))**\n",
    "\n",
    "Also compared to other models, it has high R-Squared value and a lower MAE value."
   ]
  }
 ],
 "metadata": {
  "kernelspec": {
   "display_name": "CSCN8010_classic_ml1",
   "language": "python",
   "name": "python3"
  },
  "language_info": {
   "codemirror_mode": {
    "name": "ipython",
    "version": 3
   },
   "file_extension": ".py",
   "mimetype": "text/x-python",
   "name": "python",
   "nbconvert_exporter": "python",
   "pygments_lexer": "ipython3",
   "version": "3.9.7"
  },
  "orig_nbformat": 4
 },
 "nbformat": 4,
 "nbformat_minor": 2
}
