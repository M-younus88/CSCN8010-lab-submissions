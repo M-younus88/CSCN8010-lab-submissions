{
 "cells": [
  {
   "attachments": {},
   "cell_type": "markdown",
   "id": "0869c1ac",
   "metadata": {},
   "source": [
    "Importing the necessary packages\n"
   ]
  },
  {
   "cell_type": "code",
   "execution_count": 1,
   "id": "1bd648db",
   "metadata": {},
   "outputs": [],
   "source": [
    "import numpy as np\n",
    "import pandas as pd\n",
    "import seaborn as sns\n",
    "import matplotlib.pyplot as plt\n",
    "from sklearn.metrics import r2_score, mean_absolute_error,mean_squared_error,mean_absolute_percentage_error\n",
    "from sklearn.model_selection import KFold, cross_val_score\n",
    "from sklearn.preprocessing import PolynomialFeatures\n",
    "from sklearn.linear_model import LinearRegression\n",
    "from sklearn.pipeline import Pipeline"
   ]
  },
  {
   "attachments": {},
   "cell_type": "markdown",
   "id": "0709e631",
   "metadata": {},
   "source": [
    " Loading the diabetes data"
   ]
  },
  {
   "cell_type": "code",
   "execution_count": 2,
   "id": "fb19cd0c",
   "metadata": {},
   "outputs": [],
   "source": [
    "from sklearn import datasets\n",
    "diabetes_X,diabetes_y = datasets.load_diabetes(return_X_y=True)"
   ]
  },
  {
   "attachments": {},
   "cell_type": "markdown",
   "id": "fc105fd4",
   "metadata": {},
   "source": [
    "Converting the data into one single dataframe"
   ]
  },
  {
   "cell_type": "code",
   "execution_count": 3,
   "id": "d13eb79b",
   "metadata": {},
   "outputs": [],
   "source": [
    "diabetes = pd.DataFrame(diabetes_X,columns = [\"age\",\"sex\",\"bmi\",\"bp\",\"s1\",\"s2\",\"s3\",\"s4\",\"s5\",\"s6\"])\n",
    "diabetes[\"dis_prog\"] = pd.DataFrame(diabetes_y)"
   ]
  },
  {
   "attachments": {},
   "cell_type": "markdown",
   "id": "7436adb2",
   "metadata": {},
   "source": [
    "Splitting into indepndent and dependent variable"
   ]
  },
  {
   "cell_type": "code",
   "execution_count": 4,
   "id": "e8b748ec",
   "metadata": {},
   "outputs": [],
   "source": [
    "X = diabetes.iloc[:,:-1]\n",
    "y = diabetes.iloc[:,-1]"
   ]
  },
  {
   "attachments": {},
   "cell_type": "markdown",
   "id": "4a192562",
   "metadata": {},
   "source": [
    "Fitting the model"
   ]
  },
  {
   "cell_type": "code",
   "execution_count": 5,
   "id": "059d278a",
   "metadata": {},
   "outputs": [
    {
     "name": "stdout",
     "output_type": "stream",
     "text": [
      "   Degree  R-Squared         MAE\n",
      "0       0  -0.039767   65.948459\n",
      "1       1   0.461960   44.223084\n",
      "2       2   0.379861   45.873376\n",
      "3       3 -38.703138  216.637639\n",
      "4       4 -72.819234  329.077072\n",
      "5       5 -65.606865  312.433209\n",
      "6       6 -65.480725  312.239540\n",
      "7       7 -65.479136  312.236473\n",
      "8       8 -65.478698  312.235972\n",
      "\n",
      "Mean R-Squared: -41.4184\n",
      "Standard Deviation of R-Squared: 32.6507\n",
      "Mean MAE: 216.7672\n",
      "Standard Deviation of MAE: 127.8826\n",
      "\n",
      "Best Model based on R-Squared:\n",
      "Degree        1.000000\n",
      "R-Squared     0.461960\n",
      "MAE          44.223084\n",
      "Name: 1, dtype: float64\n",
      "\n",
      "Best Model based on MAE:\n",
      "Degree        1.000000\n",
      "R-Squared     0.461960\n",
      "MAE          44.223084\n",
      "Name: 1, dtype: float64\n"
     ]
    }
   ],
   "source": [
    "# Creating a list for storing all the 9 degress, R squared, and MAE \n",
    "degrees = []\n",
    "list_of_r2_scores = []\n",
    "list_of_mae_scores = []\n",
    "\n",
    "# Creating a range of 9 polynomial degrees with for loop\n",
    "for degree in range(9):\n",
    "    # Create polynomial features\n",
    "    poly_features = PolynomialFeatures(degree=degree)\n",
    "    X_poly = poly_features.fit_transform(X)\n",
    "    \n",
    "    # Performing cross validation with 10 splits on linear regression model\n",
    "    model = LinearRegression()\n",
    "    r_squared = cross_val_score(model, X_poly, y, cv=10, scoring='r2')\n",
    "    mean_absolute_error = -cross_val_score(model, X_poly, y, cv=10, scoring='neg_mean_absolute_error')\n",
    "    \n",
    "    # Appending the model results\n",
    "    degrees.append(degree)\n",
    "    list_of_r2_scores.append(np.mean(r_squared))\n",
    "    list_of_mae_scores.append(np.mean(mean_absolute_error))\n",
    "\n",
    "# Creating a dataframe consisting the degress, R2 and MAE\n",
    "results_df = pd.DataFrame({'Degree': degrees,\n",
    "                           'R-Squared': list_of_r2_scores,\n",
    "                           'MAE': list_of_mae_scores})\n",
    "\n",
    "# Calculate the mean and standard deviation of the R_squared and Mean absolute error\n",
    "mean_r_squared = results_df['R-Squared'].mean()\n",
    "standard_dev_r_squared = results_df['R-Squared'].std()\n",
    "mean_mean_absolute_error = results_df['MAE'].mean()\n",
    "standard_deviation_mean_absolute_error = results_df['MAE'].std()\n",
    "\n",
    "# Print the table of cross-validation results\n",
    "print(results_df)\n",
    "\n",
    "# Print the mean and standard deviation of the metrics\n",
    "print(f\"\\nMean R-Squared: {mean_r_squared:.4f}\")\n",
    "print(f\"Standard Deviation of R-Squared: {standard_dev_r_squared:.4f}\")\n",
    "print(f\"Mean MAE: {mean_mean_absolute_error:.4f}\")\n",
    "print(f\"Standard Deviation of MAE: {standard_deviation_mean_absolute_error:.4f}\")\n",
    "\n",
    "# Identifying the best model with the help of idmax and idmin\n",
    "# Higher R-squared values indicate a better fit of the regression model to the data. \n",
    "# MAE calculates the average absolute difference between the predicted values and the actual values\n",
    "# Lower the MAE better the model\n",
    "\n",
    "r_squared_best_model = results_df['R-Squared'].idxmax()\n",
    "mean_absolute_error_best_model = results_df['MAE'].idxmin()\n",
    "\n",
    "print(\"\\nBest Model based on R-Squared:\")\n",
    "print(results_df.loc[r_squared_best_model])\n",
    "\n",
    "print(\"\\nBest Model based on MAE:\")\n",
    "print(results_df.loc[mean_absolute_error_best_model])"
   ]
  },
  {
   "attachments": {},
   "cell_type": "markdown",
   "id": "4da477a2",
   "metadata": {},
   "source": [
    "Inferences"
   ]
  },
  {
   "attachments": {},
   "cell_type": "markdown",
   "id": "26350b01",
   "metadata": {},
   "source": [
    "R-squared provides an indication of how well the regression model fits the above data. The value of R squared\n",
    "ranges from 0 to 1. Higher the R-squared values indicate a better fit of the model to the data. \n",
    "\n",
    "Mean absolute error is used to predict the absolute difference of the actaul vs the predicted value of the model. A lower Mean absolute error suggests that the lower MAE indicates that the model is close to the actual value and is better at predicting new data (unseen data). \n",
    "\n",
    "From the above observation it is clearly interpretable that the model with degree = 1 is the best model as\n",
    "it has the highest R2 score and lowest MAE"
   ]
  }
 ],
 "metadata": {
  "kernelspec": {
   "display_name": "Python 3",
   "language": "python",
   "name": "python3"
  },
  "language_info": {
   "codemirror_mode": {
    "name": "ipython",
    "version": 3
   },
   "file_extension": ".py",
   "mimetype": "text/x-python",
   "name": "python",
   "nbconvert_exporter": "python",
   "pygments_lexer": "ipython3",
   "version": "3.10.11"
  }
 },
 "nbformat": 4,
 "nbformat_minor": 5
}
