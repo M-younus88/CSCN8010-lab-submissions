{
 "cells": [
  {
   "attachments": {},
   "cell_type": "markdown",
   "metadata": {},
   "source": [
    "## Lab 5 \n",
    "## Zohair Mubasheer Ahmed - 8897082"
   ]
  },
  {
   "cell_type": "code",
   "execution_count": 10,
   "metadata": {},
   "outputs": [],
   "source": [
    "import numpy as np\n",
    "import pandas as pd\n",
    "from sklearn import datasets\n",
    "from sklearn.datasets import load_diabetes\n",
    "from sklearn.metrics import mean_absolute_error, mean_squared_error ,mean_absolute_percentage_error\n",
    "from sklearn.model_selection import cross_val_score\n",
    "from sklearn.preprocessing import PolynomialFeatures\n",
    "from sklearn.linear_model import LinearRegression\n",
    "from sklearn.pipeline import make_pipeline\n",
    "from sklearn.metrics import get_scorer_names\n",
    "\n",
    "X, y = datasets.load_diabetes(as_frame=True, scaled=False, return_X_y=True)"
   ]
  },
  {
   "attachments": {},
   "cell_type": "markdown",
   "metadata": {},
   "source": [
    "- Q1.  Utilize the diabetes dataset from lab 4. Perform cross-validation on nine polynomial models, ranging from degree 0 to 8. (2 points)"
   ]
  },
  {
   "cell_type": "code",
   "execution_count": 11,
   "metadata": {},
   "outputs": [],
   "source": [
    "degrees = np.arange(0, 9)\n",
    "cross_validation_data = []\n",
    "cv_results = []\n",
    "for degree in range(9):\n",
    "    model = make_pipeline(PolynomialFeatures(degree), LinearRegression())    \n",
    "\n",
    "    cross_validation_scores = cross_val_score(model, X, y, cv=5, scoring='r2')\n",
    "    mean_r_squared = cross_validation_scores.mean()\n",
    "    sd_r_squared = cross_validation_scores.std()\n",
    "    mae = -cross_val_score(model, X, y, cv=5, scoring='neg_mean_absolute_error')\n",
    "    mae_mean = mae.mean()\n",
    "    mae_sd = mae.std()\n",
    "    cross_validation_data.append((degree, mean_r_squared, sd_r_squared, mae_mean, mae_sd))\n"
   ]
  },
  {
   "attachments": {},
   "cell_type": "markdown",
   "metadata": {},
   "source": [
    "- Q2. Construct a table summarizing the cross-validation results. Each model should have a separate row in the table. Include the R-Squared and Mean Absolute Error (MAE) metrics for each model. Calculate the mean value and standard deviation of these metrics from the cross-validation. Include both values. (2 points)"
   ]
  },
  {
   "cell_type": "code",
   "execution_count": 12,
   "metadata": {},
   "outputs": [
    {
     "name": "stdout",
     "output_type": "stream",
     "text": [
      "   Degree  Mean_r_squared  SD_r_squared     Mean MAE      SD MAE\n",
      "0       0       -0.027506      0.036772    66.045624    3.474660\n",
      "1       1        0.482316      0.049269    44.276499    2.100110\n",
      "2       2       -0.528281      1.086913    66.857204   24.676461\n",
      "3       3     -203.419757    225.878956   342.052180  142.438635\n",
      "4       4     -571.083108    369.891883   657.260477  159.475902\n",
      "5       5     -436.856887    379.100423   562.993636   59.917202\n",
      "6       6    -1695.473267   2632.637763   742.496432  191.119317\n",
      "7       7    -5530.894075   9518.586955  1032.681725  393.439617\n",
      "8       8   -16076.255116  28049.952578  1475.658532  706.280274\n"
     ]
    }
   ],
   "source": [
    "dataframe = pd.DataFrame(cross_validation_data)\n",
    "dataframe.columns = ['Degree', 'Mean_r_squared', 'SD_r_squared', 'Mean MAE', 'SD MAE']\n",
    "print(dataframe)"
   ]
  },
  {
   "attachments": {},
   "cell_type": "markdown",
   "metadata": {},
   "source": [
    "- Q3. Identification of the Best Model: Identify the model that exhibits the highest performance based on the R-Squared and MAE metrics. Provide an explanation for choosing this specific model. (2 points)"
   ]
  },
  {
   "cell_type": "code",
   "execution_count": 13,
   "metadata": {},
   "outputs": [
    {
     "name": "stdout",
     "output_type": "stream",
     "text": [
      "The Model exhibiting highest performance, based on R-Squared:\n",
      "Degree: 1.0, R-Squared: 0.4823, SD R-Squared: 0.0493\n",
      "----------------------------------------------\n",
      "The Model exhibiting highest performance, based on MAE:\n",
      "Degree: 1, MAE: 44.2765, SD MAE: 2.1001\n"
     ]
    }
   ],
   "source": [
    "r2_index = np.argmax(dataframe.iloc[:, 1])\n",
    "mae_index = np.argmin(dataframe.iloc[:, 3])\n",
    "\n",
    "r2_degree,r2, sd_r_squared = dataframe.iloc[r2_index, :3]\n",
    "mae_degree, mae, mae_sd = dataframe.iloc[mae_index, 0], dataframe.iloc[mae_index, 3], dataframe.iloc[mae_index, 4]\n",
    "\n",
    "print(\"The Model exhibiting highest performance, based on R-Squared:\")\n",
    "print(f\"Degree: {r2_degree}, R-Squared: {r2:.4f}, SD R-Squared: {sd_r_squared:.4f}\")\n",
    "\n",
    "print(\"----------------------------------------------\")\n",
    "\n",
    "print(\"The Model exhibiting highest performance, based on MAE:\")\n",
    "print(f\"Degree: {mae_degree}, MAE: {mae:.4f}, SD MAE: {mae_sd:.4f}\")"
   ]
  }
 ],
 "metadata": {
  "kernelspec": {
   "display_name": "CSCN8010_classic_ml",
   "language": "python",
   "name": "python3"
  },
  "language_info": {
   "codemirror_mode": {
    "name": "ipython",
    "version": 3
   },
   "file_extension": ".py",
   "mimetype": "text/x-python",
   "name": "python",
   "nbconvert_exporter": "python",
   "pygments_lexer": "ipython3",
   "version": "3.11.3"
  },
  "orig_nbformat": 4
 },
 "nbformat": 4,
 "nbformat_minor": 2
}
