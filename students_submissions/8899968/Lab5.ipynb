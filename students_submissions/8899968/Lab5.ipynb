{
 "cells": [
  {
   "attachments": {},
   "cell_type": "markdown",
   "metadata": {},
   "source": [
    "### LAB 5 - ABIJITH SURESH KM (8899968)"
   ]
  },
  {
   "attachments": {},
   "cell_type": "markdown",
   "metadata": {},
   "source": [
    "TASK 1 - Utilize the diabetes dataset from lab 4. Perform cross-validation on nine polynomial models, ranging from degree 0 to 8."
   ]
  },
  {
   "cell_type": "code",
   "execution_count": 18,
   "metadata": {},
   "outputs": [],
   "source": [
    "# Importing the necessary packages\n",
    "from sklearn.model_selection import cross_val_score\n",
    "from sklearn.preprocessing import PolynomialFeatures\n",
    "from sklearn.pipeline import make_pipeline\n",
    "from sklearn.linear_model import LinearRegression\n",
    "import numpy as np\n",
    "import pandas as pd\n",
    "from sklearn import datasets"
   ]
  },
  {
   "cell_type": "code",
   "execution_count": 19,
   "metadata": {},
   "outputs": [],
   "source": [
    "# Load the datasets\n",
    "\n",
    "X, y = datasets.load_diabetes(as_frame=True, scaled=False, return_X_y=True)\n"
   ]
  },
  {
   "cell_type": "code",
   "execution_count": 20,
   "metadata": {},
   "outputs": [],
   "source": [
    "cross_val_scores = []\n",
    "degrees = np.arange(0, 9)\n",
    "\n",
    "for degree in degrees:\n",
    "    model = make_pipeline (PolynomialFeatures(degree), LinearRegression())\n",
    "    crossValidationScores = cross_val_score(model, X, y, cv=5, scoring='r2')\n",
    "    mean_Rts = crossValidationScores.mean()\n",
    "    sd_Rts = crossValidationScores.std()\n",
    "\n",
    "    crossValidationScoresMAE = cross_val_score(model, X, y, cv=5, scoring='neg_mean_absolute_error')\n",
    "    mean_MAE = crossValidationScores.mean()\n",
    "    sd_MAE = crossValidationScores.std()\n",
    "\n",
    "    cross_val_scores.append([mean_Rts, sd_Rts, mean_MAE, sd_MAE])    "
   ]
  },
  {
   "attachments": {},
   "cell_type": "markdown",
   "metadata": {},
   "source": [
    "TASL 2 - Construct a table summarizing the cross-validation results. Each model should have a separate row in the table. Include the R-Squared and Mean Absolute Error (MAE) metrics for each model. Calculate the mean value and standard deviation of these metrics from the cross-validation. Include both values.\n"
   ]
  },
  {
   "cell_type": "code",
   "execution_count": 21,
   "metadata": {},
   "outputs": [
    {
     "name": "stdout",
     "output_type": "stream",
     "text": [
      "   Mean R-squared  SD R-squared      Mean MAE        SD MAE\n",
      "0       -0.027506      0.036772     -0.027506      0.036772\n",
      "1        0.482316      0.049269      0.482316      0.049269\n",
      "2       -1.485182      1.618007     -1.485182      1.618007\n",
      "3     -203.418938    225.878146   -203.418938    225.878146\n",
      "4     -571.083108    369.891884   -571.083108    369.891884\n",
      "5     -436.856887    379.100423   -436.856887    379.100423\n",
      "6    -1694.550210   2629.989561  -1694.550210   2629.989561\n",
      "7    -5530.894075   9518.586954  -5530.894075   9518.586954\n",
      "8   -16076.255118  28049.952580 -16076.255118  28049.952580\n"
     ]
    }
   ],
   "source": [
    "dataFrame = pd.DataFrame(cross_val_scores, columns=['Mean R-squared','SD R-squared', 'Mean MAE', 'SD MAE'])\n",
    "print(dataFrame)"
   ]
  },
  {
   "attachments": {},
   "cell_type": "markdown",
   "metadata": {},
   "source": [
    "TASK 3 - Identification of the Best Model: Identify the model that exhibits the highest performance based on the R-Squared and MAE metrics. Provide an explanation for choosing this specific model.\n"
   ]
  },
  {
   "cell_type": "code",
   "execution_count": 22,
   "metadata": {},
   "outputs": [
    {
     "name": "stdout",
     "output_type": "stream",
     "text": [
      "The degree with the highest cross-validation score, when metric is R squared : 1\n",
      "The degree with the highest cross-validation score, when metric is MAE : 1\n"
     ]
    }
   ],
   "source": [
    "maxRsquaredScore = degrees[np.argmax(dataFrame['Mean R-squared'])]\n",
    "\n",
    "print(\"The degree with the highest cross-validation score, when metric is R squared :\",maxRsquaredScore)\n",
    "\n",
    "maxMAEScore = degrees[np.argmax(dataFrame['Mean MAE'])]\n",
    "\n",
    "print(\"The degree with the highest cross-validation score, when metric is MAE :\",maxMAEScore)"
   ]
  },
  {
   "attachments": {},
   "cell_type": "markdown",
   "metadata": {},
   "source": [
    "Degree 1 has the highest R squared value and has the maximum MAE value . So it is best among all other models."
   ]
  }
 ],
 "metadata": {
  "kernelspec": {
   "display_name": "CSCN8010_classic_ml",
   "language": "python",
   "name": "cscn8010_classic_ml"
  },
  "language_info": {
   "codemirror_mode": {
    "name": "ipython",
    "version": 3
   },
   "file_extension": ".py",
   "mimetype": "text/x-python",
   "name": "python",
   "nbconvert_exporter": "python",
   "pygments_lexer": "ipython3",
   "version": "3.11.3"
  },
  "orig_nbformat": 4
 },
 "nbformat": 4,
 "nbformat_minor": 2
}
