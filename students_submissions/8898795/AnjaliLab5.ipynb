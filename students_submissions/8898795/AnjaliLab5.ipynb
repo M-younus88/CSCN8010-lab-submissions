{
 "cells": [
  {
   "attachments": {},
   "cell_type": "markdown",
   "metadata": {},
   "source": [
    "**lab-5**"
   ]
  },
  {
   "attachments": {},
   "cell_type": "markdown",
   "metadata": {},
   "source": [
    "1.Utilize the diabetes dataset from lab 4. Perform cross-validation on nine polynomial models, ranging from degree 0 to 8."
   ]
  },
  {
   "cell_type": "code",
   "execution_count": 12,
   "metadata": {},
   "outputs": [],
   "source": [
    "#import libraries\n",
    "import numpy as np\n",
    "import pandas as pd\n",
    "from sklearn import datasets\n",
    "from sklearn.linear_model import LinearRegression\n",
    "from sklearn.preprocessing import PolynomialFeatures\n",
    "from sklearn.model_selection import cross_val_score\n",
    "from sklearn.pipeline import make_pipeline"
   ]
  },
  {
   "cell_type": "code",
   "execution_count": 2,
   "metadata": {},
   "outputs": [],
   "source": [
    "#import data\n",
    "X, y = datasets.load_diabetes(as_frame=True, scaled=False, return_X_y=True)"
   ]
  },
  {
   "cell_type": "code",
   "execution_count": 16,
   "metadata": {},
   "outputs": [],
   "source": [
    "# degree range\n",
    "degrees = range(9)\n",
    "\n",
    "# Create an empty list to store the cross-validation scores\n",
    "cross_val_scores = []\n"
   ]
  },
  {
   "cell_type": "code",
   "execution_count": 17,
   "metadata": {},
   "outputs": [
    {
     "name": "stdout",
     "output_type": "stream",
     "text": [
      "The best degree is 1\n"
     ]
    }
   ],
   "source": [
    "for degree in degrees:\n",
    "    # Create a pipeline that creates polynomial features, then applies linear regression\n",
    "    model = make_pipeline(PolynomialFeatures(degree), LinearRegression())\n",
    "    \n",
    "    # Use cross-validation to compute the mean score across multiple splits of the data\n",
    "    score = cross_val_score(model, X, y, cv=5).mean()\n",
    "    cross_val_scores.append(score)\n",
    "\n",
    "# Choose the degree with the highest cross-validation score\n",
    "best_degree = degrees[np.argmax(cross_val_scores)]\n",
    "print(f\"The best degree is {best_degree}\")"
   ]
  },
  {
   "attachments": {},
   "cell_type": "markdown",
   "metadata": {},
   "source": [
    "2.Construct a table summarizing the cross-validation results. Each model should have a separate row in the table. Include the R-Squared and Mean Absolute Error (MAE) metrics for each model. Calculate the mean value and standard deviation of these metrics from the cross-validation. Include both values."
   ]
  },
  {
   "cell_type": "code",
   "execution_count": 44,
   "metadata": {},
   "outputs": [
    {
     "name": "stdout",
     "output_type": "stream",
     "text": [
      "  Degree     R-Squared          MAE\n",
      "0      0     -0.008824    66.039250\n",
      "1      1      0.495322    44.274856\n",
      "2      2     -0.686581    69.313394\n",
      "3      3   -195.306778   341.371232\n",
      "4      4   -572.361896   656.629284\n",
      "5      5   -446.482486   563.019974\n",
      "6      6  -1792.253736   743.080941\n",
      "7      7  -5894.999471  1033.741782\n",
      "8      8 -17172.387611  1477.455476\n",
      "\n",
      "Mean R-Squared: -2897.110\n",
      "Mean MAE: 554.992\n",
      "Standard Deviation of R-Squared: 5677.587\n",
      "Standard Deviation of MAE: 488.280\n"
     ]
    }
   ],
   "source": [
    "from sklearn.calibration import cross_val_predict\n",
    "from sklearn.metrics import mean_absolute_error,r2_score\n",
    "\n",
    "\n",
    "# Create a table to summarize the cross-validation results\n",
    "results= pd.DataFrame(columns=['Degree', 'R-Squared', 'MAE'])\n",
    "\n",
    "for degree in degrees:\n",
    "    # Create a pipeline with PolynomialFeatures and LinearRegression\n",
    "    model = make_pipeline(PolynomialFeatures(degree), LinearRegression())\n",
    "    \n",
    "    # Calculate the R-Squared and MAE metrics\n",
    "    y_pred = cross_val_predict(model, X, y, cv=5)\n",
    "    r2 = r2_score(y, y_pred)\n",
    "    mae = mean_absolute_error(y, y_pred)\n",
    "    \n",
    "    # Create a new DataFrame row with the results\n",
    "    row = pd.DataFrame([[degree, r2, mae]], columns=['Degree', 'R-Squared', 'MAE'])\n",
    "    \n",
    "    # Concatenate the row to the results DataFrame\n",
    "    results = pd.concat([results, row], ignore_index=True)\n",
    "\n",
    "# Calculate mean and standard deviation of R-Squared and MAE\n",
    "mean_r2 = results['R-Squared'].mean()\n",
    "std_r2 = results['R-Squared'].std()\n",
    "mean_mae = results['MAE'].mean()\n",
    "std_mae = results['MAE'].std()\n",
    "\n",
    "\n",
    "# Print the results table\n",
    "print(results)\n",
    "\n",
    "# Print mean and standard deviation of R-Squared and MAE\n",
    "print(f\"\\nMean R-Squared: {mean_r2:.3f}\")\n",
    "print(f\"Mean MAE: {mean_mae:.3f}\")\n",
    "print(f\"Standard Deviation of R-Squared: {std_r2:.3f}\")\n",
    "print(f\"Standard Deviation of MAE: {std_mae:.3f}\")"
   ]
  },
  {
   "attachments": {},
   "cell_type": "markdown",
   "metadata": {},
   "source": [
    "3.Identification of the Best Model: Identify the model that exhibits the highest performance based on the R-Squared and MAE metrics. Provide an explanation for choosing this specific model. "
   ]
  },
  {
   "cell_type": "code",
   "execution_count": 57,
   "metadata": {},
   "outputs": [
    {
     "name": "stdout",
     "output_type": "stream",
     "text": [
      "\n",
      "The model with the highest R-Squared value:\n",
      "Degree               1\n",
      "R-Squared     0.495322\n",
      "MAE          44.274856\n",
      "Name: 1, dtype: object\n",
      "\n",
      "The model with the lowest MAE value:\n",
      "Degree               1\n",
      "R-Squared     0.495322\n",
      "MAE          44.274856\n",
      "Name: 1, dtype: object\n"
     ]
    }
   ],
   "source": [
    "# Identify the model with the highest R-Squared value\n",
    "best_r2_model = results.loc[results['R-Squared'].idxmax()]\n",
    "\n",
    "# Identify the model with the lowest MAE value\n",
    "best_mae_model = results.loc[results['MAE'].idxmin()]\n",
    "\n",
    "# Print the model with the highest R-Squared value\n",
    "print(f\"\\nThe model with the highest R-Squared value:\\n{best_r2_model}\")\n",
    "\n",
    "# Print the model with the lowest MAE value\n",
    "print(f\"\\nThe model with the lowest MAE value:\\n{best_mae_model}\")"
   ]
  },
  {
   "attachments": {},
   "cell_type": "markdown",
   "metadata": {},
   "source": [
    "when choosing the best model based on the R-Squared and MAE metrics\n",
    "\n",
    "Model with the highest R-Squared:\n",
    "The model with the highest R-Squared value indicates the highest proportion of variance in the target variable (diabetes) that is explained by the model. A higher R-Squared value suggests that the model fits the data well and can better predict the target variable. Therefore, choosing the model with the highest R-Squared indicates a stronger relationship between the predictors (polynomial features) and the target variable.\n",
    "\n",
    "Model with the lowest MAE:\n",
    "The model with the lowest MAE (44.2748) value suggests the model with the smallest average prediction error. MAE represents the average absolute difference between the predicted values and the actual values of the target variable. A lower MAE indicates that the model's predictions are closer to the actual values on average. Therefore, choosing the model with the lowest MAE indicates better accuracy and precision in predicting the target variable.\n",
    "\n",
    "In summary, by selecting the model with the highest R-Squared value, we prioritize the model's ability to explain the variance in the target variable. On the other hand, by choosing the model with the lowest MAE value, we emphasize the model's accuracy in predicting the target variable. Both criteria provide valuable insights into the model's performance and can guide the decision-making process."
   ]
  }
 ],
 "metadata": {
  "kernelspec": {
   "display_name": "CSCN8010_classic_ml`",
   "language": "python",
   "name": "cscn8010_classic_ml"
  },
  "language_info": {
   "codemirror_mode": {
    "name": "ipython",
    "version": 3
   },
   "file_extension": ".py",
   "mimetype": "text/x-python",
   "name": "python",
   "nbconvert_exporter": "python",
   "pygments_lexer": "ipython3",
   "version": "3.11.3"
  },
  "orig_nbformat": 4
 },
 "nbformat": 4,
 "nbformat_minor": 2
}