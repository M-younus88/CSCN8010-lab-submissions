{
 "cells": [
  {
   "attachments": {},
   "cell_type": "markdown",
   "metadata": {},
   "source": [
    "###### FOUNDATION OF MACHINE LEARNING\n",
    "### Practical Lab \n",
    "# **#5**\n",
    "---"
   ]
  },
  {
   "attachments": {},
   "cell_type": "markdown",
   "metadata": {},
   "source": [
    "1. Utilize the diabetes dataset from lab 4. Perform cross-validation on nine polynomial models, ranging from degree 0 to 8. (2 points)\n",
    "2. Construct a table summarizing the cross-validation results. Each model should have a separate row in the table. Include the R-Squared and Mean Absolute Error (MAE) metrics for each model. Calculate the mean value and standard deviation of these metrics from the cross-validation. Include both values. (2 points)"
   ]
  },
  {
   "cell_type": "code",
   "execution_count": 31,
   "metadata": {},
   "outputs": [
    {
     "name": "stdout",
     "output_type": "stream",
     "text": [
      " Degree    MAE-Mean    MAE-Std       R2-Mean       R2-Std\n",
      "      1   44.276499   2.100110      0.482316     0.049269\n",
      "      2   68.750394  17.429324     -0.566826     0.690190\n",
      "      3  342.052153 142.438360   -203.419215   225.878367\n",
      "      4  657.260477 159.475902   -571.083108   369.891883\n",
      "      5  562.993636  59.917202   -436.856887   379.100423\n",
      "      6  742.562586 190.956306  -1694.818876  2631.043243\n",
      "      7 1032.681725 393.439617  -5530.894074  9518.586954\n",
      "      8 1475.658532 706.280274 -16076.255118 28049.952582\n"
     ]
    }
   ],
   "source": [
    "import pandas as pd\n",
    "from sklearn.preprocessing import PolynomialFeatures\n",
    "from sklearn.linear_model import LinearRegression\n",
    "from sklearn import datasets\n",
    "from sklearn.model_selection import train_test_split\n",
    "from sklearn.model_selection import cross_val_score\n",
    "from sklearn.pipeline import make_pipeline\n",
    "\n",
    "\n",
    "X, y = datasets.load_diabetes(as_frame=True, scaled=False, return_X_y=True)\n",
    "X_train, X_test, y_train, y_test = train_test_split(\n",
    "    X, y, test_size=0.2, random_state=42\n",
    ")\n",
    "\n",
    "\n",
    "# This array will hold the result summary of prediction modals with different degree of polynomial.\n",
    "results = []\n",
    "\n",
    "\n",
    "# Calculate different model metrics and add to results\n",
    "def report_metrics(degree, model):\n",
    "    result = []\n",
    "\n",
    "    cv_mae = cross_val_score(model, X, y, scoring=\"neg_mean_absolute_error\")\n",
    "    cv_r2 = cross_val_score(model, X, y, scoring=\"r2\")\n",
    "\n",
    "    result.append(degree)\n",
    "    result.append(-cv_mae.mean())\n",
    "    result.append(cv_mae.std())\n",
    "    result.append(cv_r2.mean())\n",
    "    result.append(cv_r2.std())\n",
    "\n",
    "    results.append(result)\n",
    "\n",
    "\n",
    "for degree in range(1, 9):\n",
    "    # Create model with given degree of features\n",
    "    model = make_pipeline(PolynomialFeatures(degree), LinearRegression())\n",
    "\n",
    "    report_metrics(degree, model)\n",
    "\n",
    "result_df = pd.DataFrame(\n",
    "    results,\n",
    "    columns=[\n",
    "        \"Degree\",\n",
    "        \"MAE-Mean\",\n",
    "        \"MAE-Std\",\n",
    "        \"R2-Mean\",\n",
    "        \"R2-Std\",\n",
    "    ],\n",
    ")\n",
    "\n",
    "print(result_df.to_string(index=False))"
   ]
  },
  {
   "attachments": {},
   "cell_type": "markdown",
   "metadata": {},
   "source": [
    "3. Identification of the Best Model: Identify the model that exhibits the highest performance based on the R-Squared and MAE metrics. Provide an explanation for choosing this specific model. (2 points)"
   ]
  },
  {
   "attachments": {},
   "cell_type": "markdown",
   "metadata": {},
   "source": [
    "To find the best model using \"R-squared\" metrics, we will look at the table to find the degree of model with largest value for \"R2-Mean\". This also will be the closest value to 1. The value of \"R2-Mean\" will not be more than 1. The higher value of R-squared indicated highest proportion of variation in targets which helps in better prediction for unknown data."
   ]
  },
  {
   "cell_type": "code",
   "execution_count": 42,
   "metadata": {},
   "outputs": [
    {
     "data": {
      "text/plain": [
       "'Degree: 1'"
      ]
     },
     "execution_count": 42,
     "metadata": {},
     "output_type": "execute_result"
    }
   ],
   "source": [
    "# Winner for best model based on R-squared metric:\n",
    "f'Degree: {result_df[\"Degree\"][result_df[\"R2-Mean\"].idxmax()]}'"
   ]
  },
  {
   "attachments": {},
   "cell_type": "markdown",
   "metadata": {},
   "source": [
    "To find the best model using \"Mean Absolute Error\", we will look at the table to find degree of model with smallest value for \"MAE\". This is because MAE indicates the variation of predictions with actual values of target. The lower the variation, the better the model is."
   ]
  },
  {
   "cell_type": "code",
   "execution_count": 43,
   "metadata": {},
   "outputs": [
    {
     "data": {
      "text/plain": [
       "'Degree: 1'"
      ]
     },
     "execution_count": 43,
     "metadata": {},
     "output_type": "execute_result"
    }
   ],
   "source": [
    "# Winner for best model based on MAE metric:\n",
    "f'Degree: {result_df[\"Degree\"][result_df[\"MAE-Mean\"].idxmin()]}'"
   ]
  }
 ],
 "metadata": {
  "kernelspec": {
   "display_name": "CSCN8010_classic_ml",
   "language": "python",
   "name": "cscn8010_classic_ml"
  },
  "language_info": {
   "codemirror_mode": {
    "name": "ipython",
    "version": 3
   },
   "file_extension": ".py",
   "mimetype": "text/x-python",
   "name": "python",
   "nbconvert_exporter": "python",
   "pygments_lexer": "ipython3",
   "version": "3.11.3"
  },
  "orig_nbformat": 4
 },
 "nbformat": 4,
 "nbformat_minor": 2
}
