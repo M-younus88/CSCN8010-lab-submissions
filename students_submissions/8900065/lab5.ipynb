{
 "cells": [
  {
   "attachments": {},
   "cell_type": "markdown",
   "metadata": {},
   "source": [
    "# Lab 5"
   ]
  },
  {
   "attachments": {},
   "cell_type": "markdown",
   "metadata": {},
   "source": [
    "## Kishankumar Sathvara (8900065)"
   ]
  },
  {
   "cell_type": "code",
   "execution_count": 5,
   "metadata": {},
   "outputs": [],
   "source": [
    "import numpy as np\n",
    "import pandas as pd\n",
    "import seaborn as sns\n",
    "import matplotlib.pyplot as plt\n",
    "from sklearn import svm\n",
    "from sklearn import metrics\n",
    "from sklearn import datasets\n",
    "from sklearn import linear_model\n",
    "import matplotlib.pyplot as plt\n",
    "from sklearn.model_selection import train_test_split\n",
    "from sklearn.metrics import mean_absolute_error\n",
    "from sklearn.metrics import mean_squared_error\n",
    "from sklearn.preprocessing import PolynomialFeatures\n",
    "from sklearn.pipeline import make_pipeline\n",
    "from sklearn.metrics import r2_score\n",
    "from sklearn.model_selection import cross_val_score\n",
    "from sklearn.linear_model import LinearRegression"
   ]
  },
  {
   "attachments": {},
   "cell_type": "markdown",
   "metadata": {},
   "source": [
    "### Utilizing the dataset from lab 4"
   ]
  },
  {
   "cell_type": "code",
   "execution_count": 3,
   "metadata": {},
   "outputs": [],
   "source": [
    "X, y = datasets.load_diabetes(as_frame=True, return_X_y=True)\n"
   ]
  },
  {
   "attachments": {},
   "cell_type": "markdown",
   "metadata": {},
   "source": [
    "### Perform cross-validation on nine polynomial models, ranging from degree 0 to 8."
   ]
  },
  {
   "cell_type": "code",
   "execution_count": 8,
   "metadata": {},
   "outputs": [],
   "source": [
    "degrees = range(9)\n",
    "Cross_validation = []\n",
    "R2_score = []\n",
    "for degree in degrees:\n",
    "    model = make_pipeline(PolynomialFeatures(degree),LinearRegression())\n",
    "    scores = cross_val_score(model,X,y,cv=5,scoring='neg_mean_absolute_error').mean()\n",
    "    R2_scores = cross_val_score(model,X,y,cv=5,scoring='r2').mean()\n",
    "    Cross_validation.append(-scores)\n",
    "    R2_score.append(R2_scores)"
   ]
  },
  {
   "attachments": {},
   "cell_type": "markdown",
   "metadata": {},
   "source": [
    "### cross-validation results"
   ]
  },
  {
   "cell_type": "code",
   "execution_count": 10,
   "metadata": {},
   "outputs": [
    {
     "data": {
      "text/html": [
       "<div>\n",
       "<style scoped>\n",
       "    .dataframe tbody tr th:only-of-type {\n",
       "        vertical-align: middle;\n",
       "    }\n",
       "\n",
       "    .dataframe tbody tr th {\n",
       "        vertical-align: top;\n",
       "    }\n",
       "\n",
       "    .dataframe thead th {\n",
       "        text-align: right;\n",
       "    }\n",
       "</style>\n",
       "<table border=\"1\" class=\"dataframe\">\n",
       "  <thead>\n",
       "    <tr style=\"text-align: right;\">\n",
       "      <th></th>\n",
       "      <th>Degree</th>\n",
       "      <th>R2_Score</th>\n",
       "      <th>Cross_Val_Score</th>\n",
       "    </tr>\n",
       "  </thead>\n",
       "  <tbody>\n",
       "    <tr>\n",
       "      <th>0</th>\n",
       "      <td>0</td>\n",
       "      <td>-0.027506</td>\n",
       "      <td>66.045624</td>\n",
       "    </tr>\n",
       "    <tr>\n",
       "      <th>1</th>\n",
       "      <td>1</td>\n",
       "      <td>0.482316</td>\n",
       "      <td>44.276499</td>\n",
       "    </tr>\n",
       "    <tr>\n",
       "      <th>2</th>\n",
       "      <td>2</td>\n",
       "      <td>0.391502</td>\n",
       "      <td>46.612882</td>\n",
       "    </tr>\n",
       "    <tr>\n",
       "      <th>3</th>\n",
       "      <td>3</td>\n",
       "      <td>-182.192005</td>\n",
       "      <td>341.947638</td>\n",
       "    </tr>\n",
       "    <tr>\n",
       "      <th>4</th>\n",
       "      <td>4</td>\n",
       "      <td>-70.667516</td>\n",
       "      <td>303.158461</td>\n",
       "    </tr>\n",
       "    <tr>\n",
       "      <th>5</th>\n",
       "      <td>5</td>\n",
       "      <td>-67.387407</td>\n",
       "      <td>295.686026</td>\n",
       "    </tr>\n",
       "    <tr>\n",
       "      <th>6</th>\n",
       "      <td>6</td>\n",
       "      <td>-67.447482</td>\n",
       "      <td>295.631865</td>\n",
       "    </tr>\n",
       "    <tr>\n",
       "      <th>7</th>\n",
       "      <td>7</td>\n",
       "      <td>-67.448529</td>\n",
       "      <td>295.630403</td>\n",
       "    </tr>\n",
       "    <tr>\n",
       "      <th>8</th>\n",
       "      <td>8</td>\n",
       "      <td>-67.442355</td>\n",
       "      <td>295.583604</td>\n",
       "    </tr>\n",
       "  </tbody>\n",
       "</table>\n",
       "</div>"
      ],
      "text/plain": [
       "   Degree    R2_Score  Cross_Val_Score\n",
       "0       0   -0.027506        66.045624\n",
       "1       1    0.482316        44.276499\n",
       "2       2    0.391502        46.612882\n",
       "3       3 -182.192005       341.947638\n",
       "4       4  -70.667516       303.158461\n",
       "5       5  -67.387407       295.686026\n",
       "6       6  -67.447482       295.631865\n",
       "7       7  -67.448529       295.630403\n",
       "8       8  -67.442355       295.583604"
      ]
     },
     "execution_count": 10,
     "metadata": {},
     "output_type": "execute_result"
    }
   ],
   "source": [
    "Cross_Summary = pd.DataFrame({\"Degree\":degrees, \"R2_Score\":R2_score, \"Cross_Val_Score\":Cross_validation})\n",
    "Cross_Summary"
   ]
  },
  {
   "attachments": {},
   "cell_type": "markdown",
   "metadata": {},
   "source": [
    "###  mean value and standard deviation"
   ]
  },
  {
   "cell_type": "code",
   "execution_count": 12,
   "metadata": {},
   "outputs": [
    {
     "name": "stdout",
     "output_type": "stream",
     "text": [
      "\n",
      "Mean Value :  -57.97099776422159\n",
      "Standard Deviation :  57.15164306436522\n"
     ]
    }
   ],
   "source": [
    "Mean_R2 = Cross_Summary['R2_Score'].mean()\n",
    "SD_R2 = Cross_Summary['R2_Score'].std()\n",
    "\n",
    "print(\"\\nMean Value : \", Mean_R2)\n",
    "print(\"Standard Deviation : \", SD_R2)\n"
   ]
  },
  {
   "cell_type": "code",
   "execution_count": 13,
   "metadata": {},
   "outputs": [
    {
     "name": "stdout",
     "output_type": "stream",
     "text": [
      "Mean MAE: 220.5081111852779\n",
      "Standard Deviation MAE: 127.13645042957305\n"
     ]
    }
   ],
   "source": [
    "Mean_MAE = Cross_Summary['Cross_Val_Score'].mean()\n",
    "SD_MAE = Cross_Summary['Cross_Val_Score'].std()\n",
    "\n",
    "print(\"Mean MAE:\", Mean_MAE)\n",
    "print(\"Standard Deviation MAE:\", SD_MAE)"
   ]
  },
  {
   "attachments": {},
   "cell_type": "markdown",
   "metadata": {},
   "source": [
    "### Identification of the Best Model: Identify the model that exhibits the highest performance based on the R-Squared and MAE metrics. Provide an explanation for choosing this specific model."
   ]
  },
  {
   "attachments": {},
   "cell_type": "markdown",
   "metadata": {},
   "source": [
    "The model with the highest R-squared value and the lowest Mean Absolute Error (MAE) performs best. A higher R-squared value indicates that the model fits the data better and captures more variance. A lower MAE indicates that the model predicts more accurately with fewer average mistakes. Based on the facts provided, the model with a degree of 1 performs the best.\n",
    "\n"
   ]
  }
 ],
 "metadata": {
  "kernelspec": {
   "display_name": "CSCN8010_classic_ml",
   "language": "python",
   "name": "cscn8010_classic_ml"
  },
  "language_info": {
   "codemirror_mode": {
    "name": "ipython",
    "version": 3
   },
   "file_extension": ".py",
   "mimetype": "text/x-python",
   "name": "python",
   "nbconvert_exporter": "python",
   "pygments_lexer": "ipython3",
   "version": "3.11.3"
  },
  "orig_nbformat": 4
 },
 "nbformat": 4,
 "nbformat_minor": 2
}
