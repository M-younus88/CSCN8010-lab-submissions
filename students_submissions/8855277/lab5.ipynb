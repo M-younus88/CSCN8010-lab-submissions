{
 "cells": [
  {
   "attachments": {},
   "cell_type": "markdown",
   "metadata": {},
   "source": [
    "# CSCN8010-Lab5\n",
    "Lifei Wang 8855277"
   ]
  },
  {
   "attachments": {},
   "cell_type": "markdown",
   "metadata": {},
   "source": [
    "1. Utilize the diabetes dataset from lab 4. Perform cross-validation on nine polynomial models, ranging from degree 0 to 8. (2 points)"
   ]
  },
  {
   "cell_type": "code",
   "execution_count": 1,
   "metadata": {},
   "outputs": [],
   "source": [
    "import pandas as pd\n",
    "import numpy as np\n",
    "import seaborn as sns\n",
    "import matplotlib.pyplot as plt\n",
    "from matplotlib import pyplot as plt\n",
    "from sklearn.model_selection import cross_val_score, cross_val_predict\n",
    "from sklearn.linear_model import LinearRegression\n",
    "from sklearn.pipeline import make_pipeline\n",
    "from sklearn import preprocessing\n",
    "from sklearn import datasets\n",
    "from sklearn.metrics import r2_score, mean_absolute_error\n",
    "from sklearn.preprocessing import PolynomialFeatures\n",
    "from sklearn.model_selection import train_test_split\n",
    "\n",
    "X, y = datasets.load_diabetes(as_frame=True, scaled=False, return_X_y=True)\n",
    "\n",
    "X_train, X_test, y_train, y_test = train_test_split(X, y, test_size=0.2, random_state=42)"
   ]
  },
  {
   "cell_type": "code",
   "execution_count": 6,
   "metadata": {},
   "outputs": [],
   "source": [
    "# construct 9 poly models from degree 0 to 8 using a function\n",
    "# reference from chatGPT and cross-validation.ipynb from class notebook\n",
    "\n",
    "# lists to store model metrics\n",
    "degrees = []\n",
    "r2_scores = []\n",
    "mae_scores = []\n",
    "\n",
    "for degree in range(9):\n",
    "    # create poly features\n",
    "    poly_features = PolynomialFeatures(degree=degree)\n",
    "    X_poly = poly_features.fit_transform(X)\n",
    "\n",
    "    # build linear regression model\n",
    "    poly_reg_model = LinearRegression()\n",
    "\n",
    "    # combine into pipeline\n",
    "    model = make_pipeline(poly_features, poly_reg_model)\n",
    "\n",
    "    # cross-validation\n",
    "    # neg_mean_squared_error returns the negative of the mean squared error\n",
    "    # cross_val_score is designed so that higher scores are better\n",
    "    # a score of 0 is the best possible score, and values less than 0 indicate errors.\n",
    "    scores = cross_val_score(model, X, y, cv=5, scoring='neg_mean_squared_error')\n",
    "\n",
    "    # get MSE score\n",
    "    mean_score = -scores.mean()\n",
    "\n",
    "    # get R-squared score\n",
    "    y_pred = cross_val_predict(model, X, y, cv=5)\n",
    "    r2 = r2_score(y, y_pred)\n",
    "\n",
    "    # get MAE\n",
    "    mae = mean_absolute_error(y, y_pred)\n",
    "\n",
    "    # store in lists\n",
    "    degrees.append(degree)\n",
    "    r2_scores.append(r2)\n",
    "    mae_scores.append(mae)"
   ]
  },
  {
   "attachments": {},
   "cell_type": "markdown",
   "metadata": {},
   "source": [
    "2. Construct a table summarizing the cross-validation results. Each model should have a separate row in the table. \n",
    "\n",
    "    Include the R-Squared and Mean Absolute Error (MAE) metrics for each model. \n",
    "\n",
    "    Calculate the mean value and standard deviation of these metrics from the cross-validation. \n",
    "    \n",
    "    Include both values. (2 points)"
   ]
  },
  {
   "cell_type": "code",
   "execution_count": 13,
   "metadata": {},
   "outputs": [
    {
     "name": "stdout",
     "output_type": "stream",
     "text": [
      "╒════════════════════╤═════════════════╤═══════════════════════╕\n",
      "│ Degree             │       R-Squared │   Mean Absolute Error │\n",
      "╞════════════════════╪═════════════════╪═══════════════════════╡\n",
      "│ 0                  │     -0.00882372 │               66.0393 │\n",
      "├────────────────────┼─────────────────┼───────────────────────┤\n",
      "│ 1                  │      0.495322   │               44.2749 │\n",
      "├────────────────────┼─────────────────┼───────────────────────┤\n",
      "│ 2                  │     -0.58401    │               66.8434 │\n",
      "├────────────────────┼─────────────────┼───────────────────────┤\n",
      "│ 3                  │   -195.308      │              341.371  │\n",
      "├────────────────────┼─────────────────┼───────────────────────┤\n",
      "│ 4                  │   -572.362      │              656.629  │\n",
      "├────────────────────┼─────────────────┼───────────────────────┤\n",
      "│ 5                  │   -446.482      │              563.02   │\n",
      "├────────────────────┼─────────────────┼───────────────────────┤\n",
      "│ 6                  │  -1791.68       │              742.98   │\n",
      "├────────────────────┼─────────────────┼───────────────────────┤\n",
      "│ 7                  │  -5895          │             1033.74   │\n",
      "├────────────────────┼─────────────────┼───────────────────────┤\n",
      "│ 8                  │ -17172.4        │             1477.46   │\n",
      "├────────────────────┼─────────────────┼───────────────────────┤\n",
      "│ Mean               │  -2897.04       │              554.706  │\n",
      "├────────────────────┼─────────────────┼───────────────────────┤\n",
      "│ Standard Deviation │   5352.9        │              460.64   │\n",
      "╘════════════════════╧═════════════════╧═══════════════════════╛\n"
     ]
    }
   ],
   "source": [
    "from tabulate import tabulate\n",
    "\n",
    "# create a table\n",
    "table = []\n",
    "\n",
    "table.append(['Degree', 'R-Squared', 'Mean Absolute Error'])\n",
    "\n",
    "for degree, r2, mae in zip(degrees, r2_scores, mae_scores):\n",
    "    table.append([degree, r2, mae])\n",
    "\n",
    "# get mean value and sd of metrics\n",
    "r2_mean = np.mean(r2_scores)\n",
    "r2_sd = np.std(r2_scores)\n",
    "mae_mean = np.mean(mae_scores)\n",
    "mae_sd = np.std(mae_scores)\n",
    "\n",
    "# append mean and sd values to table\n",
    "table.append(['Mean', r2_mean, mae_mean])\n",
    "table.append(['Standard Deviation', r2_sd, mae_sd])\n",
    "\n",
    "print(tabulate(table, headers='firstrow', tablefmt='fancy_grid'))"
   ]
  },
  {
   "attachments": {},
   "cell_type": "markdown",
   "metadata": {},
   "source": [
    "4. Optional (No Extra Grade):\n",
    "    \n",
    "    Additional analysis and interpretation of the models' performances are welcome. \n",
    "    \n",
    "    You may explore further insights beyond the required metrics. Feel free to include your findings."
   ]
  },
  {
   "attachments": {},
   "cell_type": "markdown",
   "metadata": {},
   "source": [
    "3. Identification of the Best Model: \n",
    "\n",
    "    Identify the model that exhibits the highest performance based on the R-Squared and MAE metrics. \n",
    "    \n",
    "    Provide an explanation for choosing this specific model. (2 points)"
   ]
  },
  {
   "attachments": {},
   "cell_type": "markdown",
   "metadata": {},
   "source": [
    "From the table above, the best model should have the highest R-squared value and lowest MAE value.\n",
    "\n",
    "\n",
    "Therefore, the best model would be the model of degree=1 with R-squared value=0.495322 and MAE value=44.2749\n",
    "\n",
    "Since R-squared measures the proportion of variance in the model, a higher R-squared value indicates a larger proportion of variability that the model could explain which means better performance.\n",
    "\n",
    "MAE measures the average magnitude of errors of the model, a lower MAE indicates more accuracy of the model and better performance."
   ]
  }
 ],
 "metadata": {
  "kernelspec": {
   "display_name": "CSCN8010_classic_ml",
   "language": "python",
   "name": "python3"
  },
  "language_info": {
   "codemirror_mode": {
    "name": "ipython",
    "version": 3
   },
   "file_extension": ".py",
   "mimetype": "text/x-python",
   "name": "python",
   "nbconvert_exporter": "python",
   "pygments_lexer": "ipython3",
   "version": "3.11.4"
  },
  "orig_nbformat": 4
 },
 "nbformat": 4,
 "nbformat_minor": 2
}
