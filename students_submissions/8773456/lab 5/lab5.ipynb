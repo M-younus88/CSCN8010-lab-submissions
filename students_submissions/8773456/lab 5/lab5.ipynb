{
 "cells": [
  {
   "attachments": {},
   "cell_type": "markdown",
   "metadata": {},
   "source": [
    "### Student Name & ID : ARJUN KC(8773456)"
   ]
  },
  {
   "attachments": {},
   "cell_type": "markdown",
   "metadata": {},
   "source": [
    "### Lab 5 - Cross-Validation for Model Selection"
   ]
  },
  {
   "cell_type": "code",
   "execution_count": 53,
   "metadata": {},
   "outputs": [],
   "source": [
    "import numpy as np\n",
    "import pandas as pd\n",
    "import matplotlib.pyplot as plt\n",
    "import seaborn as sns\n",
    "from sklearn import datasets\n",
    "from sklearn import preprocessing\n",
    "from sklearn.model_selection import train_test_split\n",
    "from sklearn.linear_model import LinearRegression\n",
    "from sklearn.preprocessing import PolynomialFeatures\n",
    "from sklearn import metrics\n",
    "from sklearn.metrics import mean_absolute_error\n",
    "from sklearn.metrics import mean_squared_error\n",
    "from sklearn.metrics import mean_absolute_percentage_error\n",
    "from sklearn.model_selection import cross_val_score\n",
    "from sklearn.pipeline import make_pipeline\n",
    "sns.set_style(\"whitegrid\")"
   ]
  },
  {
   "attachments": {},
   "cell_type": "markdown",
   "metadata": {},
   "source": [
    "### Loading Dataset"
   ]
  },
  {
   "attachments": {},
   "cell_type": "markdown",
   "metadata": {},
   "source": [
    "### 1)Utilize the diabetes dataset from lab 4. Perform cross-validation on nine polynomial models, ranging from degree 0 to 8"
   ]
  },
  {
   "cell_type": "code",
   "execution_count": 54,
   "metadata": {},
   "outputs": [],
   "source": [
    "X, y = datasets.load_diabetes(as_frame=True, scaled=False, return_X_y=True)"
   ]
  },
  {
   "cell_type": "code",
   "execution_count": 55,
   "metadata": {},
   "outputs": [],
   "source": [
    "degrees = np.arange(0, 9)  ## Loop over degrees to test\n",
    "for degree in degrees:\n",
    "  model = make_pipeline(PolynomialFeatures(degree), LinearRegression())  # Create a pipeline that creates polynomial features, then applies linear regression"
   ]
  },
  {
   "attachments": {},
   "cell_type": "markdown",
   "metadata": {},
   "source": [
    "### 2)Construct a table summarizing the cross-validation results. Each model should have a separate row in the table. Include the R-Squared and Mean Absolute Error (MAE) metrics for each model. Calculate the mean value and standard deviation of these metrics from the cross-validation. Include both values"
   ]
  },
  {
   "cell_type": "code",
   "execution_count": 56,
   "metadata": {},
   "outputs": [],
   "source": [
    "cross_val_scores = [] #creating the empty list\n",
    "for degree in degrees:\n",
    "    # Create a pipeline that creates polynomial features, then applies linear regression\n",
    "    model = make_pipeline(PolynomialFeatures(degree), LinearRegression())\n",
    "    \n",
    "    # Use cross-validation to compute the R-square(R^2) across multiple splits of the data\n",
    "    score = cross_val_score(model, X, y, cv=5,scoring=\"r2\")\n",
    "    r2_mean = np.mean(score) # Calculate the mean R-square across all folds\n",
    "    r2_std = np.std(score) # Calculate the standar-deviation R-square across all folds\n",
    "    # Use cross-validation to compute the Mean Ablsoute Error(MAE) across multiple splits of the data\n",
    "    scores = -(cross_val_score(model, X, y, cv=5,scoring=\"neg_mean_absolute_error\"))\n",
    "    MEA_mean = np.mean(scores) # Calculate the mean MAE across all folds\n",
    "    MEA_std = np.std(scores) #Calculate the standard deviation MAE across all folds\n",
    "    cross_val_scores.append({\"Degree\": degree,\"R_Square_Mean\":r2_mean,\"R_Square_STD\":r2_std,\"MEA_Mean\":MEA_mean,\"MEA_STD\":MEA_std}) #appending all the metrics of R-square and MAE\n",
    "\n"
   ]
  },
  {
   "attachments": {},
   "cell_type": "markdown",
   "metadata": {},
   "source": [
    "### Converting the cross-validation results into a DataFrame"
   ]
  },
  {
   "cell_type": "code",
   "execution_count": 59,
   "metadata": {},
   "outputs": [
    {
     "data": {
      "text/html": [
       "<div>\n",
       "<style scoped>\n",
       "    .dataframe tbody tr th:only-of-type {\n",
       "        vertical-align: middle;\n",
       "    }\n",
       "\n",
       "    .dataframe tbody tr th {\n",
       "        vertical-align: top;\n",
       "    }\n",
       "\n",
       "    .dataframe thead th {\n",
       "        text-align: right;\n",
       "    }\n",
       "</style>\n",
       "<table border=\"1\" class=\"dataframe\">\n",
       "  <thead>\n",
       "    <tr style=\"text-align: right;\">\n",
       "      <th></th>\n",
       "      <th>Degree</th>\n",
       "      <th>R_Square_Mean</th>\n",
       "      <th>R_Square_STD</th>\n",
       "      <th>MEA_Mean</th>\n",
       "      <th>MEA_STD</th>\n",
       "    </tr>\n",
       "  </thead>\n",
       "  <tbody>\n",
       "    <tr>\n",
       "      <th>0</th>\n",
       "      <td>0</td>\n",
       "      <td>-0.027506</td>\n",
       "      <td>0.036772</td>\n",
       "      <td>66.045624</td>\n",
       "      <td>3.474660</td>\n",
       "    </tr>\n",
       "    <tr>\n",
       "      <th>1</th>\n",
       "      <td>1</td>\n",
       "      <td>0.482316</td>\n",
       "      <td>0.049269</td>\n",
       "      <td>44.276499</td>\n",
       "      <td>2.100110</td>\n",
       "    </tr>\n",
       "    <tr>\n",
       "      <th>2</th>\n",
       "      <td>2</td>\n",
       "      <td>-0.347201</td>\n",
       "      <td>0.646338</td>\n",
       "      <td>63.546355</td>\n",
       "      <td>14.945520</td>\n",
       "    </tr>\n",
       "    <tr>\n",
       "      <th>3</th>\n",
       "      <td>3</td>\n",
       "      <td>-203.419848</td>\n",
       "      <td>225.878682</td>\n",
       "      <td>342.052617</td>\n",
       "      <td>142.438549</td>\n",
       "    </tr>\n",
       "    <tr>\n",
       "      <th>4</th>\n",
       "      <td>4</td>\n",
       "      <td>-571.083108</td>\n",
       "      <td>369.891883</td>\n",
       "      <td>657.260477</td>\n",
       "      <td>159.475902</td>\n",
       "    </tr>\n",
       "    <tr>\n",
       "      <th>5</th>\n",
       "      <td>5</td>\n",
       "      <td>-436.856887</td>\n",
       "      <td>379.100423</td>\n",
       "      <td>562.993636</td>\n",
       "      <td>59.917202</td>\n",
       "    </tr>\n",
       "    <tr>\n",
       "      <th>6</th>\n",
       "      <td>6</td>\n",
       "      <td>-1695.477360</td>\n",
       "      <td>2632.416214</td>\n",
       "      <td>742.560741</td>\n",
       "      <td>191.043026</td>\n",
       "    </tr>\n",
       "    <tr>\n",
       "      <th>7</th>\n",
       "      <td>7</td>\n",
       "      <td>-5530.894074</td>\n",
       "      <td>9518.586953</td>\n",
       "      <td>1032.681725</td>\n",
       "      <td>393.439617</td>\n",
       "    </tr>\n",
       "    <tr>\n",
       "      <th>8</th>\n",
       "      <td>8</td>\n",
       "      <td>-16076.255118</td>\n",
       "      <td>28049.952581</td>\n",
       "      <td>1475.658532</td>\n",
       "      <td>706.280274</td>\n",
       "    </tr>\n",
       "  </tbody>\n",
       "</table>\n",
       "</div>"
      ],
      "text/plain": [
       "   Degree  R_Square_Mean  R_Square_STD     MEA_Mean     MEA_STD\n",
       "0       0      -0.027506      0.036772    66.045624    3.474660\n",
       "1       1       0.482316      0.049269    44.276499    2.100110\n",
       "2       2      -0.347201      0.646338    63.546355   14.945520\n",
       "3       3    -203.419848    225.878682   342.052617  142.438549\n",
       "4       4    -571.083108    369.891883   657.260477  159.475902\n",
       "5       5    -436.856887    379.100423   562.993636   59.917202\n",
       "6       6   -1695.477360   2632.416214   742.560741  191.043026\n",
       "7       7   -5530.894074   9518.586953  1032.681725  393.439617\n",
       "8       8  -16076.255118  28049.952581  1475.658532  706.280274"
      ]
     },
     "execution_count": 59,
     "metadata": {},
     "output_type": "execute_result"
    }
   ],
   "source": [
    "cross_val_scores_df = pd.DataFrame(cross_val_scores)\n",
    "cross_val_scores_df"
   ]
  },
  {
   "attachments": {},
   "cell_type": "markdown",
   "metadata": {},
   "source": [
    "### 3)Identification of the Best Model: Identify the model that exhibits the highest performance based on the R-Squared and MAE metrics. Provide an explanation for choosing this specific model"
   ]
  },
  {
   "cell_type": "code",
   "execution_count": 60,
   "metadata": {},
   "outputs": [
    {
     "name": "stdout",
     "output_type": "stream",
     "text": [
      "BEST Performance for R_Square Metrics among polynomial Degree 0-9  is : 1\n",
      "The R_Square metric of Mean is: 0.48\n",
      "The R_Square metric of Standard-deviation is 0.049\n",
      "\n",
      "\n",
      "BEST Performance for MAE Metrics among polynomial Degree 0-9  is : 1\n",
      "The MEA metric of Mean is: 44.28\n",
      "The MEA metric of Standard-Deviation is: 2.1\n"
     ]
    }
   ],
   "source": [
    "Best_Degree_R_Square = cross_val_scores_df[\"Degree\"].iloc[1]\n",
    "print(\"BEST Performance for R_Square Metrics among polynomial Degree 0-9  is :\",Best_Degree_R_Square)\n",
    "R_mean = cross_val_scores_df[\"R_Square_Mean\"].iloc[1]\n",
    "print(\"The R_Square metric of Mean is:\",round(R_mean,2))\n",
    "R_STD = cross_val_scores_df[\"R_Square_STD\"].iloc[1]\n",
    "print(\"The R_Square metric of Standard-deviation is\",round(R_STD,3))\n",
    "print(\"\\n\")\n",
    "Best_Degree_MAE = cross_val_scores_df[\"Degree\"].iloc[1]\n",
    "print(\"BEST Performance for MAE Metrics among polynomial Degree 0-9  is :\",Best_Degree_MAE)\n",
    "MEA_MEAN = cross_val_scores_df[\"MEA_Mean\"].iloc[1]\n",
    "print(\"The MEA metric of Mean is:\",round(MEA_MEAN,2))\n",
    "MEA_STD = cross_val_scores_df[\"MEA_STD\"].iloc[1]\n",
    "print(\"The MEA metric of Standard-Deviation is:\",round(MEA_STD,3))"
   ]
  },
  {
   "attachments": {},
   "cell_type": "markdown",
   "metadata": {},
   "source": [
    "#### Among R_Squre and MAE, I would choose for R_Square metrics of Mean as it has  value of 0.48  means that approximately 48% of the variance in the dependent variable can be explained by the independent variables.\n",
    "#### Also, R-squared ranges from 0 to 1, with higher values indicating a better fit for regression model which mean our data is better fited for this model.\n",
    "\n",
    "#### Actually,the choice between R-squared and MAE depends on our specific use case and what we value more: for the better fit we use (R-squared) and for the accuracy of predictions we use (MAE)."
   ]
  }
 ],
 "metadata": {
  "kernelspec": {
   "display_name": "CSCN8010_classic_ml",
   "language": "python",
   "name": "cscn8010_classic_ml"
  },
  "language_info": {
   "codemirror_mode": {
    "name": "ipython",
    "version": 3
   },
   "file_extension": ".py",
   "mimetype": "text/x-python",
   "name": "python",
   "nbconvert_exporter": "python",
   "pygments_lexer": "ipython3",
   "version": "3.11.3"
  },
  "orig_nbformat": 4
 },
 "nbformat": 4,
 "nbformat_minor": 2
}
