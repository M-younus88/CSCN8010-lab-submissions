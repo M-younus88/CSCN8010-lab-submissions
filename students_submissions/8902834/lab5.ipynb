{
 "cells": [
  {
   "attachments": {},
   "cell_type": "markdown",
   "metadata": {},
   "source": [
    "<h1 align='center'><U><B>Lab 5 - Cross-Validation for Model Selection</B></U></h1>\n",
    "\n",
    "<h3 align='center'>Waseem Iqbal Shaikh - 8902834</h3>"
   ]
  },
  {
   "attachments": {},
   "cell_type": "markdown",
   "metadata": {},
   "source": [
    "<h3><B><U>Importing the necessary packages:</B></U></h3>\n"
   ]
  },
  {
   "cell_type": "code",
   "execution_count": 6,
   "metadata": {},
   "outputs": [],
   "source": [
    "import numpy as np\n",
    "import pandas as pd\n",
    "from sklearn import datasets\n",
    "from sklearn.datasets import load_diabetes\n",
    "from sklearn.metrics import mean_absolute_error, mean_squared_error ,mean_absolute_percentage_error\n",
    "from sklearn.model_selection import cross_val_score\n",
    "from sklearn.preprocessing import PolynomialFeatures\n",
    "from sklearn.linear_model import LinearRegression\n",
    "from sklearn.pipeline import make_pipeline\n",
    "from sklearn.metrics import get_scorer_names\n",
    "\n",
    "X, y = datasets.load_diabetes(as_frame=True, scaled=False, return_X_y=True)"
   ]
  },
  {
   "attachments": {},
   "cell_type": "markdown",
   "metadata": {},
   "source": [
    "<h3><B>Q1. Utilize the diabetes dataset from lab 4. Perform cross-validation on nine polynomial models, ranging from degree 0 to 8. (2 points)</B></h3>"
   ]
  },
  {
   "cell_type": "code",
   "execution_count": 7,
   "metadata": {
    "tags": []
   },
   "outputs": [],
   "source": [
    "degrees = np.arange(0, 9)\n",
    "crossValidationData = []\n",
    "crossValidationResults = []\n",
    "for degree in range(9):\n",
    "    model = make_pipeline(PolynomialFeatures(degree), LinearRegression())    \n",
    "\n",
    "    crossValidationScores = cross_val_score(model, X, y, cv=5, scoring='rSquared')\n",
    "    rSquaredMean = crossValidationScores.mean()\n",
    "    rSquaredSD = crossValidationScores.std()\n",
    "    meanAbsoluteError = -cross_val_score(model, X, y, cv=5, scoring='neg_mean_absolute_error')\n",
    "    meanAbsoluteErrorMean = meanAbsoluteError.mean()\n",
    "    meanAbsoluteErrorSD = meanAbsoluteError.std()\n",
    "    crossValidationData.append((degree, rSquaredMean, rSquaredSD, meanAbsoluteErrorMean, meanAbsoluteErrorSD))"
   ]
  },
  {
   "attachments": {},
   "cell_type": "markdown",
   "metadata": {},
   "source": [
    "<h3>Q2. Construct a table summarizing the cross-validation results. Each model should have a separate row in the table. Include the R-Squared and Mean Absolute Error (meanAbsoluteError) metrics for each model. Calculate the mean value and standard deviation of these metrics from the cross-validation. Include both values. (2 points)</h3>"
   ]
  },
  {
   "cell_type": "code",
   "execution_count": 8,
   "metadata": {},
   "outputs": [
    {
     "name": "stdout",
     "output_type": "stream",
     "text": [
      "   Degree  rSquaredMean    rSquaredSD  Mean meanAbsoluteError   \n",
      "0       0     -0.027506      0.036772               66.045624  \\\n",
      "1       1      0.482316      0.049269               44.276499   \n",
      "2       2     -1.485182      1.618007               80.595439   \n",
      "3       3   -203.418938    225.878146              342.051924   \n",
      "4       4   -571.083108    369.891884              657.260477   \n",
      "5       5   -436.856887    379.100423              562.993636   \n",
      "6       6  -1694.550210   2629.989561              742.717488   \n",
      "7       7  -5530.894075   9518.586954             1032.681725   \n",
      "8       8 -16076.255118  28049.952580             1475.658532   \n",
      "\n",
      "   SD meanAbsoluteError  \n",
      "0              3.474660  \n",
      "1              2.100110  \n",
      "2             24.657166  \n",
      "3            142.437752  \n",
      "4            159.475902  \n",
      "5             59.917202  \n",
      "6            190.709474  \n",
      "7            393.439617  \n",
      "8            706.280274  \n"
     ]
    }
   ],
   "source": [
    "dataframe = pd.DataFrame(crossValidationData)\n",
    "dataframe.columns = ['Degree', 'rSquaredMean', 'rSquaredSD', 'Mean meanAbsoluteError', 'SD meanAbsoluteError']\n",
    "print(dataframe)"
   ]
  },
  {
   "attachments": {},
   "cell_type": "markdown",
   "metadata": {},
   "source": [
    "<h3>Q3. Identification of the Best Model: Identify the model that exhibits the highest performance based on the R-Squared and meanAbsoluteError metrics. Provide an explanation for choosing this specific model. (2 points)\n",
    "</h3>"
   ]
  },
  {
   "cell_type": "code",
   "execution_count": 11,
   "metadata": {},
   "outputs": [
    {
     "name": "stdout",
     "output_type": "stream",
     "text": [
      "The best performing model using R-Squared:\n",
      "Degree: 1.0, R-Squared: 0.4823, SD R-Squared: 0.0493\n",
      "The best performing model using Mean Absolute Error:\n",
      "Degree: 1, meanAbsoluteError: 44.2765, SD meanAbsoluteError: 2.1001\n"
     ]
    }
   ],
   "source": [
    "rSquaredIndex = np.argmax(dataframe.iloc[:, 1])\n",
    "meanAbsoluteErrorDegree = np.argmin(dataframe.iloc[:, 3])\n",
    "\n",
    "rSquaredDegree,rSquared, rSquaredSD = dataframe.iloc[rSquaredIndex, :3]\n",
    "meanAbsoluteErrorDegree, meanAbsoluteError, meanAbsoluteErrorSD = dataframe.iloc[meanAbsoluteErrorDegree, 0], dataframe.iloc[meanAbsoluteErrorDegree, 3], dataframe.iloc[meanAbsoluteErrorDegree, 4]\n",
    "\n",
    "print(\"The best performing model using R-Squared:\")\n",
    "print(f\"Degree: {rSquaredDegree}, R-Squared: {rSquared:.4f}, SD R-Squared: {rSquaredSD:.4f}\")\n",
    "\n",
    "print(\"The best performing model using Mean Absolute Error:\")\n",
    "print(f\"Degree: {meanAbsoluteErrorDegree}, meanAbsoluteError: {meanAbsoluteError:.4f}, SD meanAbsoluteError: {meanAbsoluteErrorSD:.4f}\")"
   ]
  }
 ],
 "metadata": {
  "kernelspec": {
   "display_name": "CSCN8010_classic_ml",
   "language": "python",
   "name": "python3"
  },
  "language_info": {
   "codemirror_mode": {
    "name": "ipython",
    "version": 3
   },
   "file_extension": ".py",
   "mimetype": "text/x-python",
   "name": "python",
   "nbconvert_exporter": "python",
   "pygments_lexer": "ipython3",
   "version": "3.11.3"
  },
  "orig_nbformat": 4
 },
 "nbformat": 4,
 "nbformat_minor": 2
}
