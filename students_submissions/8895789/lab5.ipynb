{
 "cells": [
  {
   "attachments": {},
   "cell_type": "markdown",
   "metadata": {},
   "source": [
    "## LAB-5\n",
    "### Name: Ramya Chandran\n",
    "### StudenID: 8895789"
   ]
  },
  {
   "cell_type": "code",
   "execution_count": 80,
   "metadata": {},
   "outputs": [],
   "source": [
    "# Import the required libraries\n",
    "import numpy as np\n",
    "import pandas as pd\n",
    "import matplotlib.pyplot as plt\n",
    "from sklearn.datasets import load_diabetes\n",
    "from sklearn.model_selection import train_test_split\n",
    "from sklearn.linear_model import LinearRegression\n",
    "from sklearn.preprocessing import PolynomialFeatures\n",
    "from sklearn.metrics import r2_score, mean_absolute_error\n",
    "from sklearn.pipeline import Pipeline\n",
    "from sklearn.pipeline import make_pipeline\n",
    "from sklearn.model_selection import cross_val_score, cross_val_predict"
   ]
  },
  {
   "attachments": {},
   "cell_type": "markdown",
   "metadata": {},
   "source": [
    "1. Utilize the diabetes dataset from lab 4. Perform cross-validation on nine polynomial models, ranging from degree 0 to 8. (2 points)\n"
   ]
  },
  {
   "cell_type": "code",
   "execution_count": 81,
   "metadata": {},
   "outputs": [
    {
     "data": {
      "text/html": [
       "<div>\n",
       "<style scoped>\n",
       "    .dataframe tbody tr th:only-of-type {\n",
       "        vertical-align: middle;\n",
       "    }\n",
       "\n",
       "    .dataframe tbody tr th {\n",
       "        vertical-align: top;\n",
       "    }\n",
       "\n",
       "    .dataframe thead th {\n",
       "        text-align: right;\n",
       "    }\n",
       "</style>\n",
       "<table border=\"1\" class=\"dataframe\">\n",
       "  <thead>\n",
       "    <tr style=\"text-align: right;\">\n",
       "      <th></th>\n",
       "      <th>age</th>\n",
       "      <th>sex</th>\n",
       "      <th>bmi</th>\n",
       "      <th>bp</th>\n",
       "      <th>s1</th>\n",
       "      <th>s2</th>\n",
       "      <th>s3</th>\n",
       "      <th>s4</th>\n",
       "      <th>s5</th>\n",
       "      <th>s6</th>\n",
       "    </tr>\n",
       "  </thead>\n",
       "  <tbody>\n",
       "    <tr>\n",
       "      <th>0</th>\n",
       "      <td>59.0</td>\n",
       "      <td>2.0</td>\n",
       "      <td>32.1</td>\n",
       "      <td>101.0</td>\n",
       "      <td>157.0</td>\n",
       "      <td>93.2</td>\n",
       "      <td>38.0</td>\n",
       "      <td>4.0</td>\n",
       "      <td>4.8598</td>\n",
       "      <td>87.0</td>\n",
       "    </tr>\n",
       "    <tr>\n",
       "      <th>1</th>\n",
       "      <td>48.0</td>\n",
       "      <td>1.0</td>\n",
       "      <td>21.6</td>\n",
       "      <td>87.0</td>\n",
       "      <td>183.0</td>\n",
       "      <td>103.2</td>\n",
       "      <td>70.0</td>\n",
       "      <td>3.0</td>\n",
       "      <td>3.8918</td>\n",
       "      <td>69.0</td>\n",
       "    </tr>\n",
       "    <tr>\n",
       "      <th>2</th>\n",
       "      <td>72.0</td>\n",
       "      <td>2.0</td>\n",
       "      <td>30.5</td>\n",
       "      <td>93.0</td>\n",
       "      <td>156.0</td>\n",
       "      <td>93.6</td>\n",
       "      <td>41.0</td>\n",
       "      <td>4.0</td>\n",
       "      <td>4.6728</td>\n",
       "      <td>85.0</td>\n",
       "    </tr>\n",
       "    <tr>\n",
       "      <th>3</th>\n",
       "      <td>24.0</td>\n",
       "      <td>1.0</td>\n",
       "      <td>25.3</td>\n",
       "      <td>84.0</td>\n",
       "      <td>198.0</td>\n",
       "      <td>131.4</td>\n",
       "      <td>40.0</td>\n",
       "      <td>5.0</td>\n",
       "      <td>4.8903</td>\n",
       "      <td>89.0</td>\n",
       "    </tr>\n",
       "    <tr>\n",
       "      <th>4</th>\n",
       "      <td>50.0</td>\n",
       "      <td>1.0</td>\n",
       "      <td>23.0</td>\n",
       "      <td>101.0</td>\n",
       "      <td>192.0</td>\n",
       "      <td>125.4</td>\n",
       "      <td>52.0</td>\n",
       "      <td>4.0</td>\n",
       "      <td>4.2905</td>\n",
       "      <td>80.0</td>\n",
       "    </tr>\n",
       "  </tbody>\n",
       "</table>\n",
       "</div>"
      ],
      "text/plain": [
       "    age  sex   bmi     bp     s1     s2    s3   s4      s5    s6\n",
       "0  59.0  2.0  32.1  101.0  157.0   93.2  38.0  4.0  4.8598  87.0\n",
       "1  48.0  1.0  21.6   87.0  183.0  103.2  70.0  3.0  3.8918  69.0\n",
       "2  72.0  2.0  30.5   93.0  156.0   93.6  41.0  4.0  4.6728  85.0\n",
       "3  24.0  1.0  25.3   84.0  198.0  131.4  40.0  5.0  4.8903  89.0\n",
       "4  50.0  1.0  23.0  101.0  192.0  125.4  52.0  4.0  4.2905  80.0"
      ]
     },
     "execution_count": 81,
     "metadata": {},
     "output_type": "execute_result"
    }
   ],
   "source": [
    "diabetes = load_diabetes()\n",
    "\n",
    "X, y = load_diabetes(as_frame=True, scaled=False, return_X_y=True)\n",
    "\n",
    "X_train, X_test, y_train, y_test = train_test_split(X, y, test_size=0.2, random_state=42)\n",
    "\n",
    "X.head()"
   ]
  },
  {
   "cell_type": "code",
   "execution_count": 82,
   "metadata": {},
   "outputs": [],
   "source": [
    "\n",
    "# Define the degrees of the polynomial models to consider\n",
    "degrees = np.arange(9)\n",
    "R2_score = []\n",
    "MAE_score = []\n",
    "\n",
    "# Perform cross-validation for each degree\n",
    "for degree in degrees:\n",
    "    # Create a polynomial feature transformer\n",
    "    poly_model = make_pipeline(PolynomialFeatures(degree),LinearRegression())\n",
    "\n",
    "    # Perform cross-validation\n",
    "    scores = cross_val_score(poly_model,X,y,cv=5,scoring='neg_mean_absolute_error')\n",
    "    R2_scores = cross_val_score(poly_model,X,y,cv=5,scoring='r2')\n",
    "    MAE_score.append(-scores)\n",
    "    R2_score.append(R2_scores)\n",
    "   \n",
    "    "
   ]
  },
  {
   "cell_type": "code",
   "execution_count": 83,
   "metadata": {},
   "outputs": [
    {
     "name": "stdout",
     "output_type": "stream",
     "text": [
      "MAE value of 5 cv model of 9 polynomial degree is \n",
      " [[  60.95   68.32   67.14   63.26   70.55]\n",
      " [  43.03   44.8    48.16   43.01   42.39]\n",
      " [  45.59   82.05   48.46   49.74   79.49]\n",
      " [ 167.78  215.42  315.7   485.77  525.6 ]\n",
      " [ 436.36  599.17  843.03  838.29  569.45]\n",
      " [ 512.6   625.03  556.68  484.48  636.19]\n",
      " [ 594.3  1104.32  684.58  580.88  748.95]\n",
      " [ 728.54 1805.37  930.78  790.9   907.82]\n",
      " [ 890.66 2854.91 1371.22 1150.4  1111.11]]\n",
      "R2 value of 5 cv model of 9 polynomial degree is \n",
      " [[    -0.1      -0.03     -0.       -0.01     -0.  ]\n",
      " [     0.43      0.52      0.48      0.43      0.55]\n",
      " [     0.35     -1.32      0.45      0.17     -0.89]\n",
      " [   -16.29    -26.93    -54.42   -592.67   -326.79]\n",
      " [  -171.39   -744.07  -1088.42   -729.54   -122.  ]\n",
      " [  -365.26  -1176.43   -184.92   -138.07   -319.6 ]\n",
      " [  -496.25  -6955.6    -362.28   -221.9    -439.45]\n",
      " [  -766.   -24562.84  -1170.91   -494.38   -660.34]\n",
      " [ -1272.65 -72123.06  -4411.26  -1512.35  -1061.96]]\n"
     ]
    }
   ],
   "source": [
    "print(\"MAE value of 5 cv model of 9 polynomial degree is \\n\",np.round(MAE_score, decimals=4))\n",
    "print(\"R2 value of 5 cv model of 9 polynomial degree is \\n\",np.round(R2_score, decimals=4))\n"
   ]
  },
  {
   "attachments": {},
   "cell_type": "markdown",
   "metadata": {},
   "source": [
    "2. Construct a table summarizing the cross-validation results. Each model should have a separate row in the table. Include the R-Squared and Mean Absolute Error (MAE) metrics for each model. Calculate the mean value and standard deviation of these metrics from the cross-validation. Include both values. (2 points)\n"
   ]
  },
  {
   "cell_type": "code",
   "execution_count": 84,
   "metadata": {},
   "outputs": [
    {
     "name": "stdout",
     "output_type": "stream",
     "text": [
      "The final table with R2 and MAE values are : \n",
      "    Degree      R2_Score    MAE_Score\n",
      "0       0     -0.027506    66.045624\n",
      "1       1      0.482316    44.276499\n",
      "2       2     -0.249574    61.065185\n",
      "3       3   -203.418055   342.051797\n",
      "4       4   -571.083108   657.260477\n",
      "5       5   -436.856887   562.993636\n",
      "6       6  -1695.096515   742.606516\n",
      "7       7  -5530.894075  1032.681725\n",
      "8       8 -16076.255117  1475.658532\n"
     ]
    }
   ],
   "source": [
    "# Define the degrees of the polynomial models to consider\n",
    "degrees = np.arange(9)\n",
    "R2_score = []\n",
    "MAE_score = []\n",
    "\n",
    "# Perform cross-validation for each degree\n",
    "for degree in degrees:\n",
    "    # Create a polynomial feature transformer\n",
    "    poly_model = make_pipeline(PolynomialFeatures(degree),LinearRegression())\n",
    "\n",
    "    # Perform cross-validation\n",
    "    scores = cross_val_score(poly_model,X,y,cv=5,scoring='neg_mean_absolute_error').mean()\n",
    "    R2_scores = cross_val_score(poly_model,X,y,cv=5,scoring='r2').mean()\n",
    "    MAE_score.append(-scores)\n",
    "    R2_score.append(R2_scores)\n",
    "    \n",
    "# Print the final_df with mean value of all model R-Squared and MAE values\n",
    "final_df = pd.DataFrame({\"Degree\":degrees, \"R2_Score\":R2_score, \"MAE_Score\":MAE_score})\n",
    "print(\"The final table with R2 and MAE values are : \\n\", final_df)"
   ]
  },
  {
   "cell_type": "code",
   "execution_count": 85,
   "metadata": {},
   "outputs": [
    {
     "name": "stdout",
     "output_type": "stream",
     "text": [
      "Mean R-Squared :  -2723.710946703083\n",
      "Std R-Squared :  5311.556589181047\n",
      "Mean MAE :  553.8488878202126\n",
      "Std MAE :  488.71397067388347\n"
     ]
    }
   ],
   "source": [
    "\n",
    "# Calculate mean and standard deviation of the metrics\n",
    "print(\"Mean R-Squared : \", final_df['R2_Score'].mean())\n",
    "print(\"Std R-Squared : \",final_df['R2_Score'].std())\n",
    "print(\"Mean MAE : \", final_df['MAE_Score'].mean())\n",
    "print(\"Std MAE : \", final_df['MAE_Score'].std())"
   ]
  },
  {
   "attachments": {},
   "cell_type": "markdown",
   "metadata": {},
   "source": [
    "3. Identification of the Best Model: Identify the model that exhibits the highest performance based on the R-Squared and MAE metrics. Provide an explanation for choosing this specific model. (2 points)\n",
    "\n"
   ]
  },
  {
   "attachments": {},
   "cell_type": "markdown",
   "metadata": {},
   "source": [
    "Based on the final summary of R2 and MAE values.\n",
    "* The model with highest R2 predicts better and has more accuracy and that value here would be 0.48 corresponding to degree 1\n",
    "* The model with least MAE is better since the error of prediction is less so the value is 44.27 corresponding to degree 1\n",
    "* Based on both MAE and R2 model with degree 1 is the best model."
   ]
  },
  {
   "attachments": {},
   "cell_type": "markdown",
   "metadata": {},
   "source": []
  }
 ],
 "metadata": {
  "kernelspec": {
   "display_name": "Python 3",
   "language": "python",
   "name": "python3"
  },
  "language_info": {
   "codemirror_mode": {
    "name": "ipython",
    "version": 3
   },
   "file_extension": ".py",
   "mimetype": "text/x-python",
   "name": "python",
   "nbconvert_exporter": "python",
   "pygments_lexer": "ipython3",
   "version": "3.8.1"
  },
  "orig_nbformat": 4
 },
 "nbformat": 4,
 "nbformat_minor": 2
}
