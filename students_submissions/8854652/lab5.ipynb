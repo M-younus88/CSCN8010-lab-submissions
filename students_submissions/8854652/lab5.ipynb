{
 "cells": [
  {
   "cell_type": "code",
   "execution_count": 31,
   "metadata": {},
   "outputs": [],
   "source": [
    "from sklearn import datasets\n",
    "from sklearn.metrics import mean_absolute_error\n",
    "from sklearn.model_selection import cross_val_score\n",
    "from sklearn.preprocessing import PolynomialFeatures\n",
    "from sklearn.pipeline import make_pipeline\n",
    "from sklearn.linear_model import LinearRegression\n",
    "from sklearn import linear_model\n",
    "import pandas as pd"
   ]
  },
  {
   "cell_type": "code",
   "execution_count": 32,
   "metadata": {},
   "outputs": [],
   "source": [
    "# load diabetes datasets\n",
    "X, y = datasets.load_diabetes(as_frame=True, scaled=False, return_X_y=True)"
   ]
  },
  {
   "attachments": {},
   "cell_type": "markdown",
   "metadata": {},
   "source": [
    "### Perform cross-validation on nine polynomial models, ranging from degree 0 to 8."
   ]
  },
  {
   "cell_type": "code",
   "execution_count": 33,
   "metadata": {},
   "outputs": [],
   "source": [
    "degrees = range(9)\n",
    "cross_val = []\n",
    "r2_score = []\n",
    "for degree in degrees:\n",
    "    model = make_pipeline(PolynomialFeatures(degree),LinearRegression())\n",
    "    scores = cross_val_score(model,X,y,cv=5,scoring='neg_mean_absolute_error').mean()\n",
    "    r2_scores = cross_val_score(model,X,y,cv=5,scoring='r2').mean()\n",
    "    cross_val.append(-scores)\n",
    "    r2_score.append(r2_scores)"
   ]
  },
  {
   "attachments": {},
   "cell_type": "markdown",
   "metadata": {},
   "source": [
    "### Construct a table summarizing the cross-validation results. Each model should have a separate row in the table. Include the R-Squared and Mean Absolute Error (MAE) metrics for each model. Calculate the mean value and standard deviation of these metrics from the cross-validation. Include both values."
   ]
  },
  {
   "cell_type": "code",
   "execution_count": 34,
   "metadata": {},
   "outputs": [
    {
     "data": {
      "text/html": [
       "<div>\n",
       "<style scoped>\n",
       "    .dataframe tbody tr th:only-of-type {\n",
       "        vertical-align: middle;\n",
       "    }\n",
       "\n",
       "    .dataframe tbody tr th {\n",
       "        vertical-align: top;\n",
       "    }\n",
       "\n",
       "    .dataframe thead th {\n",
       "        text-align: right;\n",
       "    }\n",
       "</style>\n",
       "<table border=\"1\" class=\"dataframe\">\n",
       "  <thead>\n",
       "    <tr style=\"text-align: right;\">\n",
       "      <th></th>\n",
       "      <th>Degree</th>\n",
       "      <th>r2_Score</th>\n",
       "      <th>Cross_Val_Score(MAE)</th>\n",
       "    </tr>\n",
       "  </thead>\n",
       "  <tbody>\n",
       "    <tr>\n",
       "      <th>0</th>\n",
       "      <td>0</td>\n",
       "      <td>-0.027506</td>\n",
       "      <td>66.045624</td>\n",
       "    </tr>\n",
       "    <tr>\n",
       "      <th>1</th>\n",
       "      <td>1</td>\n",
       "      <td>0.482316</td>\n",
       "      <td>44.276499</td>\n",
       "    </tr>\n",
       "    <tr>\n",
       "      <th>2</th>\n",
       "      <td>2</td>\n",
       "      <td>-1.485182</td>\n",
       "      <td>80.595439</td>\n",
       "    </tr>\n",
       "    <tr>\n",
       "      <th>3</th>\n",
       "      <td>3</td>\n",
       "      <td>-203.418938</td>\n",
       "      <td>342.051924</td>\n",
       "    </tr>\n",
       "    <tr>\n",
       "      <th>4</th>\n",
       "      <td>4</td>\n",
       "      <td>-571.083108</td>\n",
       "      <td>657.260477</td>\n",
       "    </tr>\n",
       "    <tr>\n",
       "      <th>5</th>\n",
       "      <td>5</td>\n",
       "      <td>-436.856887</td>\n",
       "      <td>562.993636</td>\n",
       "    </tr>\n",
       "    <tr>\n",
       "      <th>6</th>\n",
       "      <td>6</td>\n",
       "      <td>-1694.550210</td>\n",
       "      <td>742.717488</td>\n",
       "    </tr>\n",
       "    <tr>\n",
       "      <th>7</th>\n",
       "      <td>7</td>\n",
       "      <td>-5530.894075</td>\n",
       "      <td>1032.681725</td>\n",
       "    </tr>\n",
       "    <tr>\n",
       "      <th>8</th>\n",
       "      <td>8</td>\n",
       "      <td>-16076.255118</td>\n",
       "      <td>1475.658532</td>\n",
       "    </tr>\n",
       "  </tbody>\n",
       "</table>\n",
       "</div>"
      ],
      "text/plain": [
       "   Degree      r2_Score  Cross_Val_Score(MAE)\n",
       "0       0     -0.027506             66.045624\n",
       "1       1      0.482316             44.276499\n",
       "2       2     -1.485182             80.595439\n",
       "3       3   -203.418938            342.051924\n",
       "4       4   -571.083108            657.260477\n",
       "5       5   -436.856887            562.993636\n",
       "6       6  -1694.550210            742.717488\n",
       "7       7  -5530.894075           1032.681725\n",
       "8       8 -16076.255118           1475.658532"
      ]
     },
     "execution_count": 34,
     "metadata": {},
     "output_type": "execute_result"
    }
   ],
   "source": [
    "#Cross-validation result summary\n",
    "Cross_Summary = pd.DataFrame({\"Degree\":degrees, \"r2_Score\":r2_score, \"Cross_Val_Score(MAE)\":cross_val})\n",
    "Cross_Summary"
   ]
  },
  {
   "cell_type": "code",
   "execution_count": 35,
   "metadata": {},
   "outputs": [],
   "source": [
    "#Calculate mean and standard deviation\n",
    "Mean_r2 = Cross_Summary['r2_Score'].mean()\n",
    "SD_r2 = Cross_Summary['r2_Score'].std()\n",
    "Mean_MAE = Cross_Summary['Cross_Val_Score(MAE)'].mean()\n",
    "SD_MAE = Cross_Summary['Cross_Val_Score(MAE)'].std()"
   ]
  },
  {
   "cell_type": "code",
   "execution_count": 36,
   "metadata": {},
   "outputs": [
    {
     "name": "stdout",
     "output_type": "stream",
     "text": [
      "\n",
      "Mean R-Squared is -2723.787633985016\n",
      "Standard Deviation R-Squared is 5311.490588389923\n",
      "Mean MAE: 556.0312604351241\n",
      "Standard Deviation MAE: 486.29502330395763\n"
     ]
    }
   ],
   "source": [
    "print(\"\\nMean R-Squared is\", Mean_r2)\n",
    "print(\"Standard Deviation R-Squared is\", SD_r2)\n",
    "print(\"Mean MAE:\", Mean_MAE)\n",
    "print(\"Standard Deviation MAE:\", SD_MAE)"
   ]
  },
  {
   "attachments": {},
   "cell_type": "markdown",
   "metadata": {},
   "source": [
    "### Identify the model that exhibits the highest performance based on the R-Squared and MAE metrics. Provide an explanation for choosing this specific model."
   ]
  },
  {
   "attachments": {},
   "cell_type": "markdown",
   "metadata": {},
   "source": [
    "The best-performing model is the one with the highest R-squared and the lowest MAE. A higher R-squared indicates a better fit to the data, as more variance is accounted for. A lower MAE indicates better accuracy and a smaller average error in predictions.\n",
    "\n",
    "According to above data model with degree of 1 has a highest R-squared value (0.482316) and lowest Mean Absolute Error (44.276499). Therefore, model with the degree of 1 exhibits the highest performance."
   ]
  }
 ],
 "metadata": {
  "kernelspec": {
   "display_name": "CSCN8010_classic_ml",
   "language": "python",
   "name": "cscn8010_classic_ml"
  },
  "language_info": {
   "codemirror_mode": {
    "name": "ipython",
    "version": 3
   },
   "file_extension": ".py",
   "mimetype": "text/x-python",
   "name": "python",
   "nbconvert_exporter": "python",
   "pygments_lexer": "ipython3",
   "version": "3.11.3"
  },
  "orig_nbformat": 4
 },
 "nbformat": 4,
 "nbformat_minor": 2
}
