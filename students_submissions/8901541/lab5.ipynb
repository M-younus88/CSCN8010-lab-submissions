{
 "cells": [
  {
   "attachments": {},
   "cell_type": "markdown",
   "metadata": {},
   "source": [
    "**# Import the required libraries**"
   ]
  },
  {
   "cell_type": "code",
   "execution_count": 18,
   "metadata": {},
   "outputs": [],
   "source": [
    "from sklearn import datasets\n",
    "from sklearn.metrics import mean_absolute_error, r2_score\n",
    "import numpy as np\n",
    "import pandas as pd\n",
    "from sklearn.model_selection import cross_val_score\n",
    "from sklearn.linear_model import LinearRegression\n",
    "from sklearn.preprocessing import PolynomialFeatures\n"
   ]
  },
  {
   "attachments": {},
   "cell_type": "markdown",
   "metadata": {},
   "source": [
    "**# Load the diabetes dataset**"
   ]
  },
  {
   "cell_type": "code",
   "execution_count": 19,
   "metadata": {},
   "outputs": [],
   "source": [
    "X, y = datasets.load_diabetes(as_frame=True, scaled=False, return_X_y=True)\n"
   ]
  },
  {
   "attachments": {},
   "cell_type": "markdown",
   "metadata": {},
   "source": [
    "**# Create an empty DataFrame to store the cross-validation results**"
   ]
  },
  {
   "cell_type": "code",
   "execution_count": 20,
   "metadata": {},
   "outputs": [],
   "source": [
    "results_df = pd.DataFrame(columns=['Model Degree', 'R-Squared', 'MAE'])\n"
   ]
  },
  {
   "attachments": {},
   "cell_type": "markdown",
   "metadata": {},
   "source": [
    "**# Perform cross-validation on polynomial models**"
   ]
  },
  {
   "cell_type": "code",
   "execution_count": 21,
   "metadata": {},
   "outputs": [],
   "source": [
    "for degree in range(9):\n",
    "    poly_features = PolynomialFeatures(degree=degree)\n",
    "    X_poly = poly_features.fit_transform(X)\n",
    "    model = LinearRegression()\n",
    "    scores = cross_val_score(model, X_poly, y, cv=5, scoring='neg_mean_absolute_error')\n",
    "    mae_scores = -scores  # Convert negative MAE scores to positive\n",
    "    r2_scores = cross_val_score(model, X_poly, y, cv=5, scoring='r2')\n",
    "\n",
    "    # Store the mean and standard deviation of R-Squared and MAE\n",
    "    mean_r2 = np.mean(r2_scores)\n",
    "    std_r2 = np.std(r2_scores)\n",
    "    mean_mae = np.mean(mae_scores)\n",
    "    std_mae = np.std(mae_scores)\n",
    "\n",
    "    # Append the results to the DataFrame\n",
    "    results_df = pd.concat([results_df, pd.DataFrame({'Model Degree': [degree],\n",
    "                                                      'R-Squared': [f\"{mean_r2:.2f} ± {std_r2:.2f}\"],\n",
    "                                                      'MAE': [f\"{mean_mae:.2f} ± {std_mae:.2f}\"]})],\n",
    "                           ignore_index=True)\n"
   ]
  },
  {
   "attachments": {},
   "cell_type": "markdown",
   "metadata": {},
   "source": [
    "**# Print the results table**"
   ]
  },
  {
   "cell_type": "code",
   "execution_count": 22,
   "metadata": {},
   "outputs": [
    {
     "name": "stdout",
     "output_type": "stream",
     "text": [
      "  Model Degree             R-Squared               MAE\n",
      "0            0          -0.03 ± 0.04      66.05 ± 3.47\n",
      "1            1           0.48 ± 0.05      44.28 ± 2.10\n",
      "2            2          -0.35 ± 0.65     63.55 ± 14.95\n",
      "3            3      -203.42 ± 225.88   342.05 ± 142.44\n",
      "4            4      -571.08 ± 369.89   657.26 ± 159.48\n",
      "5            5      -436.86 ± 379.10    562.99 ± 59.92\n",
      "6            6    -1695.48 ± 2632.42   742.56 ± 191.04\n",
      "7            7    -5530.89 ± 9518.59  1032.68 ± 393.44\n",
      "8            8  -16076.26 ± 28049.95  1475.66 ± 706.28\n"
     ]
    }
   ],
   "source": [
    "print(results_df)\n"
   ]
  },
  {
   "attachments": {},
   "cell_type": "markdown",
   "metadata": {},
   "source": [
    "**# Identify the best model based on R-Squared and MAE metrics**"
   ]
  },
  {
   "cell_type": "code",
   "execution_count": 24,
   "metadata": {},
   "outputs": [
    {
     "name": "stdout",
     "output_type": "stream",
     "text": [
      "\n",
      "Best Model:\n",
      "  Model Degree  R-Squared      MAE\n",
      "8            8   16076.26  1475.66\n",
      "1            1       0.48    44.28\n"
     ]
    }
   ],
   "source": [
    "# Convert 'R-Squared' and 'MAE' columns to numeric values\n",
    "results_df['R-Squared'] = results_df['R-Squared'].str.extract('(\\d+\\.\\d+)')\n",
    "results_df['MAE'] = results_df['MAE'].str.extract('(\\d+\\.\\d+)')\n",
    "\n",
    "# Convert the columns to numeric dtype\n",
    "results_df['R-Squared'] = pd.to_numeric(results_df['R-Squared'])\n",
    "results_df['MAE'] = pd.to_numeric(results_df['MAE'])\n",
    "\n",
    "best_model_r2 = results_df['R-Squared'].idxmax()\n",
    "best_model_mae = results_df['MAE'].idxmin()\n",
    "best_model = results_df.loc[[best_model_r2, best_model_mae]]\n",
    "print(\"\\nBest Model:\")\n",
    "print(best_model)\n",
    "\n"
   ]
  },
  {
   "attachments": {},
   "cell_type": "markdown",
   "metadata": {},
   "source": [
    "**# Explanation for Choosing the Specific Model**<br>\n",
    "-> The model with a polynomial degree of 8 is chosen as the best model based on the highest R-Squared value (**16076.26**) and relatively low Mean Absolute Error (MAE) value (**1475.66**). <br>\n",
    "-> This model demonstrates the ability to explain a significant amount of variance in the target variable and provides reasonably accurate predictions. <br>-> However, the high degree of complexity in this model may increase the risk of overfitting, so careful consideration should be given to the trade-off between complexity and performance."
   ]
  }
 ],
 "metadata": {
  "kernelspec": {
   "display_name": "CSCN8010_classic_ml",
   "language": "python",
   "name": "python3"
  },
  "language_info": {
   "codemirror_mode": {
    "name": "ipython",
    "version": 3
   },
   "file_extension": ".py",
   "mimetype": "text/x-python",
   "name": "python",
   "nbconvert_exporter": "python",
   "pygments_lexer": "ipython3",
   "version": "3.11.3"
  },
  "orig_nbformat": 4
 },
 "nbformat": 4,
 "nbformat_minor": 2
}
