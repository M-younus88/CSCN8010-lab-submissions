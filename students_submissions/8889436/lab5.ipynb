{
 "cells": [
  {
   "attachments": {},
   "cell_type": "markdown",
   "metadata": {},
   "source": [
    "# Lab 5 - Sudhan Shrestha 8889436"
   ]
  },
  {
   "attachments": {},
   "cell_type": "markdown",
   "metadata": {},
   "source": [
    "#### 1. Utilize the diabetes dataset from lab 4. Perform cross-validation on nine polynomial models, ranging from degree 0 to 8. (2 points)"
   ]
  },
  {
   "cell_type": "code",
   "execution_count": 11,
   "metadata": {},
   "outputs": [],
   "source": [
    "# Importing the necessary packages\n",
    "from sklearn import datasets\n",
    "from sklearn.metrics import mean_absolute_error\n",
    "import matplotlib.pyplot as plt\n",
    "from sklearn.model_selection import train_test_split\n",
    "from sklearn.linear_model import LinearRegression\n",
    "from sklearn.preprocessing import PolynomialFeatures\n",
    "from sklearn.pipeline import make_pipeline\n",
    "from sklearn.model_selection import cross_val_score\n",
    "from sklearn import metrics\n",
    "import numpy as np\n",
    "import pandas as pd\n",
    "\n",
    "# importing the dataset used in lab 4\n",
    "X, y = datasets.load_diabetes(as_frame=True, scaled=False, return_X_y=True)"
   ]
  },
  {
   "attachments": {},
   "cell_type": "markdown",
   "metadata": {},
   "source": [
    "#### 2. Construct a table summarizing the cross-validation results. Each model should have a separate row in the table. Include the R-Squared and Mean Absolute Error (MAE) metrics for each model. Calculate the mean value and standard deviation of these metrics from the cross-validation. Include both values. (2 points)"
   ]
  },
  {
   "cell_type": "code",
   "execution_count": 12,
   "metadata": {},
   "outputs": [],
   "source": [
    "degrees = np.arange(0, 9)  # creating degree rangin from 0 to 8\n",
    "\n",
    "cross_val_results = [] # empty list to store all crossvalidation metrics\n",
    "# looping through every degree\n",
    "for degree in degrees:\n",
    "    # creating a pipeline. to create polynomial feature and apply linear regression\n",
    "    model = make_pipeline(PolynomialFeatures(degree), LinearRegression())\n",
    "    # using cross-validation to find the r-squared coefficient score across 5 splits of data\n",
    "    r2_score = cross_val_score(model, X, y, cv=5, scoring='r2')\n",
    "    r2_mean = r2_score.mean()\n",
    "    r2_std = r2_score.std()\n",
    "    # using cross-validation to find the negative-mean absoulte error score across 5 splits of data\n",
    "    mae_score = cross_val_score(model, X, y, cv=5, scoring='neg_mean_absolute_error')\n",
    "    mae_mean = mae_score.mean()\n",
    "    mae_std = mae_score.std()\n",
    "    # Stroing all these cross-validation score results.\n",
    "    cross_val_results.append([r2_mean, r2_std, mae_mean, mae_std])"
   ]
  },
  {
   "cell_type": "code",
   "execution_count": 15,
   "metadata": {},
   "outputs": [
    {
     "data": {
      "text/html": [
       "<div>\n",
       "<style scoped>\n",
       "    .dataframe tbody tr th:only-of-type {\n",
       "        vertical-align: middle;\n",
       "    }\n",
       "\n",
       "    .dataframe tbody tr th {\n",
       "        vertical-align: top;\n",
       "    }\n",
       "\n",
       "    .dataframe thead th {\n",
       "        text-align: right;\n",
       "    }\n",
       "</style>\n",
       "<table border=\"1\" class=\"dataframe\">\n",
       "  <thead>\n",
       "    <tr style=\"text-align: right;\">\n",
       "      <th></th>\n",
       "      <th>R-squared mean</th>\n",
       "      <th>R-squared standard devation</th>\n",
       "      <th>MAE mean</th>\n",
       "      <th>MAE standard devation</th>\n",
       "    </tr>\n",
       "  </thead>\n",
       "  <tbody>\n",
       "    <tr>\n",
       "      <th>0</th>\n",
       "      <td>-0.027506</td>\n",
       "      <td>0.036772</td>\n",
       "      <td>-66.045624</td>\n",
       "      <td>3.474660</td>\n",
       "    </tr>\n",
       "    <tr>\n",
       "      <th>1</th>\n",
       "      <td>0.482316</td>\n",
       "      <td>0.049269</td>\n",
       "      <td>-44.276499</td>\n",
       "      <td>2.100110</td>\n",
       "    </tr>\n",
       "    <tr>\n",
       "      <th>2</th>\n",
       "      <td>-1.485182</td>\n",
       "      <td>1.618007</td>\n",
       "      <td>-80.595439</td>\n",
       "      <td>24.657166</td>\n",
       "    </tr>\n",
       "    <tr>\n",
       "      <th>3</th>\n",
       "      <td>-203.418938</td>\n",
       "      <td>225.878146</td>\n",
       "      <td>-342.051924</td>\n",
       "      <td>142.437752</td>\n",
       "    </tr>\n",
       "    <tr>\n",
       "      <th>4</th>\n",
       "      <td>-571.083108</td>\n",
       "      <td>369.891884</td>\n",
       "      <td>-657.260477</td>\n",
       "      <td>159.475902</td>\n",
       "    </tr>\n",
       "    <tr>\n",
       "      <th>5</th>\n",
       "      <td>-436.856887</td>\n",
       "      <td>379.100423</td>\n",
       "      <td>-562.993636</td>\n",
       "      <td>59.917202</td>\n",
       "    </tr>\n",
       "    <tr>\n",
       "      <th>6</th>\n",
       "      <td>-1694.550210</td>\n",
       "      <td>2629.989561</td>\n",
       "      <td>-742.717488</td>\n",
       "      <td>190.709474</td>\n",
       "    </tr>\n",
       "    <tr>\n",
       "      <th>7</th>\n",
       "      <td>-5530.894075</td>\n",
       "      <td>9518.586954</td>\n",
       "      <td>-1032.681725</td>\n",
       "      <td>393.439617</td>\n",
       "    </tr>\n",
       "    <tr>\n",
       "      <th>8</th>\n",
       "      <td>-16076.255118</td>\n",
       "      <td>28049.952580</td>\n",
       "      <td>-1475.658532</td>\n",
       "      <td>706.280274</td>\n",
       "    </tr>\n",
       "  </tbody>\n",
       "</table>\n",
       "</div>"
      ],
      "text/plain": [
       "   R-squared mean  R-squared standard devation     MAE mean   \n",
       "0       -0.027506                     0.036772   -66.045624  \\\n",
       "1        0.482316                     0.049269   -44.276499   \n",
       "2       -1.485182                     1.618007   -80.595439   \n",
       "3     -203.418938                   225.878146  -342.051924   \n",
       "4     -571.083108                   369.891884  -657.260477   \n",
       "5     -436.856887                   379.100423  -562.993636   \n",
       "6    -1694.550210                  2629.989561  -742.717488   \n",
       "7    -5530.894075                  9518.586954 -1032.681725   \n",
       "8   -16076.255118                 28049.952580 -1475.658532   \n",
       "\n",
       "   MAE standard devation  \n",
       "0               3.474660  \n",
       "1               2.100110  \n",
       "2              24.657166  \n",
       "3             142.437752  \n",
       "4             159.475902  \n",
       "5              59.917202  \n",
       "6             190.709474  \n",
       "7             393.439617  \n",
       "8             706.280274  "
      ]
     },
     "execution_count": 15,
     "metadata": {},
     "output_type": "execute_result"
    }
   ],
   "source": [
    "# Creating a data frame from the data generated above\n",
    "\n",
    "columns = ['R-squared mean', 'R-squared standard devation', 'MAE mean', 'MAE standard devation']\n",
    "metrics_df = pd.DataFrame(cross_val_results, columns=columns)\n",
    "metrics_df"
   ]
  },
  {
   "attachments": {},
   "cell_type": "markdown",
   "metadata": {},
   "source": [
    "#### 3. Identification of the Best Model: Identify the model that exhibits the highest performance based on the R-Squared and MAE metrics. Provide an explanation for choosing this specific model. (2 points)"
   ]
  },
  {
   "cell_type": "code",
   "execution_count": 14,
   "metadata": {},
   "outputs": [
    {
     "name": "stdout",
     "output_type": "stream",
     "text": [
      "The best degree in both scoring metrics : \n",
      "R-Squared metrics: The best degree is 1.\n",
      "MAE: The best degree is 1.\n"
     ]
    }
   ],
   "source": [
    "# choosing the degree with the highest cross validation score on R-Squared\n",
    "print(\"The best degree in both scoring metrics : \")\n",
    "best_degree = degrees[np.argmax(metrics_df['R-squared mean'])]\n",
    "print(f\"R-Squared metrics: The best degree is {best_degree}.\")\n",
    "# choosing the degree with the highest cross validation score on MAE\n",
    "best_degree = degrees[np.argmax(metrics_df['MAE mean'])]\n",
    "print(f\"MAE: The best degree is {best_degree}.\")"
   ]
  },
  {
   "attachments": {},
   "cell_type": "markdown",
   "metadata": {},
   "source": [
    "\n",
    "To find the best model we need to determine the mean value from both the metrics R-Squarred and MAE which are used to find the best fit.\n",
    "\n",
    "After observing the table above and perofming the `argmax()` function on both the R-Squared and MAE we come to find that the model with degree 1 has the highest R-squarted mean value among all the other values `(0.482316)`, which means that it has a better fit than other values as; A R<sup>2</sup>  of 1 indicates that the regression predictions perfectly fit the data and values of R<sup>2</sup> outside the range of 0 to 1 occurs when the model fit the data worse than the wrost possinle least-square predictor [Source- wiki](https://en.wikipedia.org/wiki/Coefficient_of_determination).\n",
    "\n",
    "Also the Mean Absolute Error (MAE) for degree 1 is  `(-44.276499)` which means it has better fit; as MAE is an error metics which means the lower the value the better the fit and since we have negative MAE the opposite is true in our case.\n",
    "\n",
    "Hence, since `degree of 1` has both the highest R-squared and the lowest Mean Absoulte Error (MAE) we can say that the `model with degree 1` has the best fit among all."
   ]
  }
 ],
 "metadata": {
  "kernelspec": {
   "display_name": "CSCN8010_classic_ml",
   "language": "python",
   "name": "cscn8010_classic_ml"
  },
  "language_info": {
   "codemirror_mode": {
    "name": "ipython",
    "version": 3
   },
   "file_extension": ".py",
   "mimetype": "text/x-python",
   "name": "python",
   "nbconvert_exporter": "python",
   "pygments_lexer": "ipython3",
   "version": "3.11.1"
  },
  "orig_nbformat": 4
 },
 "nbformat": 4,
 "nbformat_minor": 2
}
