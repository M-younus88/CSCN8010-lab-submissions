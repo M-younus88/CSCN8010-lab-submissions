{
 "cells": [
  {
   "attachments": {},
   "cell_type": "markdown",
   "metadata": {},
   "source": [
    "**lab5**"
   ]
  },
  {
   "attachments": {},
   "cell_type": "markdown",
   "metadata": {},
   "source": [
    "***1.Utilize the diabetes dataset from lab 4. Perform cross-validation on nine polynomial models, ranging from degree 0 to 8.***"
   ]
  },
  {
   "cell_type": "code",
   "execution_count": 3,
   "metadata": {},
   "outputs": [],
   "source": [
    "#import libraries\n",
    "import numpy as np\n",
    "import pandas as pd\n",
    "from sklearn import datasets\n",
    "from sklearn.linear_model import LinearRegression\n",
    "from sklearn.preprocessing import PolynomialFeatures\n",
    "from sklearn.model_selection import cross_val_score\n",
    "from sklearn.pipeline import make_pipeline\n"
   ]
  },
  {
   "cell_type": "code",
   "execution_count": 18,
   "metadata": {},
   "outputs": [
    {
     "name": "stdout",
     "output_type": "stream",
     "text": [
      "best degree: 1\n"
     ]
    }
   ],
   "source": [
    "\n",
    "\n",
    "degrees = range(9)## Define the range of polynomial degrees\n",
    "cv_scores = []\n",
    "# Perform cross-validation for each polynomial degree\n",
    "for degree in degrees:\n",
    "    # Create a pipeline with PolynomialFeatures and LinearRegression\n",
    "    model = make_pipeline(PolynomialFeatures(degree), LinearRegression())\n",
    "    scores = cross_val_score(model, X, y, cv=5, scoring='neg_mean_squared_error')\n",
    "    cv_scores.append(-np.mean(scores))\n",
    "\n",
    "b_d = np.argmin(cv_scores)# the polynomial degree with the minimum mean squared error\n",
    "print(\"best degree:\", b_d)"
   ]
  },
  {
   "attachments": {},
   "cell_type": "markdown",
   "metadata": {},
   "source": [
    "*2.Construct a table summarizing the cross-validation results. Each model should have a separate row in the table. Include the R-Squared and Mean Absolute Error (MAE) metrics for each model. Calculate the mean value and standard deviation of these metrics from the cross-validation. Include both values.*"
   ]
  },
  {
   "cell_type": "code",
   "execution_count": 24,
   "metadata": {},
   "outputs": [
    {
     "name": "stdout",
     "output_type": "stream",
     "text": [
      "  Degree     R-Squared          MAE\n",
      "0      0     -0.008824    66.039250\n",
      "1      1      0.495322    44.274856\n",
      "2      2     -0.584010    66.843447\n",
      "3      3   -195.307974   341.371750\n",
      "4      4   -572.361896   656.629284\n",
      "5      5   -446.482486   563.019974\n",
      "6      6  -1790.845731   742.985388\n",
      "7      7  -5894.999471  1033.741782\n",
      "8      8 -17172.387613  1477.455476\n",
      "\n",
      "Mean R-Squared: -2896.943\n",
      "Mean MAE: 554.707\n",
      "Standard Deviation of R-Squared: 5677.628\n",
      "Standard Deviation of MAE: 488.583\n"
     ]
    }
   ],
   "source": [
    "from sklearn.calibration import cross_val_predict\n",
    "from sklearn.metrics import mean_absolute_error,r2_score\n",
    "# Create a table to summarize the cross-validation results\n",
    "results= pd.DataFrame(columns=['Degree', 'R-Squared', 'MAE'])\n",
    "for degree in degrees:\n",
    "    \n",
    "    model = make_pipeline(PolynomialFeatures(degree), LinearRegression())#pipeline with polynomial and linear regression\n",
    "    y_p = cross_val_predict(model, X, y, cv=5)\n",
    "    r2 = r2_score(y, y_p)\n",
    "    mae = mean_absolute_error(y, y_p)\n",
    "    r = pd.DataFrame([[degree, r2, mae]], columns=['Degree', 'R-Squared', 'MAE'])\n",
    "    results = pd.concat([results, r], ignore_index=True)#concatinate\n",
    "\n",
    "# Calculate mean and standard deviation of R-Squared and MAE\n",
    "m_r2 = results['R-Squared'].mean()\n",
    "sd_r2 = results['R-Squared'].std()\n",
    "m_mae = results['MAE'].mean()\n",
    "sd_mae = results['MAE'].std()\n",
    "print(results)# Print the  table\n",
    "print(f\"\\nMean R-Squared: {m_r2:.3f}\")\n",
    "print(f\"Mean MAE: {m_mae:.3f}\")\n",
    "print(f\"Standard Deviation of R-Squared: {sd_r2:.3f}\")\n",
    "print(f\"Standard Deviation of MAE: {sd_mae:.3f}\")"
   ]
  },
  {
   "attachments": {},
   "cell_type": "markdown",
   "metadata": {},
   "source": [
    "*3.Identification of the Best Model: Identify the model that exhibits the highest performance based on the R-Squared and MAE metrics. Provide an explanation for choosing this specific model.*"
   ]
  },
  {
   "cell_type": "code",
   "execution_count": 30,
   "metadata": {},
   "outputs": [
    {
     "name": "stdout",
     "output_type": "stream",
     "text": [
      "\n",
      "the highest R-Squared value:\n",
      "Degree               1\n",
      "R-Squared     0.495322\n",
      "MAE          44.274856\n",
      "Name: 1, dtype: object\n",
      "\n",
      "the lowest MAE value:\n",
      "Degree               1\n",
      "R-Squared     0.495322\n",
      "MAE          44.274856\n",
      "Name: 1, dtype: object\n"
     ]
    }
   ],
   "source": [
    "\n",
    "b_r2_m = results.loc[results['R-Squared'].idxmax()]# the highest R-Squared value\n",
    "mae_m = results.loc[results['MAE'].idxmin()]# the lowest MAE value\n",
    "print(f\"\\nthe highest R-Squared value:\\n{b_r2_m}\")#the highest R-Squared value\n",
    "print(f\"\\nthe lowest MAE value:\\n{mae_m}\")# the lowest MAE value"
   ]
  },
  {
   "attachments": {},
   "cell_type": "markdown",
   "metadata": {},
   "source": [
    "This code will identify the best model based on the highest R-Squared value and the lowest MAE value from the cross-validation results. The 'best_r2_model' and 'best_mae_model' variables will contain the row of the results table corresponding to the best model for each metric.if you  prioritize the higher r squared then model with highest r squred will be the best,meanwhile you lookkng for loweest MAE value then the model with highest MAE will be the one that best to you."
   ]
  }
 ],
 "metadata": {
  "kernelspec": {
   "display_name": "CSCN8010_classic_ml",
   "language": "python",
   "name": "cscn8010_classic_ml"
  },
  "language_info": {
   "codemirror_mode": {
    "name": "ipython",
    "version": 3
   },
   "file_extension": ".py",
   "mimetype": "text/x-python",
   "name": "python",
   "nbconvert_exporter": "python",
   "pygments_lexer": "ipython3",
   "version": "3.11.3"
  },
  "orig_nbformat": 4
 },
 "nbformat": 4,
 "nbformat_minor": 2
}
