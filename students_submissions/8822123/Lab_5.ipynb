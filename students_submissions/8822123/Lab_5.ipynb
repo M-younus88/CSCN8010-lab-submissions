{
 "cells": [
  {
   "cell_type": "code",
   "execution_count": 74,
   "id": "40bbeef3",
   "metadata": {},
   "outputs": [],
   "source": [
    "import numpy as np\n",
    "import pandas as pd\n",
    "from sklearn.datasets import load_diabetes\n",
    "from sklearn.model_selection import cross_validate\n",
    "from sklearn.linear_model import LinearRegression\n",
    "from sklearn.preprocessing import PolynomialFeatures\n",
    "from sklearn.pipeline import make_pipeline\n",
    "\n"
   ]
  },
  {
   "cell_type": "markdown",
   "id": "8733563d",
   "metadata": {},
   "source": [
    "# Load the diabetes dataset\n"
   ]
  },
  {
   "cell_type": "code",
   "execution_count": 75,
   "id": "25ae5d1f",
   "metadata": {},
   "outputs": [],
   "source": [
    "diabetes = load_diabetes(as_frame=True)\n",
    "x = diabetes.data\n",
    "y = diabetes.target"
   ]
  },
  {
   "cell_type": "code",
   "execution_count": 76,
   "id": "be554a55",
   "metadata": {},
   "outputs": [
    {
     "data": {
      "text/html": [
       "<div>\n",
       "<style scoped>\n",
       "    .dataframe tbody tr th:only-of-type {\n",
       "        vertical-align: middle;\n",
       "    }\n",
       "\n",
       "    .dataframe tbody tr th {\n",
       "        vertical-align: top;\n",
       "    }\n",
       "\n",
       "    .dataframe thead th {\n",
       "        text-align: right;\n",
       "    }\n",
       "</style>\n",
       "<table border=\"1\" class=\"dataframe\">\n",
       "  <thead>\n",
       "    <tr style=\"text-align: right;\">\n",
       "      <th></th>\n",
       "      <th>age</th>\n",
       "      <th>sex</th>\n",
       "      <th>bmi</th>\n",
       "      <th>bp</th>\n",
       "      <th>s1</th>\n",
       "      <th>s2</th>\n",
       "      <th>s3</th>\n",
       "      <th>s4</th>\n",
       "      <th>s5</th>\n",
       "      <th>s6</th>\n",
       "    </tr>\n",
       "  </thead>\n",
       "  <tbody>\n",
       "    <tr>\n",
       "      <th>0</th>\n",
       "      <td>0.038076</td>\n",
       "      <td>0.050680</td>\n",
       "      <td>0.061696</td>\n",
       "      <td>0.021872</td>\n",
       "      <td>-0.044223</td>\n",
       "      <td>-0.034821</td>\n",
       "      <td>-0.043401</td>\n",
       "      <td>-0.002592</td>\n",
       "      <td>0.019907</td>\n",
       "      <td>-0.017646</td>\n",
       "    </tr>\n",
       "    <tr>\n",
       "      <th>1</th>\n",
       "      <td>-0.001882</td>\n",
       "      <td>-0.044642</td>\n",
       "      <td>-0.051474</td>\n",
       "      <td>-0.026328</td>\n",
       "      <td>-0.008449</td>\n",
       "      <td>-0.019163</td>\n",
       "      <td>0.074412</td>\n",
       "      <td>-0.039493</td>\n",
       "      <td>-0.068332</td>\n",
       "      <td>-0.092204</td>\n",
       "    </tr>\n",
       "    <tr>\n",
       "      <th>2</th>\n",
       "      <td>0.085299</td>\n",
       "      <td>0.050680</td>\n",
       "      <td>0.044451</td>\n",
       "      <td>-0.005670</td>\n",
       "      <td>-0.045599</td>\n",
       "      <td>-0.034194</td>\n",
       "      <td>-0.032356</td>\n",
       "      <td>-0.002592</td>\n",
       "      <td>0.002861</td>\n",
       "      <td>-0.025930</td>\n",
       "    </tr>\n",
       "    <tr>\n",
       "      <th>3</th>\n",
       "      <td>-0.089063</td>\n",
       "      <td>-0.044642</td>\n",
       "      <td>-0.011595</td>\n",
       "      <td>-0.036656</td>\n",
       "      <td>0.012191</td>\n",
       "      <td>0.024991</td>\n",
       "      <td>-0.036038</td>\n",
       "      <td>0.034309</td>\n",
       "      <td>0.022688</td>\n",
       "      <td>-0.009362</td>\n",
       "    </tr>\n",
       "    <tr>\n",
       "      <th>4</th>\n",
       "      <td>0.005383</td>\n",
       "      <td>-0.044642</td>\n",
       "      <td>-0.036385</td>\n",
       "      <td>0.021872</td>\n",
       "      <td>0.003935</td>\n",
       "      <td>0.015596</td>\n",
       "      <td>0.008142</td>\n",
       "      <td>-0.002592</td>\n",
       "      <td>-0.031988</td>\n",
       "      <td>-0.046641</td>\n",
       "    </tr>\n",
       "  </tbody>\n",
       "</table>\n",
       "</div>"
      ],
      "text/plain": [
       "        age       sex       bmi        bp        s1        s2        s3  \\\n",
       "0  0.038076  0.050680  0.061696  0.021872 -0.044223 -0.034821 -0.043401   \n",
       "1 -0.001882 -0.044642 -0.051474 -0.026328 -0.008449 -0.019163  0.074412   \n",
       "2  0.085299  0.050680  0.044451 -0.005670 -0.045599 -0.034194 -0.032356   \n",
       "3 -0.089063 -0.044642 -0.011595 -0.036656  0.012191  0.024991 -0.036038   \n",
       "4  0.005383 -0.044642 -0.036385  0.021872  0.003935  0.015596  0.008142   \n",
       "\n",
       "         s4        s5        s6  \n",
       "0 -0.002592  0.019907 -0.017646  \n",
       "1 -0.039493 -0.068332 -0.092204  \n",
       "2 -0.002592  0.002861 -0.025930  \n",
       "3  0.034309  0.022688 -0.009362  \n",
       "4 -0.002592 -0.031988 -0.046641  "
      ]
     },
     "execution_count": 76,
     "metadata": {},
     "output_type": "execute_result"
    }
   ],
   "source": [
    "x.head()"
   ]
  },
  {
   "cell_type": "markdown",
   "id": "9a78a572",
   "metadata": {},
   "source": [
    "# Creation of a table to store the cross-validation results:"
   ]
  },
  {
   "cell_type": "code",
   "execution_count": 77,
   "id": "d33cbb01",
   "metadata": {},
   "outputs": [],
   "source": [
    "results_table = pd.DataFrame(columns=['Degree', 'R-Squared', 'MAE'])"
   ]
  },
  {
   "cell_type": "code",
   "execution_count": 78,
   "id": "a79dea9a",
   "metadata": {
    "scrolled": true
   },
   "outputs": [
    {
     "name": "stdout",
     "output_type": "stream",
     "text": [
      "  Degree               R-Squared                    MAE       Model\n",
      "0      0      -0.0275 +/- 0.0368     66.0456 +/- 3.4747  Polynomial\n",
      "1      1       0.4823 +/- 0.0493     44.2765 +/- 2.1001  Polynomial\n",
      "2      2       0.3915 +/- 0.1205     46.6129 +/- 2.1921  Polynomial\n",
      "3      3  -184.3914 +/- 229.2602  342.2003 +/- 140.2360  Polynomial\n",
      "4      4    -70.6675 +/- 53.1608   303.1585 +/- 39.3598  Polynomial\n",
      "5      5    -67.3874 +/- 50.7971   295.6860 +/- 37.2559  Polynomial\n",
      "6      6    -67.4475 +/- 50.9571   295.6319 +/- 37.2806  Polynomial\n",
      "7      7    -67.4485 +/- 50.9594   295.6304 +/- 37.2814  Polynomial\n",
      "8      8    -67.4478 +/- 50.9605   295.6275 +/- 37.2810  Polynomial\n"
     ]
    }
   ],
   "source": [
    "from sklearn.model_selection import cross_val_score\n",
    "\n",
    "degrees = range(9) \n",
    "for degree in degrees:\n",
    "    # Create polynomial features\n",
    "    poly_features = PolynomialFeatures(degree=degree)\n",
    "    X_poly = poly_features.fit_transform(x)\n",
    "\n",
    "    # Create a linear regression model\n",
    "    model = LinearRegression()\n",
    "\n",
    "    # Perform cross-validation\n",
    "    scores = cross_val_score(model, X_poly, y, cv=5, scoring='r2')\n",
    "    mae_scores = cross_val_score(model, X_poly, y, cv=5, scoring='neg_mean_absolute_error')\n",
    "\n",
    "    # Calculate mean and standard deviation of scores\n",
    "    r2_mean = np.mean(scores)\n",
    "    r2_std = np.std(scores)\n",
    "    mae_mean = -np.mean(mae_scores)\n",
    "    mae_std = np.std(-mae_scores)\n",
    "\n",
    "    # Store the results in the table\n",
    "    results_table = results_table.append({\n",
    "        'Model': 'Polynomial',\n",
    "        'Degree': degree,\n",
    "        'R-Squared': f\"{r2_mean:.4f} +/- {r2_std:.4f}\",\n",
    "        'MAE': f\"{mae_mean:.4f} +/- {mae_std:.4f}\"\n",
    "    }, ignore_index=True)\n",
    "\n",
    "# Print the results table\n",
    "print(results_table)"
   ]
  },
  {
   "cell_type": "markdown",
   "id": "52c6c29a",
   "metadata": {},
   "source": [
    "# Calculation of mean and standard deviation of the R-Squared and MAE metrics"
   ]
  },
  {
   "cell_type": "code",
   "execution_count": 79,
   "id": "61f673fa",
   "metadata": {
    "scrolled": true
   },
   "outputs": [
    {
     "name": "stdout",
     "output_type": "stream",
     "text": [
      "  Degree               R-Squared                    MAE       Model\n",
      "0      0      -0.0275 +/- 0.0368     66.0456 +/- 3.4747  Polynomial\n",
      "1      1       0.4823 +/- 0.0493     44.2765 +/- 2.1001  Polynomial\n",
      "2      2       0.3915 +/- 0.1205     46.6129 +/- 2.1921  Polynomial\n",
      "3      3  -184.3914 +/- 229.2602  342.2003 +/- 140.2360  Polynomial\n",
      "4      4    -70.6675 +/- 53.1608   303.1585 +/- 39.3598  Polynomial\n",
      "5      5    -67.3874 +/- 50.7971   295.6860 +/- 37.2559  Polynomial\n",
      "6      6    -67.4475 +/- 50.9571   295.6319 +/- 37.2806  Polynomial\n",
      "7      7    -67.4485 +/- 50.9594   295.6304 +/- 37.2814  Polynomial\n",
      "8      8    -67.4478 +/- 50.9605   295.6275 +/- 37.2810  Polynomial\n"
     ]
    }
   ],
   "source": [
    "print(results_table)"
   ]
  },
  {
   "cell_type": "code",
   "execution_count": null,
   "id": "3e2dc78d",
   "metadata": {},
   "outputs": [],
   "source": []
  }
 ],
 "metadata": {
  "kernelspec": {
   "display_name": "Python 3",
   "language": "python",
   "name": "python3"
  },
  "language_info": {
   "codemirror_mode": {
    "name": "ipython",
    "version": 3
   },
   "file_extension": ".py",
   "mimetype": "text/x-python",
   "name": "python",
   "nbconvert_exporter": "python",
   "pygments_lexer": "ipython3",
   "version": "3.8.8"
  }
 },
 "nbformat": 4,
 "nbformat_minor": 5
}
